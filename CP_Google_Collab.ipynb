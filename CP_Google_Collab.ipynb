{
  "nbformat": 4,
  "nbformat_minor": 0,
  "metadata": {
    "colab": {
      "provenance": [],
      "collapsed_sections": [
        "KrNL9NjoRMln",
        "4kP8xe7yRYi4",
        "0Bu6UGl1S3_C",
        "3DJtA_HYTFB4",
        "sEm8DXxYUKPn",
        "NpRuXDRYUzPZ",
        "UYHihLQgdmK1",
        "lpQxzL9GpR1g",
        "sLAw4Enm2R_m",
        "YWeUDwHN2kgz",
        "aAN-9Ttd3iFq",
        "snckD8Uq5CKk",
        "ikXzdqyL_DML",
        "pvpw1y-k_NFb",
        "I8eO7Iz8_Qk2",
        "xgb8LhI__UYZ",
        "wChhXSns_XEN",
        "Uh9I7xqrPpl3",
        "uF1mhoOcPsru",
        "F01gbAd1PsxW",
        "BniueIMxPs05",
        "sICZ7SwmPtIX",
        "y73gxRkLp0GW",
        "ojHTXr9pqr7K",
        "I6p1HYFzuEQR",
        "U9S_4WvC0pWe",
        "xCGzKCEX9rcr",
        "C3_wbPY2bXeP",
        "HrZxlXVbidjb",
        "Zwsbnmy7J-Ey",
        "DpPLUJLlKIq2",
        "N7ioKiUKKIwb",
        "qocMNxsLKI1z",
        "0SkoVHy_KJDR",
        "oQvg26idITm6",
        "PZYsEuNvIqxp",
        "s-WHQQfuPLOm",
        "SyXrZxuUOp_-",
        "FaVXxqcBPl-2",
        "cm-R9TyRfGcm",
        "Bca5T6xDgsAQ",
        "0Lf7x8jWpRCS",
        "Ut9EUup3qy_D",
        "fdNQG6aJtnqm",
        "2EXkSx0emfy7",
        "SBsiYGULmjO_",
        "fLqmR1XQ27CN",
        "GKiiLcKG4tsC",
        "5gua8U394uCn",
        "oEgZQ5o17sVf",
        "RoDOxEtuAfUT",
        "kCaNvUP-AhK0",
        "Tgn2RnMMFSQN",
        "zL2BWLZjOFKg",
        "Xgt_ip4bOLiI",
        "v-98Fq-9ONC5"
      ]
    },
    "kernelspec": {
      "name": "python3",
      "display_name": "Python 3"
    },
    "language_info": {
      "name": "python"
    }
  },
  "cells": [
    {
      "cell_type": "markdown",
      "source": [
        "# **Restaurant Recommendation**"
      ],
      "metadata": {
        "id": "rv0mTkfPQ1OM"
      }
    },
    {
      "cell_type": "markdown",
      "source": [
        "## **Problem Statement**"
      ],
      "metadata": {
        "id": "KrNL9NjoRMln"
      }
    },
    {
      "cell_type": "markdown",
      "source": [
        "Problem Statement: \\\n",
        "1. Customer mana yang banyak melakukan pesanan ke\n",
        "vendor?\n",
        "2. Kapan penjualan tertinggi restoran tersebut terjadi? \n",
        "3. Bagaimanakah hubungan transaksi dengan customer?\n",
        "4. Vendor manakah yang paling banyak melakukan suplai produk? Vendor manakah yang memiliki rating tertinggi?"
      ],
      "metadata": {
        "id": "5yI-fjL6fG92"
      }
    },
    {
      "cell_type": "markdown",
      "source": [
        "## **Mengkoneksikan Colab dengan Gdrive**"
      ],
      "metadata": {
        "id": "4kP8xe7yRYi4"
      }
    },
    {
      "cell_type": "code",
      "source": [
        "# Pertama kita perlu untuk mengkoneksikan Google Colab dengan Google Drive kita agar dapat mengakses file yang disimpan dalam Google Drive\n",
        "from google.colab import drive\n",
        "drive.mount('/content/drive')"
      ],
      "metadata": {
        "colab": {
          "base_uri": "https://localhost:8080/"
        },
        "id": "wSRSBpYp1k12",
        "outputId": "1e032f8c-5702-4093-8b94-7172bc38975a"
      },
      "execution_count": null,
      "outputs": [
        {
          "output_type": "stream",
          "name": "stdout",
          "text": [
            "Mounted at /content/drive\n"
          ]
        }
      ]
    },
    {
      "cell_type": "markdown",
      "source": [
        "## **Import Packages**"
      ],
      "metadata": {
        "id": "0Bu6UGl1S3_C"
      }
    },
    {
      "cell_type": "code",
      "source": [
        "# Import Packages\n",
        "import os\n",
        "import sqlite3\n",
        "import numpy as np\n",
        "import statistics\n",
        "import pandas as pd\n",
        "from datetime import datetime\n",
        "import matplotlib.pyplot as plt\n",
        "import seaborn as sns\n",
        "import plotly.express as px\n",
        "import plotly.graph_objects as go"
      ],
      "metadata": {
        "id": "2uxQ675xS9sp"
      },
      "execution_count": null,
      "outputs": []
    },
    {
      "cell_type": "markdown",
      "source": [
        "## **Setting Path**"
      ],
      "metadata": {
        "id": "3DJtA_HYTFB4"
      }
    },
    {
      "cell_type": "code",
      "source": [
        "# Memuat data\n",
        "path = '/content/drive/MyDrive/Narasio Data Bootcamp/Capstone Project/3. Restaurant Recommendation/'\n",
        "\n",
        "# Cek Directory\n",
        "os.listdir(path)"
      ],
      "metadata": {
        "id": "CVmtimVg5HF4",
        "colab": {
          "base_uri": "https://localhost:8080/"
        },
        "outputId": "16f602ed-e3f9-4413-9265-af2dc4aad115"
      },
      "execution_count": null,
      "outputs": [
        {
          "output_type": "execute_result",
          "data": {
            "text/plain": [
              "['Restaurant_Dataset.db',\n",
              " 'Customers_cleaned.csv',\n",
              " 'Orders_cleaned.csv',\n",
              " 'Vendors_cleaned.csv',\n",
              " 'Locations_cleaned.csv']"
            ]
          },
          "metadata": {},
          "execution_count": 3
        }
      ]
    },
    {
      "cell_type": "markdown",
      "source": [
        "## **Membuat Connection ke Database**"
      ],
      "metadata": {
        "id": "sEm8DXxYUKPn"
      }
    },
    {
      "cell_type": "code",
      "source": [
        "# Membuat connection ke database yang udah ada\n",
        "conn = sqlite3.connect(path + 'Restaurant_Dataset.db')\n",
        "\n",
        "# Membuat cursor object untuk memanggil SQL statement\n",
        "cur = conn.cursor()"
      ],
      "metadata": {
        "id": "P0LPlVQi55BN"
      },
      "execution_count": null,
      "outputs": []
    },
    {
      "cell_type": "code",
      "source": [
        "# Mengecek terdapat tabel apa saja di Restaurant_Dataset.db\n",
        "cur.execute(\"\"\"\n",
        "              SELECT \n",
        "                  name \n",
        "              FROM sqlite_master \n",
        "              WHERE type='table'\n",
        "            \"\"\")\n",
        "\n",
        "print(cur.fetchall())"
      ],
      "metadata": {
        "colab": {
          "base_uri": "https://localhost:8080/"
        },
        "id": "MNooazM06AA9",
        "outputId": "fdb5fac1-7d7f-4be6-8ddf-293e465264d4"
      },
      "execution_count": null,
      "outputs": [
        {
          "output_type": "stream",
          "name": "stdout",
          "text": [
            "[('Orders',), ('Customers',), ('Vendors',), ('Locations',), ('Orders_cleaned',), ('Vendors_cleaned',), ('Locations_cleaned',), ('Customers_cleaned',)]\n"
          ]
        }
      ]
    },
    {
      "cell_type": "markdown",
      "source": [
        "## **Menampilkan Data Masing-Masing Tabel**"
      ],
      "metadata": {
        "id": "NpRuXDRYUzPZ"
      }
    },
    {
      "cell_type": "markdown",
      "source": [
        "Data yang diberikan adalah suatu database, maka perlu dilakukan query untuk menampilka datanya, lalu *assign* ke dalam suatu variable."
      ],
      "metadata": {
        "id": "gOXHRfc9n7pC"
      }
    },
    {
      "cell_type": "code",
      "source": [
        "# Menampilkan data Tabel Customers menggunakan SQL dan meng-assign ke variable 'df_customers'\n",
        "df_customers = pd.read_sql_query(\"SELECT * FROM Customers\", conn)\n",
        "df_customers.head()"
      ],
      "metadata": {
        "colab": {
          "base_uri": "https://localhost:8080/"
        },
        "id": "1nO-Qk-x6LP7",
        "outputId": "24ec99d8-fe09-436c-9da6-b7c8823c2cd6"
      },
      "execution_count": null,
      "outputs": [
        {
          "output_type": "execute_result",
          "data": {
            "text/plain": [
              "  customer_id gender   dob  status  verified           created_at  \\\n",
              "0     ICE2DJP   male  2006       1         1  2018-02-07 16:45:36   \n",
              "1     FWNUI71   male  2007       1         1  2018-03-22 20:11:47   \n",
              "2     LRX7BCH   male  1992       1         1  2018-04-17 20:01:15   \n",
              "3     D96DHMD   male  1999       1         1  2018-04-29 22:35:52   \n",
              "4     88Q8Y5V   male  1997       1         1  2018-05-05 12:38:09   \n",
              "\n",
              "            updated_at  \n",
              "0  2018-02-07 16:45:36  \n",
              "1  2018-03-22 20:11:47  \n",
              "2  2018-04-17 20:01:15  \n",
              "3  2018-04-29 22:35:52  \n",
              "4  2018-05-05 12:38:09  "
            ],
            "text/html": [
              "\n",
              "  <div id=\"df-d2efb51c-c4f2-4461-abcd-2cc44902b38f\">\n",
              "    <div class=\"colab-df-container\">\n",
              "      <div>\n",
              "<style scoped>\n",
              "    .dataframe tbody tr th:only-of-type {\n",
              "        vertical-align: middle;\n",
              "    }\n",
              "\n",
              "    .dataframe tbody tr th {\n",
              "        vertical-align: top;\n",
              "    }\n",
              "\n",
              "    .dataframe thead th {\n",
              "        text-align: right;\n",
              "    }\n",
              "</style>\n",
              "<table border=\"1\" class=\"dataframe\">\n",
              "  <thead>\n",
              "    <tr style=\"text-align: right;\">\n",
              "      <th></th>\n",
              "      <th>customer_id</th>\n",
              "      <th>gender</th>\n",
              "      <th>dob</th>\n",
              "      <th>status</th>\n",
              "      <th>verified</th>\n",
              "      <th>created_at</th>\n",
              "      <th>updated_at</th>\n",
              "    </tr>\n",
              "  </thead>\n",
              "  <tbody>\n",
              "    <tr>\n",
              "      <th>0</th>\n",
              "      <td>ICE2DJP</td>\n",
              "      <td>male</td>\n",
              "      <td>2006</td>\n",
              "      <td>1</td>\n",
              "      <td>1</td>\n",
              "      <td>2018-02-07 16:45:36</td>\n",
              "      <td>2018-02-07 16:45:36</td>\n",
              "    </tr>\n",
              "    <tr>\n",
              "      <th>1</th>\n",
              "      <td>FWNUI71</td>\n",
              "      <td>male</td>\n",
              "      <td>2007</td>\n",
              "      <td>1</td>\n",
              "      <td>1</td>\n",
              "      <td>2018-03-22 20:11:47</td>\n",
              "      <td>2018-03-22 20:11:47</td>\n",
              "    </tr>\n",
              "    <tr>\n",
              "      <th>2</th>\n",
              "      <td>LRX7BCH</td>\n",
              "      <td>male</td>\n",
              "      <td>1992</td>\n",
              "      <td>1</td>\n",
              "      <td>1</td>\n",
              "      <td>2018-04-17 20:01:15</td>\n",
              "      <td>2018-04-17 20:01:15</td>\n",
              "    </tr>\n",
              "    <tr>\n",
              "      <th>3</th>\n",
              "      <td>D96DHMD</td>\n",
              "      <td>male</td>\n",
              "      <td>1999</td>\n",
              "      <td>1</td>\n",
              "      <td>1</td>\n",
              "      <td>2018-04-29 22:35:52</td>\n",
              "      <td>2018-04-29 22:35:52</td>\n",
              "    </tr>\n",
              "    <tr>\n",
              "      <th>4</th>\n",
              "      <td>88Q8Y5V</td>\n",
              "      <td>male</td>\n",
              "      <td>1997</td>\n",
              "      <td>1</td>\n",
              "      <td>1</td>\n",
              "      <td>2018-05-05 12:38:09</td>\n",
              "      <td>2018-05-05 12:38:09</td>\n",
              "    </tr>\n",
              "  </tbody>\n",
              "</table>\n",
              "</div>\n",
              "      <button class=\"colab-df-convert\" onclick=\"convertToInteractive('df-d2efb51c-c4f2-4461-abcd-2cc44902b38f')\"\n",
              "              title=\"Convert this dataframe to an interactive table.\"\n",
              "              style=\"display:none;\">\n",
              "        \n",
              "  <svg xmlns=\"http://www.w3.org/2000/svg\" height=\"24px\"viewBox=\"0 0 24 24\"\n",
              "       width=\"24px\">\n",
              "    <path d=\"M0 0h24v24H0V0z\" fill=\"none\"/>\n",
              "    <path d=\"M18.56 5.44l.94 2.06.94-2.06 2.06-.94-2.06-.94-.94-2.06-.94 2.06-2.06.94zm-11 1L8.5 8.5l.94-2.06 2.06-.94-2.06-.94L8.5 2.5l-.94 2.06-2.06.94zm10 10l.94 2.06.94-2.06 2.06-.94-2.06-.94-.94-2.06-.94 2.06-2.06.94z\"/><path d=\"M17.41 7.96l-1.37-1.37c-.4-.4-.92-.59-1.43-.59-.52 0-1.04.2-1.43.59L10.3 9.45l-7.72 7.72c-.78.78-.78 2.05 0 2.83L4 21.41c.39.39.9.59 1.41.59.51 0 1.02-.2 1.41-.59l7.78-7.78 2.81-2.81c.8-.78.8-2.07 0-2.86zM5.41 20L4 18.59l7.72-7.72 1.47 1.35L5.41 20z\"/>\n",
              "  </svg>\n",
              "      </button>\n",
              "      \n",
              "  <style>\n",
              "    .colab-df-container {\n",
              "      display:flex;\n",
              "      flex-wrap:wrap;\n",
              "      gap: 12px;\n",
              "    }\n",
              "\n",
              "    .colab-df-convert {\n",
              "      background-color: #E8F0FE;\n",
              "      border: none;\n",
              "      border-radius: 50%;\n",
              "      cursor: pointer;\n",
              "      display: none;\n",
              "      fill: #1967D2;\n",
              "      height: 32px;\n",
              "      padding: 0 0 0 0;\n",
              "      width: 32px;\n",
              "    }\n",
              "\n",
              "    .colab-df-convert:hover {\n",
              "      background-color: #E2EBFA;\n",
              "      box-shadow: 0px 1px 2px rgba(60, 64, 67, 0.3), 0px 1px 3px 1px rgba(60, 64, 67, 0.15);\n",
              "      fill: #174EA6;\n",
              "    }\n",
              "\n",
              "    [theme=dark] .colab-df-convert {\n",
              "      background-color: #3B4455;\n",
              "      fill: #D2E3FC;\n",
              "    }\n",
              "\n",
              "    [theme=dark] .colab-df-convert:hover {\n",
              "      background-color: #434B5C;\n",
              "      box-shadow: 0px 1px 3px 1px rgba(0, 0, 0, 0.15);\n",
              "      filter: drop-shadow(0px 1px 2px rgba(0, 0, 0, 0.3));\n",
              "      fill: #FFFFFF;\n",
              "    }\n",
              "  </style>\n",
              "\n",
              "      <script>\n",
              "        const buttonEl =\n",
              "          document.querySelector('#df-d2efb51c-c4f2-4461-abcd-2cc44902b38f button.colab-df-convert');\n",
              "        buttonEl.style.display =\n",
              "          google.colab.kernel.accessAllowed ? 'block' : 'none';\n",
              "\n",
              "        async function convertToInteractive(key) {\n",
              "          const element = document.querySelector('#df-d2efb51c-c4f2-4461-abcd-2cc44902b38f');\n",
              "          const dataTable =\n",
              "            await google.colab.kernel.invokeFunction('convertToInteractive',\n",
              "                                                     [key], {});\n",
              "          if (!dataTable) return;\n",
              "\n",
              "          const docLinkHtml = 'Like what you see? Visit the ' +\n",
              "            '<a target=\"_blank\" href=https://colab.research.google.com/notebooks/data_table.ipynb>data table notebook</a>'\n",
              "            + ' to learn more about interactive tables.';\n",
              "          element.innerHTML = '';\n",
              "          dataTable['output_type'] = 'display_data';\n",
              "          await google.colab.output.renderOutput(dataTable, element);\n",
              "          const docLink = document.createElement('div');\n",
              "          docLink.innerHTML = docLinkHtml;\n",
              "          element.appendChild(docLink);\n",
              "        }\n",
              "      </script>\n",
              "    </div>\n",
              "  </div>\n",
              "  "
            ]
          },
          "metadata": {},
          "execution_count": 6
        }
      ]
    },
    {
      "cell_type": "code",
      "source": [
        "# Menampilkan data Tabel Orders menggunakan SQL dan meng-assign ke variable 'df_orders'\n",
        "df_orders = pd.read_sql_query(\"SELECT * FROM Orders\", conn)\n",
        "df_orders.head()"
      ],
      "metadata": {
        "colab": {
          "base_uri": "https://localhost:8080/"
        },
        "id": "5AOZwEZA6EgC",
        "outputId": "f5a90565-9ee8-4ae0-de68-b06490c83b09"
      },
      "execution_count": null,
      "outputs": [
        {
          "output_type": "execute_result",
          "data": {
            "text/plain": [
              "   order_id customer_id  item_count  grand_total  payment_mode is_favorite  \\\n",
              "0  163241.0     9ZTJB1L         2.0         14.4             1         Yes   \n",
              "1  163246.0     6C7D1O2         3.0         18.2             2         Yes   \n",
              "2  163265.0     VCBBSUB         1.0          4.6             1         Yes   \n",
              "3  163274.0     ZBNP36W         1.0          5.7             1         Yes   \n",
              "4  163321.0     BJ1GYQY         2.0         15.8             1         Yes   \n",
              "\n",
              "  is_rated  driver_rating  deliverydistance  vendor_id           created_at  \\\n",
              "0       No            0.0               0.0         83  2019-08-01 05:31:33   \n",
              "1       No            0.0               0.0         83  2019-08-01 05:37:05   \n",
              "2       No            0.0               0.0         78  2019-08-01 06:03:59   \n",
              "3       No            0.0               0.0        195  2019-08-01 06:34:38   \n",
              "4       No            0.0               0.0         75  2019-08-01 17:06:17   \n",
              "\n",
              "   LOCATION_NUMBER  \n",
              "0                0  \n",
              "1                0  \n",
              "2                0  \n",
              "3                0  \n",
              "4                0  "
            ],
            "text/html": [
              "\n",
              "  <div id=\"df-040faa82-e547-42f2-bea0-285e4ec434ac\">\n",
              "    <div class=\"colab-df-container\">\n",
              "      <div>\n",
              "<style scoped>\n",
              "    .dataframe tbody tr th:only-of-type {\n",
              "        vertical-align: middle;\n",
              "    }\n",
              "\n",
              "    .dataframe tbody tr th {\n",
              "        vertical-align: top;\n",
              "    }\n",
              "\n",
              "    .dataframe thead th {\n",
              "        text-align: right;\n",
              "    }\n",
              "</style>\n",
              "<table border=\"1\" class=\"dataframe\">\n",
              "  <thead>\n",
              "    <tr style=\"text-align: right;\">\n",
              "      <th></th>\n",
              "      <th>order_id</th>\n",
              "      <th>customer_id</th>\n",
              "      <th>item_count</th>\n",
              "      <th>grand_total</th>\n",
              "      <th>payment_mode</th>\n",
              "      <th>is_favorite</th>\n",
              "      <th>is_rated</th>\n",
              "      <th>driver_rating</th>\n",
              "      <th>deliverydistance</th>\n",
              "      <th>vendor_id</th>\n",
              "      <th>created_at</th>\n",
              "      <th>LOCATION_NUMBER</th>\n",
              "    </tr>\n",
              "  </thead>\n",
              "  <tbody>\n",
              "    <tr>\n",
              "      <th>0</th>\n",
              "      <td>163241.0</td>\n",
              "      <td>9ZTJB1L</td>\n",
              "      <td>2.0</td>\n",
              "      <td>14.4</td>\n",
              "      <td>1</td>\n",
              "      <td>Yes</td>\n",
              "      <td>No</td>\n",
              "      <td>0.0</td>\n",
              "      <td>0.0</td>\n",
              "      <td>83</td>\n",
              "      <td>2019-08-01 05:31:33</td>\n",
              "      <td>0</td>\n",
              "    </tr>\n",
              "    <tr>\n",
              "      <th>1</th>\n",
              "      <td>163246.0</td>\n",
              "      <td>6C7D1O2</td>\n",
              "      <td>3.0</td>\n",
              "      <td>18.2</td>\n",
              "      <td>2</td>\n",
              "      <td>Yes</td>\n",
              "      <td>No</td>\n",
              "      <td>0.0</td>\n",
              "      <td>0.0</td>\n",
              "      <td>83</td>\n",
              "      <td>2019-08-01 05:37:05</td>\n",
              "      <td>0</td>\n",
              "    </tr>\n",
              "    <tr>\n",
              "      <th>2</th>\n",
              "      <td>163265.0</td>\n",
              "      <td>VCBBSUB</td>\n",
              "      <td>1.0</td>\n",
              "      <td>4.6</td>\n",
              "      <td>1</td>\n",
              "      <td>Yes</td>\n",
              "      <td>No</td>\n",
              "      <td>0.0</td>\n",
              "      <td>0.0</td>\n",
              "      <td>78</td>\n",
              "      <td>2019-08-01 06:03:59</td>\n",
              "      <td>0</td>\n",
              "    </tr>\n",
              "    <tr>\n",
              "      <th>3</th>\n",
              "      <td>163274.0</td>\n",
              "      <td>ZBNP36W</td>\n",
              "      <td>1.0</td>\n",
              "      <td>5.7</td>\n",
              "      <td>1</td>\n",
              "      <td>Yes</td>\n",
              "      <td>No</td>\n",
              "      <td>0.0</td>\n",
              "      <td>0.0</td>\n",
              "      <td>195</td>\n",
              "      <td>2019-08-01 06:34:38</td>\n",
              "      <td>0</td>\n",
              "    </tr>\n",
              "    <tr>\n",
              "      <th>4</th>\n",
              "      <td>163321.0</td>\n",
              "      <td>BJ1GYQY</td>\n",
              "      <td>2.0</td>\n",
              "      <td>15.8</td>\n",
              "      <td>1</td>\n",
              "      <td>Yes</td>\n",
              "      <td>No</td>\n",
              "      <td>0.0</td>\n",
              "      <td>0.0</td>\n",
              "      <td>75</td>\n",
              "      <td>2019-08-01 17:06:17</td>\n",
              "      <td>0</td>\n",
              "    </tr>\n",
              "  </tbody>\n",
              "</table>\n",
              "</div>\n",
              "      <button class=\"colab-df-convert\" onclick=\"convertToInteractive('df-040faa82-e547-42f2-bea0-285e4ec434ac')\"\n",
              "              title=\"Convert this dataframe to an interactive table.\"\n",
              "              style=\"display:none;\">\n",
              "        \n",
              "  <svg xmlns=\"http://www.w3.org/2000/svg\" height=\"24px\"viewBox=\"0 0 24 24\"\n",
              "       width=\"24px\">\n",
              "    <path d=\"M0 0h24v24H0V0z\" fill=\"none\"/>\n",
              "    <path d=\"M18.56 5.44l.94 2.06.94-2.06 2.06-.94-2.06-.94-.94-2.06-.94 2.06-2.06.94zm-11 1L8.5 8.5l.94-2.06 2.06-.94-2.06-.94L8.5 2.5l-.94 2.06-2.06.94zm10 10l.94 2.06.94-2.06 2.06-.94-2.06-.94-.94-2.06-.94 2.06-2.06.94z\"/><path d=\"M17.41 7.96l-1.37-1.37c-.4-.4-.92-.59-1.43-.59-.52 0-1.04.2-1.43.59L10.3 9.45l-7.72 7.72c-.78.78-.78 2.05 0 2.83L4 21.41c.39.39.9.59 1.41.59.51 0 1.02-.2 1.41-.59l7.78-7.78 2.81-2.81c.8-.78.8-2.07 0-2.86zM5.41 20L4 18.59l7.72-7.72 1.47 1.35L5.41 20z\"/>\n",
              "  </svg>\n",
              "      </button>\n",
              "      \n",
              "  <style>\n",
              "    .colab-df-container {\n",
              "      display:flex;\n",
              "      flex-wrap:wrap;\n",
              "      gap: 12px;\n",
              "    }\n",
              "\n",
              "    .colab-df-convert {\n",
              "      background-color: #E8F0FE;\n",
              "      border: none;\n",
              "      border-radius: 50%;\n",
              "      cursor: pointer;\n",
              "      display: none;\n",
              "      fill: #1967D2;\n",
              "      height: 32px;\n",
              "      padding: 0 0 0 0;\n",
              "      width: 32px;\n",
              "    }\n",
              "\n",
              "    .colab-df-convert:hover {\n",
              "      background-color: #E2EBFA;\n",
              "      box-shadow: 0px 1px 2px rgba(60, 64, 67, 0.3), 0px 1px 3px 1px rgba(60, 64, 67, 0.15);\n",
              "      fill: #174EA6;\n",
              "    }\n",
              "\n",
              "    [theme=dark] .colab-df-convert {\n",
              "      background-color: #3B4455;\n",
              "      fill: #D2E3FC;\n",
              "    }\n",
              "\n",
              "    [theme=dark] .colab-df-convert:hover {\n",
              "      background-color: #434B5C;\n",
              "      box-shadow: 0px 1px 3px 1px rgba(0, 0, 0, 0.15);\n",
              "      filter: drop-shadow(0px 1px 2px rgba(0, 0, 0, 0.3));\n",
              "      fill: #FFFFFF;\n",
              "    }\n",
              "  </style>\n",
              "\n",
              "      <script>\n",
              "        const buttonEl =\n",
              "          document.querySelector('#df-040faa82-e547-42f2-bea0-285e4ec434ac button.colab-df-convert');\n",
              "        buttonEl.style.display =\n",
              "          google.colab.kernel.accessAllowed ? 'block' : 'none';\n",
              "\n",
              "        async function convertToInteractive(key) {\n",
              "          const element = document.querySelector('#df-040faa82-e547-42f2-bea0-285e4ec434ac');\n",
              "          const dataTable =\n",
              "            await google.colab.kernel.invokeFunction('convertToInteractive',\n",
              "                                                     [key], {});\n",
              "          if (!dataTable) return;\n",
              "\n",
              "          const docLinkHtml = 'Like what you see? Visit the ' +\n",
              "            '<a target=\"_blank\" href=https://colab.research.google.com/notebooks/data_table.ipynb>data table notebook</a>'\n",
              "            + ' to learn more about interactive tables.';\n",
              "          element.innerHTML = '';\n",
              "          dataTable['output_type'] = 'display_data';\n",
              "          await google.colab.output.renderOutput(dataTable, element);\n",
              "          const docLink = document.createElement('div');\n",
              "          docLink.innerHTML = docLinkHtml;\n",
              "          element.appendChild(docLink);\n",
              "        }\n",
              "      </script>\n",
              "    </div>\n",
              "  </div>\n",
              "  "
            ]
          },
          "metadata": {},
          "execution_count": 7
        }
      ]
    },
    {
      "cell_type": "code",
      "source": [
        "# Menampilkan data Tabel Vedors menggunakan SQL dan meng-assign ke variable 'df_vendors'\n",
        "df_vendors = pd.read_sql_query(\"SELECT * FROM Vendors\", conn)\n",
        "df_vendors.head()"
      ],
      "metadata": {
        "colab": {
          "base_uri": "https://localhost:8080/"
        },
        "id": "I4erv6596StZ",
        "outputId": "ca754526-8166-4eca-a932-96bac6c83935"
      },
      "execution_count": null,
      "outputs": [
        {
          "output_type": "execute_result",
          "data": {
            "text/plain": [
              "   vendor_id  authentication_id  latitude  longitude vendor_category_en  \\\n",
              "0          4           118597.0 -0.588596   0.754434        Restaurants   \n",
              "1         13           118608.0 -0.471654   0.744470        Restaurants   \n",
              "2         20           118616.0 -0.407527   0.643681        Restaurants   \n",
              "3         23           118619.0 -0.585385   0.753811        Restaurants   \n",
              "4         28           118624.0  0.480602   0.552850        Restaurants   \n",
              "\n",
              "   delivery_charge  serving_distance  is_open      OpeningTime  \\\n",
              "0              0.0               6.0      1.0  11:00AM-11:30PM   \n",
              "1              0.7               5.0      1.0  08:30AM-10:30PM   \n",
              "2              0.0               8.0      1.0  08:00AM-10:45PM   \n",
              "3              0.0               5.0      1.0  10:59AM-10:30PM   \n",
              "4              0.7              15.0      1.0  11:00AM-11:45PM   \n",
              "\n",
              "   prepration_time  discount_percentage  status  verified  rank  \\\n",
              "0               15                  0.0     1.0         1    11   \n",
              "1               14                  0.0     1.0         1    11   \n",
              "2               19                  0.0     1.0         1     1   \n",
              "3               16                  0.0     1.0         1    11   \n",
              "4               10                  0.0     1.0         1    11   \n",
              "\n",
              "   vendor_rating                 vendor_tag  \\\n",
              "0            4.4  2,4,5,8,91,22,12,24,16,23   \n",
              "1            4.7  4,41,51,34,27,15,24,16,28   \n",
              "2            4.5                  4,8,91,10   \n",
              "3            4.5                  5,8,30,24   \n",
              "4            4.4                          5   \n",
              "\n",
              "                                     vendor_tag_name           created_at  \\\n",
              "0  Arabic,Breakfast,Burgers,Desserts,Free Deliver...  2018-01-30 14:42:04   \n",
              "1  Breakfast,Cakes,Crepes,Italian,Pasta,Pizzas,Sa...  2018-05-03 12:32:06   \n",
              "2            Breakfast,Desserts,Free Delivery,Indian  2018-05-04 22:28:22   \n",
              "3                      Burgers,Desserts,Fries,Salads  2018-05-06 19:20:48   \n",
              "4                                            Burgers  2018-05-17 22:12:38   \n",
              "\n",
              "            updated_at  device_type  \n",
              "0  2020-04-07 15:12:43            3  \n",
              "1  2020-04-05 20:46:03            3  \n",
              "2  2020-04-07 16:35:55            3  \n",
              "3  2020-04-02 00:56:17            3  \n",
              "4  2020-04-05 15:57:41            3  "
            ],
            "text/html": [
              "\n",
              "  <div id=\"df-4060db02-be99-43bc-b309-0c88ae76c50d\">\n",
              "    <div class=\"colab-df-container\">\n",
              "      <div>\n",
              "<style scoped>\n",
              "    .dataframe tbody tr th:only-of-type {\n",
              "        vertical-align: middle;\n",
              "    }\n",
              "\n",
              "    .dataframe tbody tr th {\n",
              "        vertical-align: top;\n",
              "    }\n",
              "\n",
              "    .dataframe thead th {\n",
              "        text-align: right;\n",
              "    }\n",
              "</style>\n",
              "<table border=\"1\" class=\"dataframe\">\n",
              "  <thead>\n",
              "    <tr style=\"text-align: right;\">\n",
              "      <th></th>\n",
              "      <th>vendor_id</th>\n",
              "      <th>authentication_id</th>\n",
              "      <th>latitude</th>\n",
              "      <th>longitude</th>\n",
              "      <th>vendor_category_en</th>\n",
              "      <th>delivery_charge</th>\n",
              "      <th>serving_distance</th>\n",
              "      <th>is_open</th>\n",
              "      <th>OpeningTime</th>\n",
              "      <th>prepration_time</th>\n",
              "      <th>discount_percentage</th>\n",
              "      <th>status</th>\n",
              "      <th>verified</th>\n",
              "      <th>rank</th>\n",
              "      <th>vendor_rating</th>\n",
              "      <th>vendor_tag</th>\n",
              "      <th>vendor_tag_name</th>\n",
              "      <th>created_at</th>\n",
              "      <th>updated_at</th>\n",
              "      <th>device_type</th>\n",
              "    </tr>\n",
              "  </thead>\n",
              "  <tbody>\n",
              "    <tr>\n",
              "      <th>0</th>\n",
              "      <td>4</td>\n",
              "      <td>118597.0</td>\n",
              "      <td>-0.588596</td>\n",
              "      <td>0.754434</td>\n",
              "      <td>Restaurants</td>\n",
              "      <td>0.0</td>\n",
              "      <td>6.0</td>\n",
              "      <td>1.0</td>\n",
              "      <td>11:00AM-11:30PM</td>\n",
              "      <td>15</td>\n",
              "      <td>0.0</td>\n",
              "      <td>1.0</td>\n",
              "      <td>1</td>\n",
              "      <td>11</td>\n",
              "      <td>4.4</td>\n",
              "      <td>2,4,5,8,91,22,12,24,16,23</td>\n",
              "      <td>Arabic,Breakfast,Burgers,Desserts,Free Deliver...</td>\n",
              "      <td>2018-01-30 14:42:04</td>\n",
              "      <td>2020-04-07 15:12:43</td>\n",
              "      <td>3</td>\n",
              "    </tr>\n",
              "    <tr>\n",
              "      <th>1</th>\n",
              "      <td>13</td>\n",
              "      <td>118608.0</td>\n",
              "      <td>-0.471654</td>\n",
              "      <td>0.744470</td>\n",
              "      <td>Restaurants</td>\n",
              "      <td>0.7</td>\n",
              "      <td>5.0</td>\n",
              "      <td>1.0</td>\n",
              "      <td>08:30AM-10:30PM</td>\n",
              "      <td>14</td>\n",
              "      <td>0.0</td>\n",
              "      <td>1.0</td>\n",
              "      <td>1</td>\n",
              "      <td>11</td>\n",
              "      <td>4.7</td>\n",
              "      <td>4,41,51,34,27,15,24,16,28</td>\n",
              "      <td>Breakfast,Cakes,Crepes,Italian,Pasta,Pizzas,Sa...</td>\n",
              "      <td>2018-05-03 12:32:06</td>\n",
              "      <td>2020-04-05 20:46:03</td>\n",
              "      <td>3</td>\n",
              "    </tr>\n",
              "    <tr>\n",
              "      <th>2</th>\n",
              "      <td>20</td>\n",
              "      <td>118616.0</td>\n",
              "      <td>-0.407527</td>\n",
              "      <td>0.643681</td>\n",
              "      <td>Restaurants</td>\n",
              "      <td>0.0</td>\n",
              "      <td>8.0</td>\n",
              "      <td>1.0</td>\n",
              "      <td>08:00AM-10:45PM</td>\n",
              "      <td>19</td>\n",
              "      <td>0.0</td>\n",
              "      <td>1.0</td>\n",
              "      <td>1</td>\n",
              "      <td>1</td>\n",
              "      <td>4.5</td>\n",
              "      <td>4,8,91,10</td>\n",
              "      <td>Breakfast,Desserts,Free Delivery,Indian</td>\n",
              "      <td>2018-05-04 22:28:22</td>\n",
              "      <td>2020-04-07 16:35:55</td>\n",
              "      <td>3</td>\n",
              "    </tr>\n",
              "    <tr>\n",
              "      <th>3</th>\n",
              "      <td>23</td>\n",
              "      <td>118619.0</td>\n",
              "      <td>-0.585385</td>\n",
              "      <td>0.753811</td>\n",
              "      <td>Restaurants</td>\n",
              "      <td>0.0</td>\n",
              "      <td>5.0</td>\n",
              "      <td>1.0</td>\n",
              "      <td>10:59AM-10:30PM</td>\n",
              "      <td>16</td>\n",
              "      <td>0.0</td>\n",
              "      <td>1.0</td>\n",
              "      <td>1</td>\n",
              "      <td>11</td>\n",
              "      <td>4.5</td>\n",
              "      <td>5,8,30,24</td>\n",
              "      <td>Burgers,Desserts,Fries,Salads</td>\n",
              "      <td>2018-05-06 19:20:48</td>\n",
              "      <td>2020-04-02 00:56:17</td>\n",
              "      <td>3</td>\n",
              "    </tr>\n",
              "    <tr>\n",
              "      <th>4</th>\n",
              "      <td>28</td>\n",
              "      <td>118624.0</td>\n",
              "      <td>0.480602</td>\n",
              "      <td>0.552850</td>\n",
              "      <td>Restaurants</td>\n",
              "      <td>0.7</td>\n",
              "      <td>15.0</td>\n",
              "      <td>1.0</td>\n",
              "      <td>11:00AM-11:45PM</td>\n",
              "      <td>10</td>\n",
              "      <td>0.0</td>\n",
              "      <td>1.0</td>\n",
              "      <td>1</td>\n",
              "      <td>11</td>\n",
              "      <td>4.4</td>\n",
              "      <td>5</td>\n",
              "      <td>Burgers</td>\n",
              "      <td>2018-05-17 22:12:38</td>\n",
              "      <td>2020-04-05 15:57:41</td>\n",
              "      <td>3</td>\n",
              "    </tr>\n",
              "  </tbody>\n",
              "</table>\n",
              "</div>\n",
              "      <button class=\"colab-df-convert\" onclick=\"convertToInteractive('df-4060db02-be99-43bc-b309-0c88ae76c50d')\"\n",
              "              title=\"Convert this dataframe to an interactive table.\"\n",
              "              style=\"display:none;\">\n",
              "        \n",
              "  <svg xmlns=\"http://www.w3.org/2000/svg\" height=\"24px\"viewBox=\"0 0 24 24\"\n",
              "       width=\"24px\">\n",
              "    <path d=\"M0 0h24v24H0V0z\" fill=\"none\"/>\n",
              "    <path d=\"M18.56 5.44l.94 2.06.94-2.06 2.06-.94-2.06-.94-.94-2.06-.94 2.06-2.06.94zm-11 1L8.5 8.5l.94-2.06 2.06-.94-2.06-.94L8.5 2.5l-.94 2.06-2.06.94zm10 10l.94 2.06.94-2.06 2.06-.94-2.06-.94-.94-2.06-.94 2.06-2.06.94z\"/><path d=\"M17.41 7.96l-1.37-1.37c-.4-.4-.92-.59-1.43-.59-.52 0-1.04.2-1.43.59L10.3 9.45l-7.72 7.72c-.78.78-.78 2.05 0 2.83L4 21.41c.39.39.9.59 1.41.59.51 0 1.02-.2 1.41-.59l7.78-7.78 2.81-2.81c.8-.78.8-2.07 0-2.86zM5.41 20L4 18.59l7.72-7.72 1.47 1.35L5.41 20z\"/>\n",
              "  </svg>\n",
              "      </button>\n",
              "      \n",
              "  <style>\n",
              "    .colab-df-container {\n",
              "      display:flex;\n",
              "      flex-wrap:wrap;\n",
              "      gap: 12px;\n",
              "    }\n",
              "\n",
              "    .colab-df-convert {\n",
              "      background-color: #E8F0FE;\n",
              "      border: none;\n",
              "      border-radius: 50%;\n",
              "      cursor: pointer;\n",
              "      display: none;\n",
              "      fill: #1967D2;\n",
              "      height: 32px;\n",
              "      padding: 0 0 0 0;\n",
              "      width: 32px;\n",
              "    }\n",
              "\n",
              "    .colab-df-convert:hover {\n",
              "      background-color: #E2EBFA;\n",
              "      box-shadow: 0px 1px 2px rgba(60, 64, 67, 0.3), 0px 1px 3px 1px rgba(60, 64, 67, 0.15);\n",
              "      fill: #174EA6;\n",
              "    }\n",
              "\n",
              "    [theme=dark] .colab-df-convert {\n",
              "      background-color: #3B4455;\n",
              "      fill: #D2E3FC;\n",
              "    }\n",
              "\n",
              "    [theme=dark] .colab-df-convert:hover {\n",
              "      background-color: #434B5C;\n",
              "      box-shadow: 0px 1px 3px 1px rgba(0, 0, 0, 0.15);\n",
              "      filter: drop-shadow(0px 1px 2px rgba(0, 0, 0, 0.3));\n",
              "      fill: #FFFFFF;\n",
              "    }\n",
              "  </style>\n",
              "\n",
              "      <script>\n",
              "        const buttonEl =\n",
              "          document.querySelector('#df-4060db02-be99-43bc-b309-0c88ae76c50d button.colab-df-convert');\n",
              "        buttonEl.style.display =\n",
              "          google.colab.kernel.accessAllowed ? 'block' : 'none';\n",
              "\n",
              "        async function convertToInteractive(key) {\n",
              "          const element = document.querySelector('#df-4060db02-be99-43bc-b309-0c88ae76c50d');\n",
              "          const dataTable =\n",
              "            await google.colab.kernel.invokeFunction('convertToInteractive',\n",
              "                                                     [key], {});\n",
              "          if (!dataTable) return;\n",
              "\n",
              "          const docLinkHtml = 'Like what you see? Visit the ' +\n",
              "            '<a target=\"_blank\" href=https://colab.research.google.com/notebooks/data_table.ipynb>data table notebook</a>'\n",
              "            + ' to learn more about interactive tables.';\n",
              "          element.innerHTML = '';\n",
              "          dataTable['output_type'] = 'display_data';\n",
              "          await google.colab.output.renderOutput(dataTable, element);\n",
              "          const docLink = document.createElement('div');\n",
              "          docLink.innerHTML = docLinkHtml;\n",
              "          element.appendChild(docLink);\n",
              "        }\n",
              "      </script>\n",
              "    </div>\n",
              "  </div>\n",
              "  "
            ]
          },
          "metadata": {},
          "execution_count": 8
        }
      ]
    },
    {
      "cell_type": "code",
      "source": [
        "# Menampilkan data Tabel Locations menggunakan SQL dan meng-assign ke variable 'df_locations'\n",
        "df_locations = pd.read_sql_query(\"SELECT * FROM Locations\", conn)\n",
        "df_locations.head()"
      ],
      "metadata": {
        "colab": {
          "base_uri": "https://localhost:8080/"
        },
        "id": "BwbjOfeL6T_r",
        "outputId": "f422cc06-bc26-4ffe-9b6f-e18f51a8f9e4"
      },
      "execution_count": null,
      "outputs": [
        {
          "output_type": "execute_result",
          "data": {
            "text/plain": [
              "  customer_id  location_number    latitude  longitude\n",
              "0     QINKB6H                0  126.032278  -9.106019\n",
              "1     EQ4S6SE                0    0.278709 -78.623847\n",
              "2     4673534                1    0.124485 -78.605621\n",
              "3     OQA6IMF                2   -0.113891 -78.577449\n",
              "4     9NQE2MO                3   -0.848796   0.136726"
            ],
            "text/html": [
              "\n",
              "  <div id=\"df-ae5fe0f7-c1b2-4d6c-99ad-b5c7b23cb0f0\">\n",
              "    <div class=\"colab-df-container\">\n",
              "      <div>\n",
              "<style scoped>\n",
              "    .dataframe tbody tr th:only-of-type {\n",
              "        vertical-align: middle;\n",
              "    }\n",
              "\n",
              "    .dataframe tbody tr th {\n",
              "        vertical-align: top;\n",
              "    }\n",
              "\n",
              "    .dataframe thead th {\n",
              "        text-align: right;\n",
              "    }\n",
              "</style>\n",
              "<table border=\"1\" class=\"dataframe\">\n",
              "  <thead>\n",
              "    <tr style=\"text-align: right;\">\n",
              "      <th></th>\n",
              "      <th>customer_id</th>\n",
              "      <th>location_number</th>\n",
              "      <th>latitude</th>\n",
              "      <th>longitude</th>\n",
              "    </tr>\n",
              "  </thead>\n",
              "  <tbody>\n",
              "    <tr>\n",
              "      <th>0</th>\n",
              "      <td>QINKB6H</td>\n",
              "      <td>0</td>\n",
              "      <td>126.032278</td>\n",
              "      <td>-9.106019</td>\n",
              "    </tr>\n",
              "    <tr>\n",
              "      <th>1</th>\n",
              "      <td>EQ4S6SE</td>\n",
              "      <td>0</td>\n",
              "      <td>0.278709</td>\n",
              "      <td>-78.623847</td>\n",
              "    </tr>\n",
              "    <tr>\n",
              "      <th>2</th>\n",
              "      <td>4673534</td>\n",
              "      <td>1</td>\n",
              "      <td>0.124485</td>\n",
              "      <td>-78.605621</td>\n",
              "    </tr>\n",
              "    <tr>\n",
              "      <th>3</th>\n",
              "      <td>OQA6IMF</td>\n",
              "      <td>2</td>\n",
              "      <td>-0.113891</td>\n",
              "      <td>-78.577449</td>\n",
              "    </tr>\n",
              "    <tr>\n",
              "      <th>4</th>\n",
              "      <td>9NQE2MO</td>\n",
              "      <td>3</td>\n",
              "      <td>-0.848796</td>\n",
              "      <td>0.136726</td>\n",
              "    </tr>\n",
              "  </tbody>\n",
              "</table>\n",
              "</div>\n",
              "      <button class=\"colab-df-convert\" onclick=\"convertToInteractive('df-ae5fe0f7-c1b2-4d6c-99ad-b5c7b23cb0f0')\"\n",
              "              title=\"Convert this dataframe to an interactive table.\"\n",
              "              style=\"display:none;\">\n",
              "        \n",
              "  <svg xmlns=\"http://www.w3.org/2000/svg\" height=\"24px\"viewBox=\"0 0 24 24\"\n",
              "       width=\"24px\">\n",
              "    <path d=\"M0 0h24v24H0V0z\" fill=\"none\"/>\n",
              "    <path d=\"M18.56 5.44l.94 2.06.94-2.06 2.06-.94-2.06-.94-.94-2.06-.94 2.06-2.06.94zm-11 1L8.5 8.5l.94-2.06 2.06-.94-2.06-.94L8.5 2.5l-.94 2.06-2.06.94zm10 10l.94 2.06.94-2.06 2.06-.94-2.06-.94-.94-2.06-.94 2.06-2.06.94z\"/><path d=\"M17.41 7.96l-1.37-1.37c-.4-.4-.92-.59-1.43-.59-.52 0-1.04.2-1.43.59L10.3 9.45l-7.72 7.72c-.78.78-.78 2.05 0 2.83L4 21.41c.39.39.9.59 1.41.59.51 0 1.02-.2 1.41-.59l7.78-7.78 2.81-2.81c.8-.78.8-2.07 0-2.86zM5.41 20L4 18.59l7.72-7.72 1.47 1.35L5.41 20z\"/>\n",
              "  </svg>\n",
              "      </button>\n",
              "      \n",
              "  <style>\n",
              "    .colab-df-container {\n",
              "      display:flex;\n",
              "      flex-wrap:wrap;\n",
              "      gap: 12px;\n",
              "    }\n",
              "\n",
              "    .colab-df-convert {\n",
              "      background-color: #E8F0FE;\n",
              "      border: none;\n",
              "      border-radius: 50%;\n",
              "      cursor: pointer;\n",
              "      display: none;\n",
              "      fill: #1967D2;\n",
              "      height: 32px;\n",
              "      padding: 0 0 0 0;\n",
              "      width: 32px;\n",
              "    }\n",
              "\n",
              "    .colab-df-convert:hover {\n",
              "      background-color: #E2EBFA;\n",
              "      box-shadow: 0px 1px 2px rgba(60, 64, 67, 0.3), 0px 1px 3px 1px rgba(60, 64, 67, 0.15);\n",
              "      fill: #174EA6;\n",
              "    }\n",
              "\n",
              "    [theme=dark] .colab-df-convert {\n",
              "      background-color: #3B4455;\n",
              "      fill: #D2E3FC;\n",
              "    }\n",
              "\n",
              "    [theme=dark] .colab-df-convert:hover {\n",
              "      background-color: #434B5C;\n",
              "      box-shadow: 0px 1px 3px 1px rgba(0, 0, 0, 0.15);\n",
              "      filter: drop-shadow(0px 1px 2px rgba(0, 0, 0, 0.3));\n",
              "      fill: #FFFFFF;\n",
              "    }\n",
              "  </style>\n",
              "\n",
              "      <script>\n",
              "        const buttonEl =\n",
              "          document.querySelector('#df-ae5fe0f7-c1b2-4d6c-99ad-b5c7b23cb0f0 button.colab-df-convert');\n",
              "        buttonEl.style.display =\n",
              "          google.colab.kernel.accessAllowed ? 'block' : 'none';\n",
              "\n",
              "        async function convertToInteractive(key) {\n",
              "          const element = document.querySelector('#df-ae5fe0f7-c1b2-4d6c-99ad-b5c7b23cb0f0');\n",
              "          const dataTable =\n",
              "            await google.colab.kernel.invokeFunction('convertToInteractive',\n",
              "                                                     [key], {});\n",
              "          if (!dataTable) return;\n",
              "\n",
              "          const docLinkHtml = 'Like what you see? Visit the ' +\n",
              "            '<a target=\"_blank\" href=https://colab.research.google.com/notebooks/data_table.ipynb>data table notebook</a>'\n",
              "            + ' to learn more about interactive tables.';\n",
              "          element.innerHTML = '';\n",
              "          dataTable['output_type'] = 'display_data';\n",
              "          await google.colab.output.renderOutput(dataTable, element);\n",
              "          const docLink = document.createElement('div');\n",
              "          docLink.innerHTML = docLinkHtml;\n",
              "          element.appendChild(docLink);\n",
              "        }\n",
              "      </script>\n",
              "    </div>\n",
              "  </div>\n",
              "  "
            ]
          },
          "metadata": {},
          "execution_count": 9
        }
      ]
    },
    {
      "cell_type": "markdown",
      "source": [
        "## **Data Preparation**"
      ],
      "metadata": {
        "id": "UYHihLQgdmK1"
      }
    },
    {
      "cell_type": "markdown",
      "source": [
        "### Menampilkan dan Mengganti Nama-Nama Kolom dari Tabel"
      ],
      "metadata": {
        "id": "lpQxzL9GpR1g"
      }
    },
    {
      "cell_type": "markdown",
      "source": [
        "#### *Tabel Customers*"
      ],
      "metadata": {
        "id": "sLAw4Enm2R_m"
      }
    },
    {
      "cell_type": "code",
      "source": [
        "# Menampilkan nama-nama kolom dari Tabel Customers\n",
        "df_customers.columns"
      ],
      "metadata": {
        "colab": {
          "base_uri": "https://localhost:8080/"
        },
        "id": "rzhgsemZpcte",
        "outputId": "0f137141-690c-463f-c543-d336ea214fe7"
      },
      "execution_count": null,
      "outputs": [
        {
          "output_type": "execute_result",
          "data": {
            "text/plain": [
              "Index(['customer_id', 'gender', 'dob', 'status', 'verified', 'created_at',\n",
              "       'updated_at'],\n",
              "      dtype='object')"
            ]
          },
          "metadata": {},
          "execution_count": 10
        }
      ]
    },
    {
      "cell_type": "markdown",
      "source": [
        "Tidak ada typo maupun nama kolom yang tidak sesuai pada Tabel Customers."
      ],
      "metadata": {
        "id": "226RjQ6E2YHw"
      }
    },
    {
      "cell_type": "markdown",
      "source": [
        "#### *Tabel Orders*"
      ],
      "metadata": {
        "id": "YWeUDwHN2kgz"
      }
    },
    {
      "cell_type": "code",
      "source": [
        "# Menampilkan nama-nama kolom dari Tabel Orders\n",
        "df_orders.columns"
      ],
      "metadata": {
        "colab": {
          "base_uri": "https://localhost:8080/"
        },
        "id": "8yH2tw1YpmPb",
        "outputId": "42b52a9e-5781-4ae1-dbb2-eed3839ddd97"
      },
      "execution_count": null,
      "outputs": [
        {
          "output_type": "execute_result",
          "data": {
            "text/plain": [
              "Index(['order_id', 'customer_id', 'item_count', 'grand_total', 'payment_mode',\n",
              "       'is_favorite', 'is_rated', 'driver_rating', 'deliverydistance',\n",
              "       'vendor_id', 'created_at', 'LOCATION_NUMBER'],\n",
              "      dtype='object')"
            ]
          },
          "metadata": {},
          "execution_count": 11
        }
      ]
    },
    {
      "cell_type": "code",
      "source": [
        "# Mengganti nama-nama kolom dari Tabel Orders\n",
        "df_orders = df_orders.rename(columns={\"deliverydistance\": \"delivery_distance\", \"LOCATION_NUMBER\": \"location_number\"})"
      ],
      "metadata": {
        "id": "jjidiXvI2o-T"
      },
      "execution_count": null,
      "outputs": []
    },
    {
      "cell_type": "markdown",
      "source": [
        "Nama kolom 'deliverydistance' dan 'LOCATION_NUMBER' diubah agar seragam, yaitu spasi menggunakan *underscore* dan menggunakan huruf kecil."
      ],
      "metadata": {
        "id": "QiwP0fGy3Pp8"
      }
    },
    {
      "cell_type": "code",
      "source": [
        "df_orders.columns"
      ],
      "metadata": {
        "colab": {
          "base_uri": "https://localhost:8080/"
        },
        "id": "UGpVoQBO3NUT",
        "outputId": "cdf241e1-9265-437f-a885-3e38918f8cdd"
      },
      "execution_count": null,
      "outputs": [
        {
          "output_type": "execute_result",
          "data": {
            "text/plain": [
              "Index(['order_id', 'customer_id', 'item_count', 'grand_total', 'payment_mode',\n",
              "       'is_favorite', 'is_rated', 'driver_rating', 'delivery_distance',\n",
              "       'vendor_id', 'created_at', 'location_number'],\n",
              "      dtype='object')"
            ]
          },
          "metadata": {},
          "execution_count": 13
        }
      ]
    },
    {
      "cell_type": "markdown",
      "source": [
        "#### *Tabel Vendors*"
      ],
      "metadata": {
        "id": "aAN-9Ttd3iFq"
      }
    },
    {
      "cell_type": "code",
      "source": [
        "# Menampilkan nama-nama kolom dari Tabel Vendors\n",
        "df_vendors.columns"
      ],
      "metadata": {
        "colab": {
          "base_uri": "https://localhost:8080/"
        },
        "id": "hYdPdSAqpp3a",
        "outputId": "21f36792-753d-4e95-8371-156df9f96cb2"
      },
      "execution_count": null,
      "outputs": [
        {
          "output_type": "execute_result",
          "data": {
            "text/plain": [
              "Index(['vendor_id', 'authentication_id', 'latitude', 'longitude',\n",
              "       'vendor_category_en', 'delivery_charge', 'serving_distance', 'is_open',\n",
              "       'OpeningTime', 'prepration_time', 'discount_percentage', 'status',\n",
              "       'verified', 'rank', 'vendor_rating', 'vendor_tag', 'vendor_tag_name',\n",
              "       'created_at', 'updated_at', 'device_type'],\n",
              "      dtype='object')"
            ]
          },
          "metadata": {},
          "execution_count": 14
        }
      ]
    },
    {
      "cell_type": "markdown",
      "source": [
        "Nama kolom 'OpeningTime' diubah agar seragam, yaitu spasi menggunakan *underscore* dan menggunakan huruf kecil, lalu nama kolom 'prepration_time' diubah karena typo."
      ],
      "metadata": {
        "id": "ACjvEvAg3pl3"
      }
    },
    {
      "cell_type": "code",
      "source": [
        "# Mengganti nama-nama kolom dari Tabel Vendors\n",
        "df_vendors = df_vendors.rename(columns={\"OpeningTime\":\"opening_time\", \"prepration_time\":\"preparation_time\"})"
      ],
      "metadata": {
        "id": "GbEYmCnw4aKM"
      },
      "execution_count": null,
      "outputs": []
    },
    {
      "cell_type": "code",
      "source": [
        "df_vendors.columns"
      ],
      "metadata": {
        "colab": {
          "base_uri": "https://localhost:8080/"
        },
        "id": "ZaL60aOB4wSk",
        "outputId": "d221d9a8-fd70-4dbb-dd8a-9fe48394f18c"
      },
      "execution_count": null,
      "outputs": [
        {
          "output_type": "execute_result",
          "data": {
            "text/plain": [
              "Index(['vendor_id', 'authentication_id', 'latitude', 'longitude',\n",
              "       'vendor_category_en', 'delivery_charge', 'serving_distance', 'is_open',\n",
              "       'opening_time', 'preparation_time', 'discount_percentage', 'status',\n",
              "       'verified', 'rank', 'vendor_rating', 'vendor_tag', 'vendor_tag_name',\n",
              "       'created_at', 'updated_at', 'device_type'],\n",
              "      dtype='object')"
            ]
          },
          "metadata": {},
          "execution_count": 16
        }
      ]
    },
    {
      "cell_type": "markdown",
      "source": [
        "#### *Tabel Locations*"
      ],
      "metadata": {
        "id": "snckD8Uq5CKk"
      }
    },
    {
      "cell_type": "code",
      "source": [
        "# Menampilkan nama-nama kolom dari Tabel Locations\n",
        "df_locations.columns"
      ],
      "metadata": {
        "colab": {
          "base_uri": "https://localhost:8080/"
        },
        "id": "I7Ban9-0pp9Z",
        "outputId": "941da7b4-7baa-40e9-be76-bd89c6bb627c"
      },
      "execution_count": null,
      "outputs": [
        {
          "output_type": "execute_result",
          "data": {
            "text/plain": [
              "Index(['customer_id', 'location_number', 'latitude', 'longitude'], dtype='object')"
            ]
          },
          "metadata": {},
          "execution_count": 17
        }
      ]
    },
    {
      "cell_type": "markdown",
      "source": [
        "Tidak ada typo maupun nama kolom yang tidak sesuai pada Tabel Locations."
      ],
      "metadata": {
        "id": "lDvJ8e8V5Nwh"
      }
    },
    {
      "cell_type": "markdown",
      "source": [
        "### Missing Value"
      ],
      "metadata": {
        "id": "ikXzdqyL_DML"
      }
    },
    {
      "cell_type": "markdown",
      "source": [
        "#### *Tabel Customers*"
      ],
      "metadata": {
        "id": "pvpw1y-k_NFb"
      }
    },
    {
      "cell_type": "markdown",
      "source": [
        "*Note: sebelum memulai suatu proses, akan dilakukan deklarasi nama variabel baru untuk mempermudah pengerjaan dengan melakukan copy terlebih dahulu dilanjutkan dengan mendeklarasi*"
      ],
      "metadata": {
        "id": "vWbxKqGaDlu6"
      }
    },
    {
      "cell_type": "code",
      "source": [
        "# Meng-copy variabel 'df_customers' lalu meng-assignnya ke dalam variabel baru\n",
        "df_cust_missing_value = df_customers.copy()"
      ],
      "metadata": {
        "id": "TfPeupdK_pQA"
      },
      "execution_count": null,
      "outputs": []
    },
    {
      "cell_type": "code",
      "source": [
        "# Mengecek missing value Tabel Customers\n",
        "df_cust_missing_value.info()"
      ],
      "metadata": {
        "id": "KtuCJPJb6Vkm",
        "colab": {
          "base_uri": "https://localhost:8080/"
        },
        "outputId": "a26f207b-9c73-4061-9e09-308bced92461"
      },
      "execution_count": null,
      "outputs": [
        {
          "output_type": "stream",
          "name": "stdout",
          "text": [
            "<class 'pandas.core.frame.DataFrame'>\n",
            "RangeIndex: 9768 entries, 0 to 9767\n",
            "Data columns (total 7 columns):\n",
            " #   Column       Non-Null Count  Dtype \n",
            "---  ------       --------------  ----- \n",
            " 0   customer_id  9768 non-null   object\n",
            " 1   gender       9768 non-null   object\n",
            " 2   dob          9768 non-null   int64 \n",
            " 3   status       9768 non-null   int64 \n",
            " 4   verified     9768 non-null   int64 \n",
            " 5   created_at   9768 non-null   object\n",
            " 6   updated_at   9768 non-null   object\n",
            "dtypes: int64(3), object(4)\n",
            "memory usage: 534.3+ KB\n"
          ]
        }
      ]
    },
    {
      "cell_type": "code",
      "source": [
        "# Mengecek missing value Tabel Customers\n",
        "df_cust_missing_value.isnull().sum()"
      ],
      "metadata": {
        "colab": {
          "base_uri": "https://localhost:8080/"
        },
        "id": "IGFbwvZ5wCsL",
        "outputId": "1d247b34-58f0-4d68-9e85-e657b25d0252"
      },
      "execution_count": null,
      "outputs": [
        {
          "output_type": "execute_result",
          "data": {
            "text/plain": [
              "customer_id    0\n",
              "gender         0\n",
              "dob            0\n",
              "status         0\n",
              "verified       0\n",
              "created_at     0\n",
              "updated_at     0\n",
              "dtype: int64"
            ]
          },
          "metadata": {},
          "execution_count": 20
        }
      ]
    },
    {
      "cell_type": "markdown",
      "source": [
        "Dari informasi diatas diketahui bahwa tidak terdapat perbedaan jumlah data pada masing masing kolom, yang mengindikasikan bahwa tidak ada missing value pada Tabel Customers."
      ],
      "metadata": {
        "id": "-OqGtyqaAcEJ"
      }
    },
    {
      "cell_type": "markdown",
      "source": [
        "#### *Tabel Orders*"
      ],
      "metadata": {
        "id": "I8eO7Iz8_Qk2"
      }
    },
    {
      "cell_type": "code",
      "source": [
        "# Meng-copy variabel 'df_orders' lalu meng-assignnya ke dalam variabel baru\n",
        "df_ord_missing_value = df_orders.copy()"
      ],
      "metadata": {
        "id": "wHyahuXmABLd"
      },
      "execution_count": null,
      "outputs": []
    },
    {
      "cell_type": "code",
      "source": [
        "# Mengecek missing value Tabel Orders\n",
        "df_ord_missing_value.info()"
      ],
      "metadata": {
        "colab": {
          "base_uri": "https://localhost:8080/"
        },
        "id": "ser-XQhGAjhf",
        "outputId": "6b8e13a9-413e-4021-902a-342eaa7f9406"
      },
      "execution_count": null,
      "outputs": [
        {
          "output_type": "stream",
          "name": "stdout",
          "text": [
            "<class 'pandas.core.frame.DataFrame'>\n",
            "RangeIndex: 9768 entries, 0 to 9767\n",
            "Data columns (total 12 columns):\n",
            " #   Column             Non-Null Count  Dtype  \n",
            "---  ------             --------------  -----  \n",
            " 0   order_id           9764 non-null   float64\n",
            " 1   customer_id        9768 non-null   object \n",
            " 2   item_count         9261 non-null   float64\n",
            " 3   grand_total        9768 non-null   float64\n",
            " 4   payment_mode       9768 non-null   int64  \n",
            " 5   is_favorite        9668 non-null   object \n",
            " 6   is_rated           9768 non-null   object \n",
            " 7   driver_rating      9768 non-null   float64\n",
            " 8   delivery_distance  9768 non-null   float64\n",
            " 9   vendor_id          9768 non-null   int64  \n",
            " 10  created_at         9768 non-null   object \n",
            " 11  location_number    9768 non-null   int64  \n",
            "dtypes: float64(5), int64(3), object(4)\n",
            "memory usage: 915.9+ KB\n"
          ]
        }
      ]
    },
    {
      "cell_type": "code",
      "source": [
        "# Mengecek missing value Tabel Orders\n",
        "df_ord_missing_value.isnull().sum()"
      ],
      "metadata": {
        "colab": {
          "base_uri": "https://localhost:8080/"
        },
        "id": "qpvH35KaAnqQ",
        "outputId": "d340947b-693b-401b-d48e-c595da370c8a"
      },
      "execution_count": null,
      "outputs": [
        {
          "output_type": "execute_result",
          "data": {
            "text/plain": [
              "order_id               4\n",
              "customer_id            0\n",
              "item_count           507\n",
              "grand_total            0\n",
              "payment_mode           0\n",
              "is_favorite          100\n",
              "is_rated               0\n",
              "driver_rating          0\n",
              "delivery_distance      0\n",
              "vendor_id              0\n",
              "created_at             0\n",
              "location_number        0\n",
              "dtype: int64"
            ]
          },
          "metadata": {},
          "execution_count": 23
        }
      ]
    },
    {
      "cell_type": "markdown",
      "source": [
        "Dari informasi diatas diketahui bahwa terdapat perbedaan jumlah data pada kolom 'order_id', 'item_count', 'is_favorite', yang mengindikasikan bahwa terdapat missing value pada kolom tersebut."
      ],
      "metadata": {
        "id": "drkALHJoUBsP"
      }
    },
    {
      "cell_type": "markdown",
      "source": [
        "Mula-mula missing value pada kolom 'item_count' diatasi. Karena kolom 'item_count' bertipe numerik, maka missing value yang ada diganti oleh nilai mediannya."
      ],
      "metadata": {
        "id": "YkyCfsQGEUQl"
      }
    },
    {
      "cell_type": "code",
      "source": [
        "df_ord_missing_value['item_count'].describe()"
      ],
      "metadata": {
        "colab": {
          "base_uri": "https://localhost:8080/"
        },
        "id": "Rg97RpzqXfxF",
        "outputId": "a572f7e8-2c59-47b1-8484-b507a79739ff"
      },
      "execution_count": null,
      "outputs": [
        {
          "output_type": "execute_result",
          "data": {
            "text/plain": [
              "count    9261.000000\n",
              "mean        2.379009\n",
              "std         1.597841\n",
              "min         1.000000\n",
              "25%         1.000000\n",
              "50%         2.000000\n",
              "75%         3.000000\n",
              "max        20.000000\n",
              "Name: item_count, dtype: float64"
            ]
          },
          "metadata": {},
          "execution_count": 24
        }
      ]
    },
    {
      "cell_type": "code",
      "source": [
        "# Mengganti missing value dengan nilai mediannya \n",
        "df_ord_missing_value['item_count'].fillna(int(df_ord_missing_value['item_count'].median()), inplace=True)"
      ],
      "metadata": {
        "id": "agDnaIIOYG3K"
      },
      "execution_count": null,
      "outputs": []
    },
    {
      "cell_type": "code",
      "source": [
        "df_ord_missing_value.isnull().sum()"
      ],
      "metadata": {
        "colab": {
          "base_uri": "https://localhost:8080/"
        },
        "id": "ttQoWHDzYXhr",
        "outputId": "7db86a8b-3dbd-4375-9b22-3f096c0f09c2"
      },
      "execution_count": null,
      "outputs": [
        {
          "output_type": "execute_result",
          "data": {
            "text/plain": [
              "order_id               4\n",
              "customer_id            0\n",
              "item_count             0\n",
              "grand_total            0\n",
              "payment_mode           0\n",
              "is_favorite          100\n",
              "is_rated               0\n",
              "driver_rating          0\n",
              "delivery_distance      0\n",
              "vendor_id              0\n",
              "created_at             0\n",
              "location_number        0\n",
              "dtype: int64"
            ]
          },
          "metadata": {},
          "execution_count": 26
        }
      ]
    },
    {
      "cell_type": "markdown",
      "source": [
        "Selanjutnya, missing value pada kolom 'is_favorite' diatasi. Karena kolom 'is_favorite' bertipe kategorik, maka missing value yang ada diganti oleh nilai modusnya."
      ],
      "metadata": {
        "id": "HV-e92sSEmSP"
      }
    },
    {
      "cell_type": "code",
      "source": [
        "df_ord_missing_value['is_favorite'].mode()"
      ],
      "metadata": {
        "colab": {
          "base_uri": "https://localhost:8080/"
        },
        "id": "AX9RNNLDfLd7",
        "outputId": "e9f53631-de72-449f-9cdc-96222c5b174f"
      },
      "execution_count": null,
      "outputs": [
        {
          "output_type": "execute_result",
          "data": {
            "text/plain": [
              "0    No\n",
              "Name: is_favorite, dtype: object"
            ]
          },
          "metadata": {},
          "execution_count": 27
        }
      ]
    },
    {
      "cell_type": "code",
      "source": [
        "df_ord_missing_value['is_favorite'].fillna(df_ord_missing_value['is_favorite'].mode(), inplace = True)"
      ],
      "metadata": {
        "id": "rzZMv6xJZGUZ"
      },
      "execution_count": null,
      "outputs": []
    },
    {
      "cell_type": "code",
      "source": [
        "df_ord_missing_value.isnull().sum()"
      ],
      "metadata": {
        "colab": {
          "base_uri": "https://localhost:8080/"
        },
        "id": "HigMcecmZ8EC",
        "outputId": "b291d70d-aec0-4108-a5ab-dd95af227c63"
      },
      "execution_count": null,
      "outputs": [
        {
          "output_type": "execute_result",
          "data": {
            "text/plain": [
              "order_id               4\n",
              "customer_id            0\n",
              "item_count             0\n",
              "grand_total            0\n",
              "payment_mode           0\n",
              "is_favorite          100\n",
              "is_rated               0\n",
              "driver_rating          0\n",
              "delivery_distance      0\n",
              "vendor_id              0\n",
              "created_at             0\n",
              "location_number        0\n",
              "dtype: int64"
            ]
          },
          "metadata": {},
          "execution_count": 29
        }
      ]
    },
    {
      "cell_type": "markdown",
      "source": [
        "*Note: karena tidak menunjukkan perubahan, maka saya menggunakan function 'replace'*"
      ],
      "metadata": {
        "id": "hvEq763KFNFi"
      }
    },
    {
      "cell_type": "code",
      "source": [
        "# Mengganti missing value dengan nilai modusnya\n",
        "df_ord_missing_value['is_favorite'].replace(np.nan, 'No', inplace = True)"
      ],
      "metadata": {
        "id": "dMMQZW7Ve-4v"
      },
      "execution_count": null,
      "outputs": []
    },
    {
      "cell_type": "code",
      "source": [
        "df_ord_missing_value.isnull().sum()"
      ],
      "metadata": {
        "colab": {
          "base_uri": "https://localhost:8080/"
        },
        "id": "Id9nhkNyfGCy",
        "outputId": "bdae83a3-a69f-4fbf-f1f7-7058105ed269"
      },
      "execution_count": null,
      "outputs": [
        {
          "output_type": "execute_result",
          "data": {
            "text/plain": [
              "order_id             4\n",
              "customer_id          0\n",
              "item_count           0\n",
              "grand_total          0\n",
              "payment_mode         0\n",
              "is_favorite          0\n",
              "is_rated             0\n",
              "driver_rating        0\n",
              "delivery_distance    0\n",
              "vendor_id            0\n",
              "created_at           0\n",
              "location_number      0\n",
              "dtype: int64"
            ]
          },
          "metadata": {},
          "execution_count": 31
        }
      ]
    },
    {
      "cell_type": "markdown",
      "source": [
        "Lalu, kita menghapus seluruh baris dengan 'order_id' yang missing"
      ],
      "metadata": {
        "id": "6cWNosS0FfHX"
      }
    },
    {
      "cell_type": "code",
      "source": [
        "# Menghapus baris dengan missing value\n",
        "df_ord_missing_value = df_ord_missing_value.dropna()"
      ],
      "metadata": {
        "id": "IQPyjrMuORyr"
      },
      "execution_count": null,
      "outputs": []
    },
    {
      "cell_type": "code",
      "source": [
        "# Mengecek kembali missing value pada Tabel Orders\n",
        "df_ord_missing_value.info()"
      ],
      "metadata": {
        "colab": {
          "base_uri": "https://localhost:8080/"
        },
        "id": "eOsh8fFKOV4U",
        "outputId": "9749c4be-3f8b-4bab-cd8a-d981efe599ac"
      },
      "execution_count": null,
      "outputs": [
        {
          "output_type": "stream",
          "name": "stdout",
          "text": [
            "<class 'pandas.core.frame.DataFrame'>\n",
            "Int64Index: 9764 entries, 0 to 9767\n",
            "Data columns (total 12 columns):\n",
            " #   Column             Non-Null Count  Dtype  \n",
            "---  ------             --------------  -----  \n",
            " 0   order_id           9764 non-null   float64\n",
            " 1   customer_id        9764 non-null   object \n",
            " 2   item_count         9764 non-null   float64\n",
            " 3   grand_total        9764 non-null   float64\n",
            " 4   payment_mode       9764 non-null   int64  \n",
            " 5   is_favorite        9764 non-null   object \n",
            " 6   is_rated           9764 non-null   object \n",
            " 7   driver_rating      9764 non-null   float64\n",
            " 8   delivery_distance  9764 non-null   float64\n",
            " 9   vendor_id          9764 non-null   int64  \n",
            " 10  created_at         9764 non-null   object \n",
            " 11  location_number    9764 non-null   int64  \n",
            "dtypes: float64(5), int64(3), object(4)\n",
            "memory usage: 991.7+ KB\n"
          ]
        }
      ]
    },
    {
      "cell_type": "code",
      "source": [
        "# Mengecek kembali missing value pada Tabel Orders\n",
        "df_ord_missing_value.isnull().sum()"
      ],
      "metadata": {
        "colab": {
          "base_uri": "https://localhost:8080/"
        },
        "id": "ZCJ9d4NEF3ua",
        "outputId": "3563a4e7-2aa1-4b76-a9d1-0f0e6222e8df"
      },
      "execution_count": null,
      "outputs": [
        {
          "output_type": "execute_result",
          "data": {
            "text/plain": [
              "order_id             0\n",
              "customer_id          0\n",
              "item_count           0\n",
              "grand_total          0\n",
              "payment_mode         0\n",
              "is_favorite          0\n",
              "is_rated             0\n",
              "driver_rating        0\n",
              "delivery_distance    0\n",
              "vendor_id            0\n",
              "created_at           0\n",
              "location_number      0\n",
              "dtype: int64"
            ]
          },
          "metadata": {},
          "execution_count": 34
        }
      ]
    },
    {
      "cell_type": "markdown",
      "source": [
        "#### *Tabel Vendors*"
      ],
      "metadata": {
        "id": "xgb8LhI__UYZ"
      }
    },
    {
      "cell_type": "code",
      "source": [
        "# Meng-copy variabel 'df_vendors' lalu meng-assignnya ke dalam variabel baru\n",
        "df_ven_missing_value = df_vendors.copy()"
      ],
      "metadata": {
        "id": "dI4yycWYAIkX"
      },
      "execution_count": null,
      "outputs": []
    },
    {
      "cell_type": "code",
      "source": [
        "# Mengecek missing value Tabel Vendors\n",
        "df_ven_missing_value.info()"
      ],
      "metadata": {
        "colab": {
          "base_uri": "https://localhost:8080/"
        },
        "outputId": "1f85b238-7c36-452f-df69-30beaeb3b914",
        "id": "2Hdnan0qGfMC"
      },
      "execution_count": null,
      "outputs": [
        {
          "output_type": "stream",
          "name": "stdout",
          "text": [
            "<class 'pandas.core.frame.DataFrame'>\n",
            "RangeIndex: 100 entries, 0 to 99\n",
            "Data columns (total 20 columns):\n",
            " #   Column               Non-Null Count  Dtype  \n",
            "---  ------               --------------  -----  \n",
            " 0   vendor_id            100 non-null    int64  \n",
            " 1   authentication_id    100 non-null    float64\n",
            " 2   latitude             100 non-null    float64\n",
            " 3   longitude            100 non-null    float64\n",
            " 4   vendor_category_en   100 non-null    object \n",
            " 5   delivery_charge      100 non-null    float64\n",
            " 6   serving_distance     100 non-null    float64\n",
            " 7   is_open              100 non-null    float64\n",
            " 8   opening_time         91 non-null     object \n",
            " 9   preparation_time     100 non-null    int64  \n",
            " 10  discount_percentage  100 non-null    float64\n",
            " 11  status               100 non-null    float64\n",
            " 12  verified             100 non-null    int64  \n",
            " 13  rank                 100 non-null    int64  \n",
            " 14  vendor_rating        100 non-null    float64\n",
            " 15  vendor_tag           97 non-null     object \n",
            " 16  vendor_tag_name      97 non-null     object \n",
            " 17  created_at           100 non-null    object \n",
            " 18  updated_at           100 non-null    object \n",
            " 19  device_type          100 non-null    int64  \n",
            "dtypes: float64(9), int64(5), object(6)\n",
            "memory usage: 15.8+ KB\n"
          ]
        }
      ]
    },
    {
      "cell_type": "code",
      "source": [
        "# Mengecek missing value Tabel Vendors\n",
        "df_ven_missing_value.isnull().sum()"
      ],
      "metadata": {
        "colab": {
          "base_uri": "https://localhost:8080/"
        },
        "outputId": "df7e3849-f36d-44ad-a6ed-d14ab9df5f01",
        "id": "LdsBeDwgGfME"
      },
      "execution_count": null,
      "outputs": [
        {
          "output_type": "execute_result",
          "data": {
            "text/plain": [
              "vendor_id              0\n",
              "authentication_id      0\n",
              "latitude               0\n",
              "longitude              0\n",
              "vendor_category_en     0\n",
              "delivery_charge        0\n",
              "serving_distance       0\n",
              "is_open                0\n",
              "opening_time           9\n",
              "preparation_time       0\n",
              "discount_percentage    0\n",
              "status                 0\n",
              "verified               0\n",
              "rank                   0\n",
              "vendor_rating          0\n",
              "vendor_tag             3\n",
              "vendor_tag_name        3\n",
              "created_at             0\n",
              "updated_at             0\n",
              "device_type            0\n",
              "dtype: int64"
            ]
          },
          "metadata": {},
          "execution_count": 37
        }
      ]
    },
    {
      "cell_type": "markdown",
      "source": [
        "Dari informasi diatas diketahui bahwa terdapat perbedaan jumlah data pada kolom 'opening_time', 'vendor_tag', 'vendor_tag_name', yang mengindikasikan bahwa terdapat missing value pada kolom tersebut."
      ],
      "metadata": {
        "id": "elAoHR_WGRKo"
      }
    },
    {
      "cell_type": "markdown",
      "source": [
        "Mula-mula missing value pada kolom 'opening_time' diatasi. Karena kolom 'opening_time' bertipe object, maka missing value yang ada diganti oleh nilai modusnya."
      ],
      "metadata": {
        "id": "LHQ3bg60GRKp"
      }
    },
    {
      "cell_type": "code",
      "source": [
        "df_ven_missing_value['opening_time'].mode()"
      ],
      "metadata": {
        "colab": {
          "base_uri": "https://localhost:8080/"
        },
        "id": "I4UDuEDuHPzI",
        "outputId": "2c38995e-f17b-464d-b7c5-0a4cda2c3f52"
      },
      "execution_count": null,
      "outputs": [
        {
          "output_type": "execute_result",
          "data": {
            "text/plain": [
              "0    11:00AM-11:00PM\n",
              "Name: opening_time, dtype: object"
            ]
          },
          "metadata": {},
          "execution_count": 38
        }
      ]
    },
    {
      "cell_type": "code",
      "source": [
        "# Mengganti missing value dengan nilai modusnya\n",
        "df_ven_missing_value['opening_time'].replace(np.nan, '11:00AM-11:00PM', inplace = True)"
      ],
      "metadata": {
        "id": "mjfdKIHaIGSs"
      },
      "execution_count": null,
      "outputs": []
    },
    {
      "cell_type": "code",
      "source": [
        "df_ven_missing_value.isnull().sum()"
      ],
      "metadata": {
        "colab": {
          "base_uri": "https://localhost:8080/"
        },
        "id": "tcbbIbtBINNm",
        "outputId": "c5660364-72cf-4641-f47e-f2e854f448c4"
      },
      "execution_count": null,
      "outputs": [
        {
          "output_type": "execute_result",
          "data": {
            "text/plain": [
              "vendor_id              0\n",
              "authentication_id      0\n",
              "latitude               0\n",
              "longitude              0\n",
              "vendor_category_en     0\n",
              "delivery_charge        0\n",
              "serving_distance       0\n",
              "is_open                0\n",
              "opening_time           0\n",
              "preparation_time       0\n",
              "discount_percentage    0\n",
              "status                 0\n",
              "verified               0\n",
              "rank                   0\n",
              "vendor_rating          0\n",
              "vendor_tag             3\n",
              "vendor_tag_name        3\n",
              "created_at             0\n",
              "updated_at             0\n",
              "device_type            0\n",
              "dtype: int64"
            ]
          },
          "metadata": {},
          "execution_count": 40
        }
      ]
    },
    {
      "cell_type": "markdown",
      "source": [
        "Selanjutnya, missing value pada kolom 'vendor_tag' dan 'vendor_tag_name' diatasi. Karena kolom 'vendor_tag' dan 'vendor_tag_name' bertipe object, maka missing value yang ada diganti oleh nilai modusnya."
      ],
      "metadata": {
        "id": "pP9CzIkzGRKs"
      }
    },
    {
      "cell_type": "code",
      "source": [
        "df_ven_missing_value['vendor_tag'].mode()"
      ],
      "metadata": {
        "colab": {
          "base_uri": "https://localhost:8080/"
        },
        "id": "hSD9dEReHWoF",
        "outputId": "ad7b8a8e-d20d-4526-8277-42570f83366f"
      },
      "execution_count": null,
      "outputs": [
        {
          "output_type": "execute_result",
          "data": {
            "text/plain": [
              "0    1,4,5,6,8,91,30,43,48,24\n",
              "Name: vendor_tag, dtype: object"
            ]
          },
          "metadata": {},
          "execution_count": 41
        }
      ]
    },
    {
      "cell_type": "code",
      "source": [
        "# Mengganti missing value dengan nilai modusnya\n",
        "df_ven_missing_value['vendor_tag'].replace(np.nan, '1,4,5,6,8,91,30,43,48,24', inplace = True)"
      ],
      "metadata": {
        "id": "sPqAopLjGRKv"
      },
      "execution_count": null,
      "outputs": []
    },
    {
      "cell_type": "code",
      "source": [
        "df_ven_missing_value.isnull().sum()"
      ],
      "metadata": {
        "colab": {
          "base_uri": "https://localhost:8080/"
        },
        "outputId": "a041db45-5b01-45a2-e178-5aa87c9c4929",
        "id": "ZxjeGCcCGRKw"
      },
      "execution_count": null,
      "outputs": [
        {
          "output_type": "execute_result",
          "data": {
            "text/plain": [
              "vendor_id              0\n",
              "authentication_id      0\n",
              "latitude               0\n",
              "longitude              0\n",
              "vendor_category_en     0\n",
              "delivery_charge        0\n",
              "serving_distance       0\n",
              "is_open                0\n",
              "opening_time           0\n",
              "preparation_time       0\n",
              "discount_percentage    0\n",
              "status                 0\n",
              "verified               0\n",
              "rank                   0\n",
              "vendor_rating          0\n",
              "vendor_tag             0\n",
              "vendor_tag_name        3\n",
              "created_at             0\n",
              "updated_at             0\n",
              "device_type            0\n",
              "dtype: int64"
            ]
          },
          "metadata": {},
          "execution_count": 43
        }
      ]
    },
    {
      "cell_type": "code",
      "source": [
        "df_ven_missing_value['vendor_tag_name'].mode()"
      ],
      "metadata": {
        "colab": {
          "base_uri": "https://localhost:8080/"
        },
        "id": "lTZ4xsQZLXbm",
        "outputId": "51ec49dc-ecca-4407-ff45-67cd21d6f9ef"
      },
      "execution_count": null,
      "outputs": [
        {
          "output_type": "execute_result",
          "data": {
            "text/plain": [
              "0    American,Breakfast,Burgers,Cafe,Desserts,Free ...\n",
              "Name: vendor_tag_name, dtype: object"
            ]
          },
          "metadata": {},
          "execution_count": 44
        }
      ]
    },
    {
      "cell_type": "code",
      "source": [
        "df_ven_missing_value['vendor_tag_name'].value_counts()"
      ],
      "metadata": {
        "colab": {
          "base_uri": "https://localhost:8080/"
        },
        "id": "7T3I2KJ1Itji",
        "outputId": "124df05a-eaef-45bb-c7b8-dd93912da65d"
      },
      "execution_count": null,
      "outputs": [
        {
          "output_type": "execute_result",
          "data": {
            "text/plain": [
              "American,Breakfast,Burgers,Cafe,Desserts,Free Delivery,Fries,Ice creams,Kids meal,Salads    7\n",
              "Coffee,Fresh Juices,Hot Chocolate,Sandwiches,Smoothies                                      3\n",
              "American,Burgers,Free Delivery,Hot Dogs,Pasta                                               3\n",
              "Biryani,Desserts,Indian,Kebabs,Rice                                                         3\n",
              "Fresh Juices,Sandwiches,Shawarma                                                            3\n",
              "                                                                                           ..\n",
              "Breakfast,Burgers,Grills,Pizza,Sandwiches,Shawarma                                          1\n",
              "Arabic,Pizzas,Sandwiches                                                                    1\n",
              "Burgers,Healthy Food,Milkshakes,Sandwiches,Steaks                                           1\n",
              "Desserts,Free Delivery,Healthy Food,Sweets                                                  1\n",
              "Fatayers,Mojitos ,Sandwiches                                                                1\n",
              "Name: vendor_tag_name, Length: 77, dtype: int64"
            ]
          },
          "metadata": {},
          "execution_count": 45
        }
      ]
    },
    {
      "cell_type": "code",
      "source": [
        "# Mengganti missing value dengan nilai modusnya\n",
        "df_ven_missing_value['vendor_tag_name'].replace(np.nan, 'American,Breakfast,Burgers,Cafe,Desserts,Free Delivery,Fries,Ice creams,Kids meal,Salads', inplace = True)"
      ],
      "metadata": {
        "id": "B-PjHW9NGRK0"
      },
      "execution_count": null,
      "outputs": []
    },
    {
      "cell_type": "code",
      "source": [
        "# Mengecek kembali missing value pada Tabel Vendors\n",
        "df_ven_missing_value.info()"
      ],
      "metadata": {
        "colab": {
          "base_uri": "https://localhost:8080/"
        },
        "outputId": "7a9c0724-bac4-4f22-ff07-d55261bd72f2",
        "id": "blAcL3HnGRK1"
      },
      "execution_count": null,
      "outputs": [
        {
          "output_type": "stream",
          "name": "stdout",
          "text": [
            "<class 'pandas.core.frame.DataFrame'>\n",
            "RangeIndex: 100 entries, 0 to 99\n",
            "Data columns (total 20 columns):\n",
            " #   Column               Non-Null Count  Dtype  \n",
            "---  ------               --------------  -----  \n",
            " 0   vendor_id            100 non-null    int64  \n",
            " 1   authentication_id    100 non-null    float64\n",
            " 2   latitude             100 non-null    float64\n",
            " 3   longitude            100 non-null    float64\n",
            " 4   vendor_category_en   100 non-null    object \n",
            " 5   delivery_charge      100 non-null    float64\n",
            " 6   serving_distance     100 non-null    float64\n",
            " 7   is_open              100 non-null    float64\n",
            " 8   opening_time         100 non-null    object \n",
            " 9   preparation_time     100 non-null    int64  \n",
            " 10  discount_percentage  100 non-null    float64\n",
            " 11  status               100 non-null    float64\n",
            " 12  verified             100 non-null    int64  \n",
            " 13  rank                 100 non-null    int64  \n",
            " 14  vendor_rating        100 non-null    float64\n",
            " 15  vendor_tag           100 non-null    object \n",
            " 16  vendor_tag_name      100 non-null    object \n",
            " 17  created_at           100 non-null    object \n",
            " 18  updated_at           100 non-null    object \n",
            " 19  device_type          100 non-null    int64  \n",
            "dtypes: float64(9), int64(5), object(6)\n",
            "memory usage: 15.8+ KB\n"
          ]
        }
      ]
    },
    {
      "cell_type": "code",
      "source": [
        "# Mengecek kembali missing value pada Tabel Vendors\n",
        "df_ven_missing_value.isnull().sum()"
      ],
      "metadata": {
        "colab": {
          "base_uri": "https://localhost:8080/"
        },
        "outputId": "2aca4ffb-3b04-40a8-cd1c-597c854e0b4b",
        "id": "VBZ5b48lGRK2"
      },
      "execution_count": null,
      "outputs": [
        {
          "output_type": "execute_result",
          "data": {
            "text/plain": [
              "vendor_id              0\n",
              "authentication_id      0\n",
              "latitude               0\n",
              "longitude              0\n",
              "vendor_category_en     0\n",
              "delivery_charge        0\n",
              "serving_distance       0\n",
              "is_open                0\n",
              "opening_time           0\n",
              "preparation_time       0\n",
              "discount_percentage    0\n",
              "status                 0\n",
              "verified               0\n",
              "rank                   0\n",
              "vendor_rating          0\n",
              "vendor_tag             0\n",
              "vendor_tag_name        0\n",
              "created_at             0\n",
              "updated_at             0\n",
              "device_type            0\n",
              "dtype: int64"
            ]
          },
          "metadata": {},
          "execution_count": 48
        }
      ]
    },
    {
      "cell_type": "markdown",
      "source": [
        "#### *Tabel Locations*"
      ],
      "metadata": {
        "id": "wChhXSns_XEN"
      }
    },
    {
      "cell_type": "code",
      "source": [
        "# Meng-copy variabel 'df_locations' lalu meng-assignnya ke dalam variabel baru\n",
        "df_loc_missing_value = df_locations.copy()"
      ],
      "metadata": {
        "id": "iI0lSi4UAOa1"
      },
      "execution_count": null,
      "outputs": []
    },
    {
      "cell_type": "code",
      "source": [
        "# Mengecek missing value Tabel Locations\n",
        "df_loc_missing_value.info()"
      ],
      "metadata": {
        "colab": {
          "base_uri": "https://localhost:8080/"
        },
        "outputId": "b3f3320f-9a8e-439f-a123-f2f8d6fd3548",
        "id": "8fNzVIhxMnCw"
      },
      "execution_count": null,
      "outputs": [
        {
          "output_type": "stream",
          "name": "stdout",
          "text": [
            "<class 'pandas.core.frame.DataFrame'>\n",
            "RangeIndex: 16720 entries, 0 to 16719\n",
            "Data columns (total 4 columns):\n",
            " #   Column           Non-Null Count  Dtype  \n",
            "---  ------           --------------  -----  \n",
            " 0   customer_id      16720 non-null  object \n",
            " 1   location_number  16720 non-null  int64  \n",
            " 2   latitude         16717 non-null  float64\n",
            " 3   longitude        16717 non-null  float64\n",
            "dtypes: float64(2), int64(1), object(1)\n",
            "memory usage: 522.6+ KB\n"
          ]
        }
      ]
    },
    {
      "cell_type": "code",
      "source": [
        "# Mengecek missing value Tabel Locations\n",
        "df_loc_missing_value.isnull().sum()"
      ],
      "metadata": {
        "colab": {
          "base_uri": "https://localhost:8080/"
        },
        "outputId": "c2dd927f-da90-49db-bd52-e6302fb9e7e8",
        "id": "rlzsaSKCMnCy"
      },
      "execution_count": null,
      "outputs": [
        {
          "output_type": "execute_result",
          "data": {
            "text/plain": [
              "customer_id        0\n",
              "location_number    0\n",
              "latitude           3\n",
              "longitude          3\n",
              "dtype: int64"
            ]
          },
          "metadata": {},
          "execution_count": 51
        }
      ]
    },
    {
      "cell_type": "markdown",
      "source": [
        "Dari informasi diatas diketahui bahwa terdapat perbedaan jumlah data pada kolom 'latitude' dan 'longitude', yang mengindikasikan bahwa terdapat missing value pada kolom tersebut."
      ],
      "metadata": {
        "id": "fX26kMOZNDzK"
      }
    },
    {
      "cell_type": "markdown",
      "source": [
        "Untuk kolom 'latitude' dan 'longitude' kita coba mengganti dengan nilai modusnya."
      ],
      "metadata": {
        "id": "KsEY9D1hOVVD"
      }
    },
    {
      "cell_type": "code",
      "source": [
        "df_loc_missing_value['latitude'].mode()"
      ],
      "metadata": {
        "colab": {
          "base_uri": "https://localhost:8080/"
        },
        "id": "-Bz86YrlOUdw",
        "outputId": "7313d076-ad3a-4245-bca7-c1b542434e39"
      },
      "execution_count": null,
      "outputs": [
        {
          "output_type": "execute_result",
          "data": {
            "text/plain": [
              "0   -96.407538\n",
              "Name: latitude, dtype: float64"
            ]
          },
          "metadata": {},
          "execution_count": 52
        }
      ]
    },
    {
      "cell_type": "code",
      "source": [
        "# Mengganti missing value dengan nilai modusnya\n",
        "df_loc_missing_value['latitude'].replace(np.nan, '-96.407538', inplace = True)"
      ],
      "metadata": {
        "id": "IZYVuzkCO8V4"
      },
      "execution_count": null,
      "outputs": []
    },
    {
      "cell_type": "code",
      "source": [
        "df_loc_missing_value.isnull().sum()"
      ],
      "metadata": {
        "colab": {
          "base_uri": "https://localhost:8080/"
        },
        "id": "hzHa4SBgPGPD",
        "outputId": "49dd425d-ed48-433d-ced0-8a53ad9d42f7"
      },
      "execution_count": null,
      "outputs": [
        {
          "output_type": "execute_result",
          "data": {
            "text/plain": [
              "customer_id        0\n",
              "location_number    0\n",
              "latitude           0\n",
              "longitude          3\n",
              "dtype: int64"
            ]
          },
          "metadata": {},
          "execution_count": 54
        }
      ]
    },
    {
      "cell_type": "code",
      "source": [
        "df_loc_missing_value['longitude'].mode()"
      ],
      "metadata": {
        "colab": {
          "base_uri": "https://localhost:8080/"
        },
        "outputId": "10e69eef-f172-454d-cdf2-db65608cfdc1",
        "id": "gP0LL5VpPes4"
      },
      "execution_count": null,
      "outputs": [
        {
          "output_type": "execute_result",
          "data": {
            "text/plain": [
              "0   -67.197291\n",
              "Name: longitude, dtype: float64"
            ]
          },
          "metadata": {},
          "execution_count": 55
        }
      ]
    },
    {
      "cell_type": "code",
      "source": [
        "# Mengganti missing value dengan nilai modusnya\n",
        "df_loc_missing_value['longitude'].replace(np.nan, '-67.197291', inplace = True)"
      ],
      "metadata": {
        "id": "LNSLWqGcPetV"
      },
      "execution_count": null,
      "outputs": []
    },
    {
      "cell_type": "code",
      "source": [
        "df_loc_missing_value.isnull().sum()"
      ],
      "metadata": {
        "colab": {
          "base_uri": "https://localhost:8080/"
        },
        "outputId": "09dda2c9-41eb-4032-9703-f80bc5d5fdbd",
        "id": "7ugY_kI4PetW"
      },
      "execution_count": null,
      "outputs": [
        {
          "output_type": "execute_result",
          "data": {
            "text/plain": [
              "customer_id        0\n",
              "location_number    0\n",
              "latitude           0\n",
              "longitude          0\n",
              "dtype: int64"
            ]
          },
          "metadata": {},
          "execution_count": 57
        }
      ]
    },
    {
      "cell_type": "markdown",
      "source": [
        "### Duplicate"
      ],
      "metadata": {
        "id": "Uh9I7xqrPpl3"
      }
    },
    {
      "cell_type": "markdown",
      "source": [
        "#### *Tabel Customers*"
      ],
      "metadata": {
        "id": "uF1mhoOcPsru"
      }
    },
    {
      "cell_type": "code",
      "source": [
        "# Meng-copy variabel 'df_cust_missing_value' lalu meng-assignnya ke dalam variabel baru\n",
        "df_cust_duplicate = df_cust_missing_value.copy()"
      ],
      "metadata": {
        "id": "1UOnpdYlQFCT"
      },
      "execution_count": null,
      "outputs": []
    },
    {
      "cell_type": "code",
      "source": [
        "# Mengecek duplicate data Tabel Customers\n",
        "df_cust_duplicate[df_cust_duplicate.duplicated(keep=False)]"
      ],
      "metadata": {
        "colab": {
          "base_uri": "https://localhost:8080/"
        },
        "id": "44eJz09gP8ql",
        "outputId": "05464fdf-c167-4e06-dec2-2a809e3fb96a"
      },
      "execution_count": null,
      "outputs": [
        {
          "output_type": "execute_result",
          "data": {
            "text/plain": [
              "Empty DataFrame\n",
              "Columns: [customer_id, gender, dob, status, verified, created_at, updated_at]\n",
              "Index: []"
            ],
            "text/html": [
              "\n",
              "  <div id=\"df-5f376212-8b38-47f6-98d3-a578efa9ab01\">\n",
              "    <div class=\"colab-df-container\">\n",
              "      <div>\n",
              "<style scoped>\n",
              "    .dataframe tbody tr th:only-of-type {\n",
              "        vertical-align: middle;\n",
              "    }\n",
              "\n",
              "    .dataframe tbody tr th {\n",
              "        vertical-align: top;\n",
              "    }\n",
              "\n",
              "    .dataframe thead th {\n",
              "        text-align: right;\n",
              "    }\n",
              "</style>\n",
              "<table border=\"1\" class=\"dataframe\">\n",
              "  <thead>\n",
              "    <tr style=\"text-align: right;\">\n",
              "      <th></th>\n",
              "      <th>customer_id</th>\n",
              "      <th>gender</th>\n",
              "      <th>dob</th>\n",
              "      <th>status</th>\n",
              "      <th>verified</th>\n",
              "      <th>created_at</th>\n",
              "      <th>updated_at</th>\n",
              "    </tr>\n",
              "  </thead>\n",
              "  <tbody>\n",
              "  </tbody>\n",
              "</table>\n",
              "</div>\n",
              "      <button class=\"colab-df-convert\" onclick=\"convertToInteractive('df-5f376212-8b38-47f6-98d3-a578efa9ab01')\"\n",
              "              title=\"Convert this dataframe to an interactive table.\"\n",
              "              style=\"display:none;\">\n",
              "        \n",
              "  <svg xmlns=\"http://www.w3.org/2000/svg\" height=\"24px\"viewBox=\"0 0 24 24\"\n",
              "       width=\"24px\">\n",
              "    <path d=\"M0 0h24v24H0V0z\" fill=\"none\"/>\n",
              "    <path d=\"M18.56 5.44l.94 2.06.94-2.06 2.06-.94-2.06-.94-.94-2.06-.94 2.06-2.06.94zm-11 1L8.5 8.5l.94-2.06 2.06-.94-2.06-.94L8.5 2.5l-.94 2.06-2.06.94zm10 10l.94 2.06.94-2.06 2.06-.94-2.06-.94-.94-2.06-.94 2.06-2.06.94z\"/><path d=\"M17.41 7.96l-1.37-1.37c-.4-.4-.92-.59-1.43-.59-.52 0-1.04.2-1.43.59L10.3 9.45l-7.72 7.72c-.78.78-.78 2.05 0 2.83L4 21.41c.39.39.9.59 1.41.59.51 0 1.02-.2 1.41-.59l7.78-7.78 2.81-2.81c.8-.78.8-2.07 0-2.86zM5.41 20L4 18.59l7.72-7.72 1.47 1.35L5.41 20z\"/>\n",
              "  </svg>\n",
              "      </button>\n",
              "      \n",
              "  <style>\n",
              "    .colab-df-container {\n",
              "      display:flex;\n",
              "      flex-wrap:wrap;\n",
              "      gap: 12px;\n",
              "    }\n",
              "\n",
              "    .colab-df-convert {\n",
              "      background-color: #E8F0FE;\n",
              "      border: none;\n",
              "      border-radius: 50%;\n",
              "      cursor: pointer;\n",
              "      display: none;\n",
              "      fill: #1967D2;\n",
              "      height: 32px;\n",
              "      padding: 0 0 0 0;\n",
              "      width: 32px;\n",
              "    }\n",
              "\n",
              "    .colab-df-convert:hover {\n",
              "      background-color: #E2EBFA;\n",
              "      box-shadow: 0px 1px 2px rgba(60, 64, 67, 0.3), 0px 1px 3px 1px rgba(60, 64, 67, 0.15);\n",
              "      fill: #174EA6;\n",
              "    }\n",
              "\n",
              "    [theme=dark] .colab-df-convert {\n",
              "      background-color: #3B4455;\n",
              "      fill: #D2E3FC;\n",
              "    }\n",
              "\n",
              "    [theme=dark] .colab-df-convert:hover {\n",
              "      background-color: #434B5C;\n",
              "      box-shadow: 0px 1px 3px 1px rgba(0, 0, 0, 0.15);\n",
              "      filter: drop-shadow(0px 1px 2px rgba(0, 0, 0, 0.3));\n",
              "      fill: #FFFFFF;\n",
              "    }\n",
              "  </style>\n",
              "\n",
              "      <script>\n",
              "        const buttonEl =\n",
              "          document.querySelector('#df-5f376212-8b38-47f6-98d3-a578efa9ab01 button.colab-df-convert');\n",
              "        buttonEl.style.display =\n",
              "          google.colab.kernel.accessAllowed ? 'block' : 'none';\n",
              "\n",
              "        async function convertToInteractive(key) {\n",
              "          const element = document.querySelector('#df-5f376212-8b38-47f6-98d3-a578efa9ab01');\n",
              "          const dataTable =\n",
              "            await google.colab.kernel.invokeFunction('convertToInteractive',\n",
              "                                                     [key], {});\n",
              "          if (!dataTable) return;\n",
              "\n",
              "          const docLinkHtml = 'Like what you see? Visit the ' +\n",
              "            '<a target=\"_blank\" href=https://colab.research.google.com/notebooks/data_table.ipynb>data table notebook</a>'\n",
              "            + ' to learn more about interactive tables.';\n",
              "          element.innerHTML = '';\n",
              "          dataTable['output_type'] = 'display_data';\n",
              "          await google.colab.output.renderOutput(dataTable, element);\n",
              "          const docLink = document.createElement('div');\n",
              "          docLink.innerHTML = docLinkHtml;\n",
              "          element.appendChild(docLink);\n",
              "        }\n",
              "      </script>\n",
              "    </div>\n",
              "  </div>\n",
              "  "
            ]
          },
          "metadata": {},
          "execution_count": 59
        }
      ]
    },
    {
      "cell_type": "code",
      "source": [
        "# Mengecek duplicate data Tabel Customers\n",
        "df_cust_duplicate.duplicated().sum()"
      ],
      "metadata": {
        "colab": {
          "base_uri": "https://localhost:8080/"
        },
        "id": "4kFAdrWhQce4",
        "outputId": "d45e4607-ab22-4025-e069-3ed2ae912a64"
      },
      "execution_count": null,
      "outputs": [
        {
          "output_type": "execute_result",
          "data": {
            "text/plain": [
              "0"
            ]
          },
          "metadata": {},
          "execution_count": 60
        }
      ]
    },
    {
      "cell_type": "markdown",
      "source": [
        "Diperoleh bahwa tidak terdapat duplicate data pada Tabel Customers."
      ],
      "metadata": {
        "id": "hxpOCt5FQjFL"
      }
    },
    {
      "cell_type": "markdown",
      "source": [
        "#### *Tabel Orders*"
      ],
      "metadata": {
        "id": "F01gbAd1PsxW"
      }
    },
    {
      "cell_type": "code",
      "source": [
        "# Meng-copy variabel 'df_ord_missing_value' lalu meng-assignnya ke dalam variabel baru\n",
        "df_ord_duplicate = df_ord_missing_value.copy()"
      ],
      "metadata": {
        "id": "vjVaKnETQwWz"
      },
      "execution_count": null,
      "outputs": []
    },
    {
      "cell_type": "code",
      "source": [
        "# Mengecek duplicate data Tabel Orders\n",
        "df_ord_duplicate[df_ord_duplicate.duplicated(keep=False)]"
      ],
      "metadata": {
        "colab": {
          "base_uri": "https://localhost:8080/"
        },
        "outputId": "2413a889-f21a-4ac3-8ace-e9dcdba5781f",
        "id": "8zizBgdkQwW0"
      },
      "execution_count": null,
      "outputs": [
        {
          "output_type": "execute_result",
          "data": {
            "text/plain": [
              "Empty DataFrame\n",
              "Columns: [order_id, customer_id, item_count, grand_total, payment_mode, is_favorite, is_rated, driver_rating, delivery_distance, vendor_id, created_at, location_number]\n",
              "Index: []"
            ],
            "text/html": [
              "\n",
              "  <div id=\"df-663d41b5-f7d3-4aeb-97ab-93ce12eaf2c7\">\n",
              "    <div class=\"colab-df-container\">\n",
              "      <div>\n",
              "<style scoped>\n",
              "    .dataframe tbody tr th:only-of-type {\n",
              "        vertical-align: middle;\n",
              "    }\n",
              "\n",
              "    .dataframe tbody tr th {\n",
              "        vertical-align: top;\n",
              "    }\n",
              "\n",
              "    .dataframe thead th {\n",
              "        text-align: right;\n",
              "    }\n",
              "</style>\n",
              "<table border=\"1\" class=\"dataframe\">\n",
              "  <thead>\n",
              "    <tr style=\"text-align: right;\">\n",
              "      <th></th>\n",
              "      <th>order_id</th>\n",
              "      <th>customer_id</th>\n",
              "      <th>item_count</th>\n",
              "      <th>grand_total</th>\n",
              "      <th>payment_mode</th>\n",
              "      <th>is_favorite</th>\n",
              "      <th>is_rated</th>\n",
              "      <th>driver_rating</th>\n",
              "      <th>delivery_distance</th>\n",
              "      <th>vendor_id</th>\n",
              "      <th>created_at</th>\n",
              "      <th>location_number</th>\n",
              "    </tr>\n",
              "  </thead>\n",
              "  <tbody>\n",
              "  </tbody>\n",
              "</table>\n",
              "</div>\n",
              "      <button class=\"colab-df-convert\" onclick=\"convertToInteractive('df-663d41b5-f7d3-4aeb-97ab-93ce12eaf2c7')\"\n",
              "              title=\"Convert this dataframe to an interactive table.\"\n",
              "              style=\"display:none;\">\n",
              "        \n",
              "  <svg xmlns=\"http://www.w3.org/2000/svg\" height=\"24px\"viewBox=\"0 0 24 24\"\n",
              "       width=\"24px\">\n",
              "    <path d=\"M0 0h24v24H0V0z\" fill=\"none\"/>\n",
              "    <path d=\"M18.56 5.44l.94 2.06.94-2.06 2.06-.94-2.06-.94-.94-2.06-.94 2.06-2.06.94zm-11 1L8.5 8.5l.94-2.06 2.06-.94-2.06-.94L8.5 2.5l-.94 2.06-2.06.94zm10 10l.94 2.06.94-2.06 2.06-.94-2.06-.94-.94-2.06-.94 2.06-2.06.94z\"/><path d=\"M17.41 7.96l-1.37-1.37c-.4-.4-.92-.59-1.43-.59-.52 0-1.04.2-1.43.59L10.3 9.45l-7.72 7.72c-.78.78-.78 2.05 0 2.83L4 21.41c.39.39.9.59 1.41.59.51 0 1.02-.2 1.41-.59l7.78-7.78 2.81-2.81c.8-.78.8-2.07 0-2.86zM5.41 20L4 18.59l7.72-7.72 1.47 1.35L5.41 20z\"/>\n",
              "  </svg>\n",
              "      </button>\n",
              "      \n",
              "  <style>\n",
              "    .colab-df-container {\n",
              "      display:flex;\n",
              "      flex-wrap:wrap;\n",
              "      gap: 12px;\n",
              "    }\n",
              "\n",
              "    .colab-df-convert {\n",
              "      background-color: #E8F0FE;\n",
              "      border: none;\n",
              "      border-radius: 50%;\n",
              "      cursor: pointer;\n",
              "      display: none;\n",
              "      fill: #1967D2;\n",
              "      height: 32px;\n",
              "      padding: 0 0 0 0;\n",
              "      width: 32px;\n",
              "    }\n",
              "\n",
              "    .colab-df-convert:hover {\n",
              "      background-color: #E2EBFA;\n",
              "      box-shadow: 0px 1px 2px rgba(60, 64, 67, 0.3), 0px 1px 3px 1px rgba(60, 64, 67, 0.15);\n",
              "      fill: #174EA6;\n",
              "    }\n",
              "\n",
              "    [theme=dark] .colab-df-convert {\n",
              "      background-color: #3B4455;\n",
              "      fill: #D2E3FC;\n",
              "    }\n",
              "\n",
              "    [theme=dark] .colab-df-convert:hover {\n",
              "      background-color: #434B5C;\n",
              "      box-shadow: 0px 1px 3px 1px rgba(0, 0, 0, 0.15);\n",
              "      filter: drop-shadow(0px 1px 2px rgba(0, 0, 0, 0.3));\n",
              "      fill: #FFFFFF;\n",
              "    }\n",
              "  </style>\n",
              "\n",
              "      <script>\n",
              "        const buttonEl =\n",
              "          document.querySelector('#df-663d41b5-f7d3-4aeb-97ab-93ce12eaf2c7 button.colab-df-convert');\n",
              "        buttonEl.style.display =\n",
              "          google.colab.kernel.accessAllowed ? 'block' : 'none';\n",
              "\n",
              "        async function convertToInteractive(key) {\n",
              "          const element = document.querySelector('#df-663d41b5-f7d3-4aeb-97ab-93ce12eaf2c7');\n",
              "          const dataTable =\n",
              "            await google.colab.kernel.invokeFunction('convertToInteractive',\n",
              "                                                     [key], {});\n",
              "          if (!dataTable) return;\n",
              "\n",
              "          const docLinkHtml = 'Like what you see? Visit the ' +\n",
              "            '<a target=\"_blank\" href=https://colab.research.google.com/notebooks/data_table.ipynb>data table notebook</a>'\n",
              "            + ' to learn more about interactive tables.';\n",
              "          element.innerHTML = '';\n",
              "          dataTable['output_type'] = 'display_data';\n",
              "          await google.colab.output.renderOutput(dataTable, element);\n",
              "          const docLink = document.createElement('div');\n",
              "          docLink.innerHTML = docLinkHtml;\n",
              "          element.appendChild(docLink);\n",
              "        }\n",
              "      </script>\n",
              "    </div>\n",
              "  </div>\n",
              "  "
            ]
          },
          "metadata": {},
          "execution_count": 62
        }
      ]
    },
    {
      "cell_type": "code",
      "source": [
        "# Mengecek duplicate data Tabel Orders\n",
        "df_ord_duplicate.duplicated().sum()"
      ],
      "metadata": {
        "colab": {
          "base_uri": "https://localhost:8080/"
        },
        "outputId": "de6b6147-e102-4699-9266-3c13a128d15c",
        "id": "T9ZvZ5xiQwW0"
      },
      "execution_count": null,
      "outputs": [
        {
          "output_type": "execute_result",
          "data": {
            "text/plain": [
              "0"
            ]
          },
          "metadata": {},
          "execution_count": 63
        }
      ]
    },
    {
      "cell_type": "markdown",
      "source": [
        "Diperoleh bahwa tidak terdapat duplicate data pada Tabel Orders."
      ],
      "metadata": {
        "id": "I483q1weRAj8"
      }
    },
    {
      "cell_type": "markdown",
      "source": [
        "#### *Tabel Vendors*"
      ],
      "metadata": {
        "id": "BniueIMxPs05"
      }
    },
    {
      "cell_type": "code",
      "source": [
        "# Meng-copy variabel 'df_ven_missing_value' lalu meng-assignnya ke dalam variabel baru\n",
        "df_ven_duplicate = df_ven_missing_value.copy()"
      ],
      "metadata": {
        "id": "guqlCIk0RITe"
      },
      "execution_count": null,
      "outputs": []
    },
    {
      "cell_type": "code",
      "source": [
        "# Mengecek duplicate data Tabel Vendors\n",
        "df_ven_duplicate[df_ven_duplicate.duplicated(keep=False)]"
      ],
      "metadata": {
        "colab": {
          "base_uri": "https://localhost:8080/"
        },
        "outputId": "262a9a24-d8a5-4108-d1a2-49b5bd675a5c",
        "id": "CAArHUrBRITg"
      },
      "execution_count": null,
      "outputs": [
        {
          "output_type": "execute_result",
          "data": {
            "text/plain": [
              "Empty DataFrame\n",
              "Columns: [vendor_id, authentication_id, latitude, longitude, vendor_category_en, delivery_charge, serving_distance, is_open, opening_time, preparation_time, discount_percentage, status, verified, rank, vendor_rating, vendor_tag, vendor_tag_name, created_at, updated_at, device_type]\n",
              "Index: []"
            ],
            "text/html": [
              "\n",
              "  <div id=\"df-398b74b2-a509-4b45-90ca-bf09affb3d86\">\n",
              "    <div class=\"colab-df-container\">\n",
              "      <div>\n",
              "<style scoped>\n",
              "    .dataframe tbody tr th:only-of-type {\n",
              "        vertical-align: middle;\n",
              "    }\n",
              "\n",
              "    .dataframe tbody tr th {\n",
              "        vertical-align: top;\n",
              "    }\n",
              "\n",
              "    .dataframe thead th {\n",
              "        text-align: right;\n",
              "    }\n",
              "</style>\n",
              "<table border=\"1\" class=\"dataframe\">\n",
              "  <thead>\n",
              "    <tr style=\"text-align: right;\">\n",
              "      <th></th>\n",
              "      <th>vendor_id</th>\n",
              "      <th>authentication_id</th>\n",
              "      <th>latitude</th>\n",
              "      <th>longitude</th>\n",
              "      <th>vendor_category_en</th>\n",
              "      <th>delivery_charge</th>\n",
              "      <th>serving_distance</th>\n",
              "      <th>is_open</th>\n",
              "      <th>opening_time</th>\n",
              "      <th>preparation_time</th>\n",
              "      <th>discount_percentage</th>\n",
              "      <th>status</th>\n",
              "      <th>verified</th>\n",
              "      <th>rank</th>\n",
              "      <th>vendor_rating</th>\n",
              "      <th>vendor_tag</th>\n",
              "      <th>vendor_tag_name</th>\n",
              "      <th>created_at</th>\n",
              "      <th>updated_at</th>\n",
              "      <th>device_type</th>\n",
              "    </tr>\n",
              "  </thead>\n",
              "  <tbody>\n",
              "  </tbody>\n",
              "</table>\n",
              "</div>\n",
              "      <button class=\"colab-df-convert\" onclick=\"convertToInteractive('df-398b74b2-a509-4b45-90ca-bf09affb3d86')\"\n",
              "              title=\"Convert this dataframe to an interactive table.\"\n",
              "              style=\"display:none;\">\n",
              "        \n",
              "  <svg xmlns=\"http://www.w3.org/2000/svg\" height=\"24px\"viewBox=\"0 0 24 24\"\n",
              "       width=\"24px\">\n",
              "    <path d=\"M0 0h24v24H0V0z\" fill=\"none\"/>\n",
              "    <path d=\"M18.56 5.44l.94 2.06.94-2.06 2.06-.94-2.06-.94-.94-2.06-.94 2.06-2.06.94zm-11 1L8.5 8.5l.94-2.06 2.06-.94-2.06-.94L8.5 2.5l-.94 2.06-2.06.94zm10 10l.94 2.06.94-2.06 2.06-.94-2.06-.94-.94-2.06-.94 2.06-2.06.94z\"/><path d=\"M17.41 7.96l-1.37-1.37c-.4-.4-.92-.59-1.43-.59-.52 0-1.04.2-1.43.59L10.3 9.45l-7.72 7.72c-.78.78-.78 2.05 0 2.83L4 21.41c.39.39.9.59 1.41.59.51 0 1.02-.2 1.41-.59l7.78-7.78 2.81-2.81c.8-.78.8-2.07 0-2.86zM5.41 20L4 18.59l7.72-7.72 1.47 1.35L5.41 20z\"/>\n",
              "  </svg>\n",
              "      </button>\n",
              "      \n",
              "  <style>\n",
              "    .colab-df-container {\n",
              "      display:flex;\n",
              "      flex-wrap:wrap;\n",
              "      gap: 12px;\n",
              "    }\n",
              "\n",
              "    .colab-df-convert {\n",
              "      background-color: #E8F0FE;\n",
              "      border: none;\n",
              "      border-radius: 50%;\n",
              "      cursor: pointer;\n",
              "      display: none;\n",
              "      fill: #1967D2;\n",
              "      height: 32px;\n",
              "      padding: 0 0 0 0;\n",
              "      width: 32px;\n",
              "    }\n",
              "\n",
              "    .colab-df-convert:hover {\n",
              "      background-color: #E2EBFA;\n",
              "      box-shadow: 0px 1px 2px rgba(60, 64, 67, 0.3), 0px 1px 3px 1px rgba(60, 64, 67, 0.15);\n",
              "      fill: #174EA6;\n",
              "    }\n",
              "\n",
              "    [theme=dark] .colab-df-convert {\n",
              "      background-color: #3B4455;\n",
              "      fill: #D2E3FC;\n",
              "    }\n",
              "\n",
              "    [theme=dark] .colab-df-convert:hover {\n",
              "      background-color: #434B5C;\n",
              "      box-shadow: 0px 1px 3px 1px rgba(0, 0, 0, 0.15);\n",
              "      filter: drop-shadow(0px 1px 2px rgba(0, 0, 0, 0.3));\n",
              "      fill: #FFFFFF;\n",
              "    }\n",
              "  </style>\n",
              "\n",
              "      <script>\n",
              "        const buttonEl =\n",
              "          document.querySelector('#df-398b74b2-a509-4b45-90ca-bf09affb3d86 button.colab-df-convert');\n",
              "        buttonEl.style.display =\n",
              "          google.colab.kernel.accessAllowed ? 'block' : 'none';\n",
              "\n",
              "        async function convertToInteractive(key) {\n",
              "          const element = document.querySelector('#df-398b74b2-a509-4b45-90ca-bf09affb3d86');\n",
              "          const dataTable =\n",
              "            await google.colab.kernel.invokeFunction('convertToInteractive',\n",
              "                                                     [key], {});\n",
              "          if (!dataTable) return;\n",
              "\n",
              "          const docLinkHtml = 'Like what you see? Visit the ' +\n",
              "            '<a target=\"_blank\" href=https://colab.research.google.com/notebooks/data_table.ipynb>data table notebook</a>'\n",
              "            + ' to learn more about interactive tables.';\n",
              "          element.innerHTML = '';\n",
              "          dataTable['output_type'] = 'display_data';\n",
              "          await google.colab.output.renderOutput(dataTable, element);\n",
              "          const docLink = document.createElement('div');\n",
              "          docLink.innerHTML = docLinkHtml;\n",
              "          element.appendChild(docLink);\n",
              "        }\n",
              "      </script>\n",
              "    </div>\n",
              "  </div>\n",
              "  "
            ]
          },
          "metadata": {},
          "execution_count": 65
        }
      ]
    },
    {
      "cell_type": "code",
      "source": [
        "# Mengecek duplicate data Tabel Vendors\n",
        "df_ven_duplicate.duplicated().sum()"
      ],
      "metadata": {
        "colab": {
          "base_uri": "https://localhost:8080/"
        },
        "outputId": "8817709e-7042-4e65-e94d-2bb47c28d659",
        "id": "Z2stnjHIRITg"
      },
      "execution_count": null,
      "outputs": [
        {
          "output_type": "execute_result",
          "data": {
            "text/plain": [
              "0"
            ]
          },
          "metadata": {},
          "execution_count": 66
        }
      ]
    },
    {
      "cell_type": "markdown",
      "source": [
        "Diperoleh bahwa tidak terdapat duplicate data pada Tabel Vendors."
      ],
      "metadata": {
        "id": "QzruzpsURITh"
      }
    },
    {
      "cell_type": "markdown",
      "source": [
        "#### *Tabel Locations*"
      ],
      "metadata": {
        "id": "sICZ7SwmPtIX"
      }
    },
    {
      "cell_type": "code",
      "source": [
        "# Meng-copy variabel 'df_loc_missing_value' lalu meng-assignnya ke dalam variabel baru\n",
        "df_loc_duplicate = df_loc_missing_value.copy()"
      ],
      "metadata": {
        "id": "XjV4q_oQRaIC"
      },
      "execution_count": null,
      "outputs": []
    },
    {
      "cell_type": "code",
      "source": [
        "# Mengecek duplicate data Tabel Locations\n",
        "df_loc_duplicate[df_loc_duplicate.duplicated(keep=False)]"
      ],
      "metadata": {
        "colab": {
          "base_uri": "https://localhost:8080/"
        },
        "outputId": "6a7e9d2b-f806-4c50-a7b4-d703acf7cc8f",
        "id": "6TR17l5fRaIC"
      },
      "execution_count": null,
      "outputs": [
        {
          "output_type": "execute_result",
          "data": {
            "text/plain": [
              "Empty DataFrame\n",
              "Columns: [customer_id, location_number, latitude, longitude]\n",
              "Index: []"
            ],
            "text/html": [
              "\n",
              "  <div id=\"df-bc4d08f2-2c94-4e53-8a25-db886d33f7e4\">\n",
              "    <div class=\"colab-df-container\">\n",
              "      <div>\n",
              "<style scoped>\n",
              "    .dataframe tbody tr th:only-of-type {\n",
              "        vertical-align: middle;\n",
              "    }\n",
              "\n",
              "    .dataframe tbody tr th {\n",
              "        vertical-align: top;\n",
              "    }\n",
              "\n",
              "    .dataframe thead th {\n",
              "        text-align: right;\n",
              "    }\n",
              "</style>\n",
              "<table border=\"1\" class=\"dataframe\">\n",
              "  <thead>\n",
              "    <tr style=\"text-align: right;\">\n",
              "      <th></th>\n",
              "      <th>customer_id</th>\n",
              "      <th>location_number</th>\n",
              "      <th>latitude</th>\n",
              "      <th>longitude</th>\n",
              "    </tr>\n",
              "  </thead>\n",
              "  <tbody>\n",
              "  </tbody>\n",
              "</table>\n",
              "</div>\n",
              "      <button class=\"colab-df-convert\" onclick=\"convertToInteractive('df-bc4d08f2-2c94-4e53-8a25-db886d33f7e4')\"\n",
              "              title=\"Convert this dataframe to an interactive table.\"\n",
              "              style=\"display:none;\">\n",
              "        \n",
              "  <svg xmlns=\"http://www.w3.org/2000/svg\" height=\"24px\"viewBox=\"0 0 24 24\"\n",
              "       width=\"24px\">\n",
              "    <path d=\"M0 0h24v24H0V0z\" fill=\"none\"/>\n",
              "    <path d=\"M18.56 5.44l.94 2.06.94-2.06 2.06-.94-2.06-.94-.94-2.06-.94 2.06-2.06.94zm-11 1L8.5 8.5l.94-2.06 2.06-.94-2.06-.94L8.5 2.5l-.94 2.06-2.06.94zm10 10l.94 2.06.94-2.06 2.06-.94-2.06-.94-.94-2.06-.94 2.06-2.06.94z\"/><path d=\"M17.41 7.96l-1.37-1.37c-.4-.4-.92-.59-1.43-.59-.52 0-1.04.2-1.43.59L10.3 9.45l-7.72 7.72c-.78.78-.78 2.05 0 2.83L4 21.41c.39.39.9.59 1.41.59.51 0 1.02-.2 1.41-.59l7.78-7.78 2.81-2.81c.8-.78.8-2.07 0-2.86zM5.41 20L4 18.59l7.72-7.72 1.47 1.35L5.41 20z\"/>\n",
              "  </svg>\n",
              "      </button>\n",
              "      \n",
              "  <style>\n",
              "    .colab-df-container {\n",
              "      display:flex;\n",
              "      flex-wrap:wrap;\n",
              "      gap: 12px;\n",
              "    }\n",
              "\n",
              "    .colab-df-convert {\n",
              "      background-color: #E8F0FE;\n",
              "      border: none;\n",
              "      border-radius: 50%;\n",
              "      cursor: pointer;\n",
              "      display: none;\n",
              "      fill: #1967D2;\n",
              "      height: 32px;\n",
              "      padding: 0 0 0 0;\n",
              "      width: 32px;\n",
              "    }\n",
              "\n",
              "    .colab-df-convert:hover {\n",
              "      background-color: #E2EBFA;\n",
              "      box-shadow: 0px 1px 2px rgba(60, 64, 67, 0.3), 0px 1px 3px 1px rgba(60, 64, 67, 0.15);\n",
              "      fill: #174EA6;\n",
              "    }\n",
              "\n",
              "    [theme=dark] .colab-df-convert {\n",
              "      background-color: #3B4455;\n",
              "      fill: #D2E3FC;\n",
              "    }\n",
              "\n",
              "    [theme=dark] .colab-df-convert:hover {\n",
              "      background-color: #434B5C;\n",
              "      box-shadow: 0px 1px 3px 1px rgba(0, 0, 0, 0.15);\n",
              "      filter: drop-shadow(0px 1px 2px rgba(0, 0, 0, 0.3));\n",
              "      fill: #FFFFFF;\n",
              "    }\n",
              "  </style>\n",
              "\n",
              "      <script>\n",
              "        const buttonEl =\n",
              "          document.querySelector('#df-bc4d08f2-2c94-4e53-8a25-db886d33f7e4 button.colab-df-convert');\n",
              "        buttonEl.style.display =\n",
              "          google.colab.kernel.accessAllowed ? 'block' : 'none';\n",
              "\n",
              "        async function convertToInteractive(key) {\n",
              "          const element = document.querySelector('#df-bc4d08f2-2c94-4e53-8a25-db886d33f7e4');\n",
              "          const dataTable =\n",
              "            await google.colab.kernel.invokeFunction('convertToInteractive',\n",
              "                                                     [key], {});\n",
              "          if (!dataTable) return;\n",
              "\n",
              "          const docLinkHtml = 'Like what you see? Visit the ' +\n",
              "            '<a target=\"_blank\" href=https://colab.research.google.com/notebooks/data_table.ipynb>data table notebook</a>'\n",
              "            + ' to learn more about interactive tables.';\n",
              "          element.innerHTML = '';\n",
              "          dataTable['output_type'] = 'display_data';\n",
              "          await google.colab.output.renderOutput(dataTable, element);\n",
              "          const docLink = document.createElement('div');\n",
              "          docLink.innerHTML = docLinkHtml;\n",
              "          element.appendChild(docLink);\n",
              "        }\n",
              "      </script>\n",
              "    </div>\n",
              "  </div>\n",
              "  "
            ]
          },
          "metadata": {},
          "execution_count": 68
        }
      ]
    },
    {
      "cell_type": "code",
      "source": [
        "# Mengecek duplicate data Tabel Locations\n",
        "df_loc_duplicate.duplicated().sum()"
      ],
      "metadata": {
        "colab": {
          "base_uri": "https://localhost:8080/"
        },
        "outputId": "993f5480-0d32-4686-e47f-787a36bb0f89",
        "id": "UvICBeXrRaID"
      },
      "execution_count": null,
      "outputs": [
        {
          "output_type": "execute_result",
          "data": {
            "text/plain": [
              "0"
            ]
          },
          "metadata": {},
          "execution_count": 69
        }
      ]
    },
    {
      "cell_type": "markdown",
      "source": [
        "Diperoleh bahwa tidak terdapat duplicate data pada Tabel Locations."
      ],
      "metadata": {
        "id": "OHQolaesRaID"
      }
    },
    {
      "cell_type": "markdown",
      "source": [
        "### Mengecek dan Mengganti Tipe Data"
      ],
      "metadata": {
        "id": "y73gxRkLp0GW"
      }
    },
    {
      "cell_type": "markdown",
      "source": [
        "#### *Tabel Customers*"
      ],
      "metadata": {
        "id": "ojHTXr9pqr7K"
      }
    },
    {
      "cell_type": "code",
      "source": [
        "# Meng-copy variabel 'df_cust_duplicate' lalu meng-assignnya ke dalam variabel baru\n",
        "df_cust_change_type = df_cust_duplicate.copy()"
      ],
      "metadata": {
        "id": "ifNpR9P5rC9p"
      },
      "execution_count": null,
      "outputs": []
    },
    {
      "cell_type": "code",
      "source": [
        "# Check tipe-tipe data Tabel Customers\n",
        "df_cust_change_type.dtypes"
      ],
      "metadata": {
        "colab": {
          "base_uri": "https://localhost:8080/"
        },
        "id": "qMN5cxAsqKcb",
        "outputId": "da6a2049-c659-401d-a3a8-fde4f367318f"
      },
      "execution_count": null,
      "outputs": [
        {
          "output_type": "execute_result",
          "data": {
            "text/plain": [
              "customer_id    object\n",
              "gender         object\n",
              "dob             int64\n",
              "status          int64\n",
              "verified        int64\n",
              "created_at     object\n",
              "updated_at     object\n",
              "dtype: object"
            ]
          },
          "metadata": {},
          "execution_count": 71
        }
      ]
    },
    {
      "cell_type": "markdown",
      "source": [
        "Dari informasi di atas, tipe data kolom 'created_at' dan 'updated_at' akan diubah menjadi tipe data datetime, sedangkan tipe data kolom 'status' dan 'verified' akan diubah menjadi tipe data string sebagai berikut."
      ],
      "metadata": {
        "id": "H89JwLUnPS09"
      }
    },
    {
      "cell_type": "code",
      "source": [
        "# Mengubah tipe data menjadi datetime\n",
        "change_columns_cust = ['created_at', 'updated_at']\n",
        "for cc in change_columns_cust :\n",
        "  df_cust_change_type[cc] = pd.to_datetime(df_cust_change_type[cc])"
      ],
      "metadata": {
        "id": "Z7BVWQCh-Iqe"
      },
      "execution_count": null,
      "outputs": []
    },
    {
      "cell_type": "code",
      "source": [
        "# Mengubah tipe data menjadi string\n",
        "change_columns_cust = ['status', 'verified']\n",
        "for cc in change_columns_cust :\n",
        "  df_cust_change_type[cc] = df_cust_change_type[cc].astype(str)"
      ],
      "metadata": {
        "id": "2txBSEGes8sB"
      },
      "execution_count": null,
      "outputs": []
    },
    {
      "cell_type": "code",
      "source": [
        "df_cust_change_type.dtypes"
      ],
      "metadata": {
        "colab": {
          "base_uri": "https://localhost:8080/"
        },
        "id": "9CRSS93NKeCV",
        "outputId": "835aacbf-41ac-4eae-ceea-280e59e63cd0"
      },
      "execution_count": null,
      "outputs": [
        {
          "output_type": "execute_result",
          "data": {
            "text/plain": [
              "customer_id            object\n",
              "gender                 object\n",
              "dob                     int64\n",
              "status                 object\n",
              "verified               object\n",
              "created_at     datetime64[ns]\n",
              "updated_at     datetime64[ns]\n",
              "dtype: object"
            ]
          },
          "metadata": {},
          "execution_count": 74
        }
      ]
    },
    {
      "cell_type": "markdown",
      "source": [
        "#### *Tabel Orders*"
      ],
      "metadata": {
        "id": "I6p1HYFzuEQR"
      }
    },
    {
      "cell_type": "code",
      "source": [
        "# Meng-copy variabel 'df_ord_duplicate' lalu meng-assignnya ke dalam variabel baru\n",
        "df_ord_change_type = df_ord_duplicate.copy()"
      ],
      "metadata": {
        "id": "kcRayfGUuN3r"
      },
      "execution_count": null,
      "outputs": []
    },
    {
      "cell_type": "code",
      "source": [
        "# Check kembali tipe-tipe data Tabel Orders\n",
        "df_ord_change_type.dtypes"
      ],
      "metadata": {
        "colab": {
          "base_uri": "https://localhost:8080/"
        },
        "id": "MEksneisqTET",
        "outputId": "17eee18e-3ef8-4dcb-fdce-5bc2eb13b00a"
      },
      "execution_count": null,
      "outputs": [
        {
          "output_type": "execute_result",
          "data": {
            "text/plain": [
              "order_id             float64\n",
              "customer_id           object\n",
              "item_count           float64\n",
              "grand_total          float64\n",
              "payment_mode           int64\n",
              "is_favorite           object\n",
              "is_rated              object\n",
              "driver_rating        float64\n",
              "delivery_distance    float64\n",
              "vendor_id              int64\n",
              "created_at            object\n",
              "location_number        int64\n",
              "dtype: object"
            ]
          },
          "metadata": {},
          "execution_count": 76
        }
      ]
    },
    {
      "cell_type": "markdown",
      "source": [
        "Dari informasi di atas, tipe data kolom 'created_at' akan diubah menjadi tipe data datetime, tipe data kolom 'item_count' akan diubah menjadi tipe data integer, tipe data kolom 'payment_mode', 'vendor_id', dan 'location_number' akan diubah menjadi tipe data string, sedangkan tipe data 'order_id' dan 'driver_rating' mula-mula diubah menjadi tipe data integer lalu string."
      ],
      "metadata": {
        "id": "nP88wG8ougq1"
      }
    },
    {
      "cell_type": "code",
      "source": [
        "# Mengubah tipe data menjadi datetime\n",
        "change_columns_ord = ['created_at']\n",
        "for cc in change_columns_ord :\n",
        "  df_ord_change_type[cc] = pd.to_datetime(df_ord_change_type[cc])"
      ],
      "metadata": {
        "id": "fzzpIT44ugq1"
      },
      "execution_count": null,
      "outputs": []
    },
    {
      "cell_type": "code",
      "source": [
        "# Mengubah tipe data menjadi integer\n",
        "change_columns_ord = ['order_id', 'item_count', 'driver_rating']\n",
        "for cc in change_columns_ord :\n",
        "  df_ord_change_type[cc] = df_ord_change_type[cc].astype('int')"
      ],
      "metadata": {
        "id": "WkmS2S8sugq1"
      },
      "execution_count": null,
      "outputs": []
    },
    {
      "cell_type": "markdown",
      "source": [
        "*Note : setelah dicoba ternyata hanya kolom 'driver_rating' saja yang bisa diubah tipe datanya menjadi integer, sehingga kolom 'item_count' akan tetap bertipe float dan kolom 'order_id' langsung diubah tipe datanya menjadi string*"
      ],
      "metadata": {
        "id": "iXIL3E7XzjOD"
      }
    },
    {
      "cell_type": "code",
      "source": [
        "# Mengubah tipe data menjadi string\n",
        "change_columns_ord = ['order_id', 'payment_mode', 'driver_rating', 'vendor_id', 'location_number']\n",
        "for cc in change_columns_ord :\n",
        "  df_ord_change_type[cc] = df_ord_change_type[cc].astype(str)"
      ],
      "metadata": {
        "id": "j9Hz1sxgyhvk"
      },
      "execution_count": null,
      "outputs": []
    },
    {
      "cell_type": "code",
      "source": [
        "df_ord_change_type.dtypes"
      ],
      "metadata": {
        "colab": {
          "base_uri": "https://localhost:8080/"
        },
        "id": "ZFeqqMnEvo1y",
        "outputId": "6838ea69-747d-4045-d9a0-600e636a4bc0"
      },
      "execution_count": null,
      "outputs": [
        {
          "output_type": "execute_result",
          "data": {
            "text/plain": [
              "order_id                     object\n",
              "customer_id                  object\n",
              "item_count                    int64\n",
              "grand_total                 float64\n",
              "payment_mode                 object\n",
              "is_favorite                  object\n",
              "is_rated                     object\n",
              "driver_rating                object\n",
              "delivery_distance           float64\n",
              "vendor_id                    object\n",
              "created_at           datetime64[ns]\n",
              "location_number              object\n",
              "dtype: object"
            ]
          },
          "metadata": {},
          "execution_count": 80
        }
      ]
    },
    {
      "cell_type": "markdown",
      "source": [
        "#### *Tabel Vendors*"
      ],
      "metadata": {
        "id": "U9S_4WvC0pWe"
      }
    },
    {
      "cell_type": "code",
      "source": [
        "# Meng-copy variabel 'df_ven_duplicate' lalu meng-assignnya ke dalam variabel baru\n",
        "df_ven_change_type = df_ven_duplicate.copy()"
      ],
      "metadata": {
        "id": "S0ig2KZQ00da"
      },
      "execution_count": null,
      "outputs": []
    },
    {
      "cell_type": "code",
      "source": [
        "# Check tipe-tipe data Tabel Vendors\n",
        "df_ven_change_type.dtypes"
      ],
      "metadata": {
        "colab": {
          "base_uri": "https://localhost:8080/"
        },
        "id": "aTk2BHrPqTSJ",
        "outputId": "c653ffe7-b135-410a-a997-e45b385a0ac6"
      },
      "execution_count": null,
      "outputs": [
        {
          "output_type": "execute_result",
          "data": {
            "text/plain": [
              "vendor_id                int64\n",
              "authentication_id      float64\n",
              "latitude               float64\n",
              "longitude              float64\n",
              "vendor_category_en      object\n",
              "delivery_charge        float64\n",
              "serving_distance       float64\n",
              "is_open                float64\n",
              "opening_time            object\n",
              "preparation_time         int64\n",
              "discount_percentage    float64\n",
              "status                 float64\n",
              "verified                 int64\n",
              "rank                     int64\n",
              "vendor_rating          float64\n",
              "vendor_tag              object\n",
              "vendor_tag_name         object\n",
              "created_at              object\n",
              "updated_at              object\n",
              "device_type              int64\n",
              "dtype: object"
            ]
          },
          "metadata": {},
          "execution_count": 82
        }
      ]
    },
    {
      "cell_type": "markdown",
      "source": [
        "Dari informasi di atas, tipe data kolom 'created_at' dan 'updated_at' akan diubah menjadi tipe data datetime, tipe data kolom 'vendor_id', 'verified', 'rank', 'vendor_rating', 'device_type' akan diubah menjadi tipe data string, sedangkan tipe data 'authentication_id', 'is_open', 'status' mula-mula diubah menjadi tipe data integer lalu string."
      ],
      "metadata": {
        "id": "BM3AA5Am54HV"
      }
    },
    {
      "cell_type": "code",
      "source": [
        "# Mengubah tipe data menjadi datetime\n",
        "change_columns_ven = ['created_at', 'updated_at']\n",
        "for cc in change_columns_ven :\n",
        "  df_ven_change_type[cc] = pd.to_datetime(df_ven_change_type[cc])"
      ],
      "metadata": {
        "id": "ussRW6Ck54HV"
      },
      "execution_count": null,
      "outputs": []
    },
    {
      "cell_type": "code",
      "source": [
        "# Mengubah tipe data menjadi integer\n",
        "change_columns_ven = ['authentication_id', 'is_open', 'status']\n",
        "for cc in change_columns_ven :\n",
        "  df_ven_change_type[cc] = df_ven_change_type[cc].astype('int')"
      ],
      "metadata": {
        "id": "9aAHM8bM54HV"
      },
      "execution_count": null,
      "outputs": []
    },
    {
      "cell_type": "code",
      "source": [
        "# Mengubah tipe data menjadi string\n",
        "change_columns_ven = ['vendor_id', 'authentication_id', 'is_open', 'status', 'verified', 'rank', 'vendor_rating', 'device_type']\n",
        "for cc in change_columns_ven :\n",
        "  df_ven_change_type[cc] = df_ven_change_type[cc].astype(str)"
      ],
      "metadata": {
        "id": "bahYlBoF54HV"
      },
      "execution_count": null,
      "outputs": []
    },
    {
      "cell_type": "code",
      "source": [
        "df_ven_change_type.dtypes"
      ],
      "metadata": {
        "colab": {
          "base_uri": "https://localhost:8080/"
        },
        "id": "LKhJxYmS9PxN",
        "outputId": "ecba4ba4-d1cf-4bbb-ac56-9fd17ea70d41"
      },
      "execution_count": null,
      "outputs": [
        {
          "output_type": "execute_result",
          "data": {
            "text/plain": [
              "vendor_id                      object\n",
              "authentication_id              object\n",
              "latitude                      float64\n",
              "longitude                     float64\n",
              "vendor_category_en             object\n",
              "delivery_charge               float64\n",
              "serving_distance              float64\n",
              "is_open                        object\n",
              "opening_time                   object\n",
              "preparation_time                int64\n",
              "discount_percentage           float64\n",
              "status                         object\n",
              "verified                       object\n",
              "rank                           object\n",
              "vendor_rating                  object\n",
              "vendor_tag                     object\n",
              "vendor_tag_name                object\n",
              "created_at             datetime64[ns]\n",
              "updated_at             datetime64[ns]\n",
              "device_type                    object\n",
              "dtype: object"
            ]
          },
          "metadata": {},
          "execution_count": 86
        }
      ]
    },
    {
      "cell_type": "markdown",
      "source": [
        "#### *Tabel Locations*"
      ],
      "metadata": {
        "id": "xCGzKCEX9rcr"
      }
    },
    {
      "cell_type": "code",
      "source": [
        "# Meng-copy variabel 'df_loc_duplicate' lalu meng-assignnya ke dalam variabel baru\n",
        "df_loc_change_type = df_loc_duplicate.copy()"
      ],
      "metadata": {
        "id": "Uk0deKzu-IHf"
      },
      "execution_count": null,
      "outputs": []
    },
    {
      "cell_type": "code",
      "source": [
        "# Check tipe-tipe data Tabel Locations\n",
        "df_loc_change_type.dtypes"
      ],
      "metadata": {
        "colab": {
          "base_uri": "https://localhost:8080/"
        },
        "id": "BUC6tRzcqTjf",
        "outputId": "a5c3b141-6581-49af-ad50-afa2d43f3691"
      },
      "execution_count": null,
      "outputs": [
        {
          "output_type": "execute_result",
          "data": {
            "text/plain": [
              "customer_id        object\n",
              "location_number     int64\n",
              "latitude           object\n",
              "longitude          object\n",
              "dtype: object"
            ]
          },
          "metadata": {},
          "execution_count": 88
        }
      ]
    },
    {
      "cell_type": "markdown",
      "source": [
        "Dari informasi di atas, tipe data kolom 'location_number' akan diubah menjadi tipe data string, sedangkan kolom 'latitude' dan 'longitude' akan diubah menjadi tipe data float."
      ],
      "metadata": {
        "id": "jXNcqheV90ji"
      }
    },
    {
      "cell_type": "code",
      "source": [
        "# Mengubah tipe data menjadi string\n",
        "change_columns_loc = ['location_number']\n",
        "for cc in change_columns_loc :\n",
        "  df_loc_change_type[cc] = df_loc_change_type[cc].astype(str)"
      ],
      "metadata": {
        "id": "SXTmJuHO-DW-"
      },
      "execution_count": null,
      "outputs": []
    },
    {
      "cell_type": "code",
      "source": [
        "# Mengubah tipe data menjadi float\n",
        "change_columns_loc = ['latitude', 'longitude']\n",
        "for cc in change_columns_loc :\n",
        "  df_loc_change_type[cc] = df_loc_change_type[cc].astype(float)"
      ],
      "metadata": {
        "id": "ZVvgDe5OGvuH"
      },
      "execution_count": null,
      "outputs": []
    },
    {
      "cell_type": "code",
      "source": [
        "df_loc_change_type.dtypes"
      ],
      "metadata": {
        "colab": {
          "base_uri": "https://localhost:8080/"
        },
        "id": "-s2Yc6Kz-Wfh",
        "outputId": "bd5787be-4f87-456b-e34a-d82d433bbdfa"
      },
      "execution_count": null,
      "outputs": [
        {
          "output_type": "execute_result",
          "data": {
            "text/plain": [
              "customer_id         object\n",
              "location_number     object\n",
              "latitude           float64\n",
              "longitude          float64\n",
              "dtype: object"
            ]
          },
          "metadata": {},
          "execution_count": 91
        }
      ]
    },
    {
      "cell_type": "markdown",
      "source": [
        "### Menambah Kolom Baru"
      ],
      "metadata": {
        "id": "C3_wbPY2bXeP"
      }
    },
    {
      "cell_type": "markdown",
      "source": [
        "#### *Tabel Customers*"
      ],
      "metadata": {
        "id": "994ylmEWbdyg"
      }
    },
    {
      "cell_type": "markdown",
      "source": [
        "***Menambahkan kolom age dengan mengurangi tahun saat ini dengan dob customer***"
      ],
      "metadata": {
        "id": "-gEyzY4Od-NZ"
      }
    },
    {
      "cell_type": "code",
      "source": [
        "# Meng-copy variabel 'df_cust_change_type' lalu meng-assignnya ke dalam variabel baru\n",
        "df_cust_new_col = df_cust_change_type.copy()"
      ],
      "metadata": {
        "id": "axbJD00gboNI"
      },
      "execution_count": null,
      "outputs": []
    },
    {
      "cell_type": "code",
      "source": [
        "from datetime import date\n",
        "\n",
        "today = date.today()\n",
        "\n",
        "df_cust_new_col['age'] = today.year - df_cust_new_col['dob']\n",
        "df_cust_new_col['age']"
      ],
      "metadata": {
        "colab": {
          "base_uri": "https://localhost:8080/"
        },
        "id": "eschm4tMcVg0",
        "outputId": "8634e618-f60f-4127-fb41-fbcc9c81371a"
      },
      "execution_count": null,
      "outputs": [
        {
          "output_type": "execute_result",
          "data": {
            "text/plain": [
              "0       17\n",
              "1       16\n",
              "2       31\n",
              "3       24\n",
              "4       26\n",
              "        ..\n",
              "9763    21\n",
              "9764    32\n",
              "9765    22\n",
              "9766    27\n",
              "9767    19\n",
              "Name: age, Length: 9768, dtype: int64"
            ]
          },
          "metadata": {},
          "execution_count": 96
        }
      ]
    },
    {
      "cell_type": "code",
      "source": [
        "df_cust_new_col.head()"
      ],
      "metadata": {
        "colab": {
          "base_uri": "https://localhost:8080/"
        },
        "id": "092xE2icbxYM",
        "outputId": "cba6c4fc-8557-4fe3-8a4b-01ea3d63361a"
      },
      "execution_count": null,
      "outputs": [
        {
          "output_type": "execute_result",
          "data": {
            "text/plain": [
              "  customer_id gender   dob status verified          created_at  \\\n",
              "0     ICE2DJP   male  2006      1        1 2018-02-07 16:45:36   \n",
              "1     FWNUI71   male  2007      1        1 2018-03-22 20:11:47   \n",
              "2     LRX7BCH   male  1992      1        1 2018-04-17 20:01:15   \n",
              "3     D96DHMD   male  1999      1        1 2018-04-29 22:35:52   \n",
              "4     88Q8Y5V   male  1997      1        1 2018-05-05 12:38:09   \n",
              "\n",
              "           updated_at  age  \n",
              "0 2018-02-07 16:45:36   17  \n",
              "1 2018-03-22 20:11:47   16  \n",
              "2 2018-04-17 20:01:15   31  \n",
              "3 2018-04-29 22:35:52   24  \n",
              "4 2018-05-05 12:38:09   26  "
            ],
            "text/html": [
              "\n",
              "  <div id=\"df-c918e2d5-12d5-4422-9c65-03c7e41e50b7\">\n",
              "    <div class=\"colab-df-container\">\n",
              "      <div>\n",
              "<style scoped>\n",
              "    .dataframe tbody tr th:only-of-type {\n",
              "        vertical-align: middle;\n",
              "    }\n",
              "\n",
              "    .dataframe tbody tr th {\n",
              "        vertical-align: top;\n",
              "    }\n",
              "\n",
              "    .dataframe thead th {\n",
              "        text-align: right;\n",
              "    }\n",
              "</style>\n",
              "<table border=\"1\" class=\"dataframe\">\n",
              "  <thead>\n",
              "    <tr style=\"text-align: right;\">\n",
              "      <th></th>\n",
              "      <th>customer_id</th>\n",
              "      <th>gender</th>\n",
              "      <th>dob</th>\n",
              "      <th>status</th>\n",
              "      <th>verified</th>\n",
              "      <th>created_at</th>\n",
              "      <th>updated_at</th>\n",
              "      <th>age</th>\n",
              "    </tr>\n",
              "  </thead>\n",
              "  <tbody>\n",
              "    <tr>\n",
              "      <th>0</th>\n",
              "      <td>ICE2DJP</td>\n",
              "      <td>male</td>\n",
              "      <td>2006</td>\n",
              "      <td>1</td>\n",
              "      <td>1</td>\n",
              "      <td>2018-02-07 16:45:36</td>\n",
              "      <td>2018-02-07 16:45:36</td>\n",
              "      <td>17</td>\n",
              "    </tr>\n",
              "    <tr>\n",
              "      <th>1</th>\n",
              "      <td>FWNUI71</td>\n",
              "      <td>male</td>\n",
              "      <td>2007</td>\n",
              "      <td>1</td>\n",
              "      <td>1</td>\n",
              "      <td>2018-03-22 20:11:47</td>\n",
              "      <td>2018-03-22 20:11:47</td>\n",
              "      <td>16</td>\n",
              "    </tr>\n",
              "    <tr>\n",
              "      <th>2</th>\n",
              "      <td>LRX7BCH</td>\n",
              "      <td>male</td>\n",
              "      <td>1992</td>\n",
              "      <td>1</td>\n",
              "      <td>1</td>\n",
              "      <td>2018-04-17 20:01:15</td>\n",
              "      <td>2018-04-17 20:01:15</td>\n",
              "      <td>31</td>\n",
              "    </tr>\n",
              "    <tr>\n",
              "      <th>3</th>\n",
              "      <td>D96DHMD</td>\n",
              "      <td>male</td>\n",
              "      <td>1999</td>\n",
              "      <td>1</td>\n",
              "      <td>1</td>\n",
              "      <td>2018-04-29 22:35:52</td>\n",
              "      <td>2018-04-29 22:35:52</td>\n",
              "      <td>24</td>\n",
              "    </tr>\n",
              "    <tr>\n",
              "      <th>4</th>\n",
              "      <td>88Q8Y5V</td>\n",
              "      <td>male</td>\n",
              "      <td>1997</td>\n",
              "      <td>1</td>\n",
              "      <td>1</td>\n",
              "      <td>2018-05-05 12:38:09</td>\n",
              "      <td>2018-05-05 12:38:09</td>\n",
              "      <td>26</td>\n",
              "    </tr>\n",
              "  </tbody>\n",
              "</table>\n",
              "</div>\n",
              "      <button class=\"colab-df-convert\" onclick=\"convertToInteractive('df-c918e2d5-12d5-4422-9c65-03c7e41e50b7')\"\n",
              "              title=\"Convert this dataframe to an interactive table.\"\n",
              "              style=\"display:none;\">\n",
              "        \n",
              "  <svg xmlns=\"http://www.w3.org/2000/svg\" height=\"24px\"viewBox=\"0 0 24 24\"\n",
              "       width=\"24px\">\n",
              "    <path d=\"M0 0h24v24H0V0z\" fill=\"none\"/>\n",
              "    <path d=\"M18.56 5.44l.94 2.06.94-2.06 2.06-.94-2.06-.94-.94-2.06-.94 2.06-2.06.94zm-11 1L8.5 8.5l.94-2.06 2.06-.94-2.06-.94L8.5 2.5l-.94 2.06-2.06.94zm10 10l.94 2.06.94-2.06 2.06-.94-2.06-.94-.94-2.06-.94 2.06-2.06.94z\"/><path d=\"M17.41 7.96l-1.37-1.37c-.4-.4-.92-.59-1.43-.59-.52 0-1.04.2-1.43.59L10.3 9.45l-7.72 7.72c-.78.78-.78 2.05 0 2.83L4 21.41c.39.39.9.59 1.41.59.51 0 1.02-.2 1.41-.59l7.78-7.78 2.81-2.81c.8-.78.8-2.07 0-2.86zM5.41 20L4 18.59l7.72-7.72 1.47 1.35L5.41 20z\"/>\n",
              "  </svg>\n",
              "      </button>\n",
              "      \n",
              "  <style>\n",
              "    .colab-df-container {\n",
              "      display:flex;\n",
              "      flex-wrap:wrap;\n",
              "      gap: 12px;\n",
              "    }\n",
              "\n",
              "    .colab-df-convert {\n",
              "      background-color: #E8F0FE;\n",
              "      border: none;\n",
              "      border-radius: 50%;\n",
              "      cursor: pointer;\n",
              "      display: none;\n",
              "      fill: #1967D2;\n",
              "      height: 32px;\n",
              "      padding: 0 0 0 0;\n",
              "      width: 32px;\n",
              "    }\n",
              "\n",
              "    .colab-df-convert:hover {\n",
              "      background-color: #E2EBFA;\n",
              "      box-shadow: 0px 1px 2px rgba(60, 64, 67, 0.3), 0px 1px 3px 1px rgba(60, 64, 67, 0.15);\n",
              "      fill: #174EA6;\n",
              "    }\n",
              "\n",
              "    [theme=dark] .colab-df-convert {\n",
              "      background-color: #3B4455;\n",
              "      fill: #D2E3FC;\n",
              "    }\n",
              "\n",
              "    [theme=dark] .colab-df-convert:hover {\n",
              "      background-color: #434B5C;\n",
              "      box-shadow: 0px 1px 3px 1px rgba(0, 0, 0, 0.15);\n",
              "      filter: drop-shadow(0px 1px 2px rgba(0, 0, 0, 0.3));\n",
              "      fill: #FFFFFF;\n",
              "    }\n",
              "  </style>\n",
              "\n",
              "      <script>\n",
              "        const buttonEl =\n",
              "          document.querySelector('#df-c918e2d5-12d5-4422-9c65-03c7e41e50b7 button.colab-df-convert');\n",
              "        buttonEl.style.display =\n",
              "          google.colab.kernel.accessAllowed ? 'block' : 'none';\n",
              "\n",
              "        async function convertToInteractive(key) {\n",
              "          const element = document.querySelector('#df-c918e2d5-12d5-4422-9c65-03c7e41e50b7');\n",
              "          const dataTable =\n",
              "            await google.colab.kernel.invokeFunction('convertToInteractive',\n",
              "                                                     [key], {});\n",
              "          if (!dataTable) return;\n",
              "\n",
              "          const docLinkHtml = 'Like what you see? Visit the ' +\n",
              "            '<a target=\"_blank\" href=https://colab.research.google.com/notebooks/data_table.ipynb>data table notebook</a>'\n",
              "            + ' to learn more about interactive tables.';\n",
              "          element.innerHTML = '';\n",
              "          dataTable['output_type'] = 'display_data';\n",
              "          await google.colab.output.renderOutput(dataTable, element);\n",
              "          const docLink = document.createElement('div');\n",
              "          docLink.innerHTML = docLinkHtml;\n",
              "          element.appendChild(docLink);\n",
              "        }\n",
              "      </script>\n",
              "    </div>\n",
              "  </div>\n",
              "  "
            ]
          },
          "metadata": {},
          "execution_count": 97
        }
      ]
    },
    {
      "cell_type": "markdown",
      "source": [
        "#### *Tabel Orders*"
      ],
      "metadata": {
        "id": "HrZxlXVbidjb"
      }
    },
    {
      "cell_type": "markdown",
      "source": [
        "***Menambahkan kolom 'created_at_date' untuk memperoleh value tanggal saja***"
      ],
      "metadata": {
        "id": "2tBoiRnxj3S0"
      }
    },
    {
      "cell_type": "code",
      "source": [
        "# Meng-copy variabel 'df_ord_change_type' lalu meng-assignnya ke dalam variabel baru\n",
        "df_ord_new_col = df_ord_change_type.copy()"
      ],
      "metadata": {
        "id": "eSD0_DMMihzD"
      },
      "execution_count": null,
      "outputs": []
    },
    {
      "cell_type": "code",
      "source": [
        "df_ord_new_col['created_at_date'] = df_ord_new_col.created_at.dt.date\n",
        "df_ord_new_col['created_at_date']"
      ],
      "metadata": {
        "colab": {
          "base_uri": "https://localhost:8080/"
        },
        "id": "7mtaMUIwim5t",
        "outputId": "12ef4159-343d-4a3d-87fc-e9bf80838d6b"
      },
      "execution_count": null,
      "outputs": [
        {
          "output_type": "execute_result",
          "data": {
            "text/plain": [
              "0       2019-08-01\n",
              "1       2019-08-01\n",
              "2       2019-08-01\n",
              "3       2019-08-01\n",
              "4       2019-08-01\n",
              "           ...    \n",
              "9763    2020-02-29\n",
              "9764    2020-02-29\n",
              "9765    2020-02-29\n",
              "9766    2020-02-29\n",
              "9767    2020-02-29\n",
              "Name: created_at_date, Length: 9764, dtype: object"
            ]
          },
          "metadata": {},
          "execution_count": 99
        }
      ]
    },
    {
      "cell_type": "code",
      "source": [
        "df_ord_new_col.head()"
      ],
      "metadata": {
        "colab": {
          "base_uri": "https://localhost:8080/"
        },
        "id": "R7DmQzNLkB7s",
        "outputId": "d873d644-0926-4a76-c4ff-3d2423b6bc56"
      },
      "execution_count": null,
      "outputs": [
        {
          "output_type": "execute_result",
          "data": {
            "text/plain": [
              "  order_id customer_id  item_count  grand_total payment_mode is_favorite  \\\n",
              "0   163241     9ZTJB1L           2         14.4            1         Yes   \n",
              "1   163246     6C7D1O2           3         18.2            2         Yes   \n",
              "2   163265     VCBBSUB           1          4.6            1         Yes   \n",
              "3   163274     ZBNP36W           1          5.7            1         Yes   \n",
              "4   163321     BJ1GYQY           2         15.8            1         Yes   \n",
              "\n",
              "  is_rated driver_rating  delivery_distance vendor_id          created_at  \\\n",
              "0       No             0                0.0        83 2019-08-01 05:31:33   \n",
              "1       No             0                0.0        83 2019-08-01 05:37:05   \n",
              "2       No             0                0.0        78 2019-08-01 06:03:59   \n",
              "3       No             0                0.0       195 2019-08-01 06:34:38   \n",
              "4       No             0                0.0        75 2019-08-01 17:06:17   \n",
              "\n",
              "  location_number created_at_date  \n",
              "0               0      2019-08-01  \n",
              "1               0      2019-08-01  \n",
              "2               0      2019-08-01  \n",
              "3               0      2019-08-01  \n",
              "4               0      2019-08-01  "
            ],
            "text/html": [
              "\n",
              "  <div id=\"df-4f990169-f155-4e68-8f17-beb3e836a290\">\n",
              "    <div class=\"colab-df-container\">\n",
              "      <div>\n",
              "<style scoped>\n",
              "    .dataframe tbody tr th:only-of-type {\n",
              "        vertical-align: middle;\n",
              "    }\n",
              "\n",
              "    .dataframe tbody tr th {\n",
              "        vertical-align: top;\n",
              "    }\n",
              "\n",
              "    .dataframe thead th {\n",
              "        text-align: right;\n",
              "    }\n",
              "</style>\n",
              "<table border=\"1\" class=\"dataframe\">\n",
              "  <thead>\n",
              "    <tr style=\"text-align: right;\">\n",
              "      <th></th>\n",
              "      <th>order_id</th>\n",
              "      <th>customer_id</th>\n",
              "      <th>item_count</th>\n",
              "      <th>grand_total</th>\n",
              "      <th>payment_mode</th>\n",
              "      <th>is_favorite</th>\n",
              "      <th>is_rated</th>\n",
              "      <th>driver_rating</th>\n",
              "      <th>delivery_distance</th>\n",
              "      <th>vendor_id</th>\n",
              "      <th>created_at</th>\n",
              "      <th>location_number</th>\n",
              "      <th>created_at_date</th>\n",
              "    </tr>\n",
              "  </thead>\n",
              "  <tbody>\n",
              "    <tr>\n",
              "      <th>0</th>\n",
              "      <td>163241</td>\n",
              "      <td>9ZTJB1L</td>\n",
              "      <td>2</td>\n",
              "      <td>14.4</td>\n",
              "      <td>1</td>\n",
              "      <td>Yes</td>\n",
              "      <td>No</td>\n",
              "      <td>0</td>\n",
              "      <td>0.0</td>\n",
              "      <td>83</td>\n",
              "      <td>2019-08-01 05:31:33</td>\n",
              "      <td>0</td>\n",
              "      <td>2019-08-01</td>\n",
              "    </tr>\n",
              "    <tr>\n",
              "      <th>1</th>\n",
              "      <td>163246</td>\n",
              "      <td>6C7D1O2</td>\n",
              "      <td>3</td>\n",
              "      <td>18.2</td>\n",
              "      <td>2</td>\n",
              "      <td>Yes</td>\n",
              "      <td>No</td>\n",
              "      <td>0</td>\n",
              "      <td>0.0</td>\n",
              "      <td>83</td>\n",
              "      <td>2019-08-01 05:37:05</td>\n",
              "      <td>0</td>\n",
              "      <td>2019-08-01</td>\n",
              "    </tr>\n",
              "    <tr>\n",
              "      <th>2</th>\n",
              "      <td>163265</td>\n",
              "      <td>VCBBSUB</td>\n",
              "      <td>1</td>\n",
              "      <td>4.6</td>\n",
              "      <td>1</td>\n",
              "      <td>Yes</td>\n",
              "      <td>No</td>\n",
              "      <td>0</td>\n",
              "      <td>0.0</td>\n",
              "      <td>78</td>\n",
              "      <td>2019-08-01 06:03:59</td>\n",
              "      <td>0</td>\n",
              "      <td>2019-08-01</td>\n",
              "    </tr>\n",
              "    <tr>\n",
              "      <th>3</th>\n",
              "      <td>163274</td>\n",
              "      <td>ZBNP36W</td>\n",
              "      <td>1</td>\n",
              "      <td>5.7</td>\n",
              "      <td>1</td>\n",
              "      <td>Yes</td>\n",
              "      <td>No</td>\n",
              "      <td>0</td>\n",
              "      <td>0.0</td>\n",
              "      <td>195</td>\n",
              "      <td>2019-08-01 06:34:38</td>\n",
              "      <td>0</td>\n",
              "      <td>2019-08-01</td>\n",
              "    </tr>\n",
              "    <tr>\n",
              "      <th>4</th>\n",
              "      <td>163321</td>\n",
              "      <td>BJ1GYQY</td>\n",
              "      <td>2</td>\n",
              "      <td>15.8</td>\n",
              "      <td>1</td>\n",
              "      <td>Yes</td>\n",
              "      <td>No</td>\n",
              "      <td>0</td>\n",
              "      <td>0.0</td>\n",
              "      <td>75</td>\n",
              "      <td>2019-08-01 17:06:17</td>\n",
              "      <td>0</td>\n",
              "      <td>2019-08-01</td>\n",
              "    </tr>\n",
              "  </tbody>\n",
              "</table>\n",
              "</div>\n",
              "      <button class=\"colab-df-convert\" onclick=\"convertToInteractive('df-4f990169-f155-4e68-8f17-beb3e836a290')\"\n",
              "              title=\"Convert this dataframe to an interactive table.\"\n",
              "              style=\"display:none;\">\n",
              "        \n",
              "  <svg xmlns=\"http://www.w3.org/2000/svg\" height=\"24px\"viewBox=\"0 0 24 24\"\n",
              "       width=\"24px\">\n",
              "    <path d=\"M0 0h24v24H0V0z\" fill=\"none\"/>\n",
              "    <path d=\"M18.56 5.44l.94 2.06.94-2.06 2.06-.94-2.06-.94-.94-2.06-.94 2.06-2.06.94zm-11 1L8.5 8.5l.94-2.06 2.06-.94-2.06-.94L8.5 2.5l-.94 2.06-2.06.94zm10 10l.94 2.06.94-2.06 2.06-.94-2.06-.94-.94-2.06-.94 2.06-2.06.94z\"/><path d=\"M17.41 7.96l-1.37-1.37c-.4-.4-.92-.59-1.43-.59-.52 0-1.04.2-1.43.59L10.3 9.45l-7.72 7.72c-.78.78-.78 2.05 0 2.83L4 21.41c.39.39.9.59 1.41.59.51 0 1.02-.2 1.41-.59l7.78-7.78 2.81-2.81c.8-.78.8-2.07 0-2.86zM5.41 20L4 18.59l7.72-7.72 1.47 1.35L5.41 20z\"/>\n",
              "  </svg>\n",
              "      </button>\n",
              "      \n",
              "  <style>\n",
              "    .colab-df-container {\n",
              "      display:flex;\n",
              "      flex-wrap:wrap;\n",
              "      gap: 12px;\n",
              "    }\n",
              "\n",
              "    .colab-df-convert {\n",
              "      background-color: #E8F0FE;\n",
              "      border: none;\n",
              "      border-radius: 50%;\n",
              "      cursor: pointer;\n",
              "      display: none;\n",
              "      fill: #1967D2;\n",
              "      height: 32px;\n",
              "      padding: 0 0 0 0;\n",
              "      width: 32px;\n",
              "    }\n",
              "\n",
              "    .colab-df-convert:hover {\n",
              "      background-color: #E2EBFA;\n",
              "      box-shadow: 0px 1px 2px rgba(60, 64, 67, 0.3), 0px 1px 3px 1px rgba(60, 64, 67, 0.15);\n",
              "      fill: #174EA6;\n",
              "    }\n",
              "\n",
              "    [theme=dark] .colab-df-convert {\n",
              "      background-color: #3B4455;\n",
              "      fill: #D2E3FC;\n",
              "    }\n",
              "\n",
              "    [theme=dark] .colab-df-convert:hover {\n",
              "      background-color: #434B5C;\n",
              "      box-shadow: 0px 1px 3px 1px rgba(0, 0, 0, 0.15);\n",
              "      filter: drop-shadow(0px 1px 2px rgba(0, 0, 0, 0.3));\n",
              "      fill: #FFFFFF;\n",
              "    }\n",
              "  </style>\n",
              "\n",
              "      <script>\n",
              "        const buttonEl =\n",
              "          document.querySelector('#df-4f990169-f155-4e68-8f17-beb3e836a290 button.colab-df-convert');\n",
              "        buttonEl.style.display =\n",
              "          google.colab.kernel.accessAllowed ? 'block' : 'none';\n",
              "\n",
              "        async function convertToInteractive(key) {\n",
              "          const element = document.querySelector('#df-4f990169-f155-4e68-8f17-beb3e836a290');\n",
              "          const dataTable =\n",
              "            await google.colab.kernel.invokeFunction('convertToInteractive',\n",
              "                                                     [key], {});\n",
              "          if (!dataTable) return;\n",
              "\n",
              "          const docLinkHtml = 'Like what you see? Visit the ' +\n",
              "            '<a target=\"_blank\" href=https://colab.research.google.com/notebooks/data_table.ipynb>data table notebook</a>'\n",
              "            + ' to learn more about interactive tables.';\n",
              "          element.innerHTML = '';\n",
              "          dataTable['output_type'] = 'display_data';\n",
              "          await google.colab.output.renderOutput(dataTable, element);\n",
              "          const docLink = document.createElement('div');\n",
              "          docLink.innerHTML = docLinkHtml;\n",
              "          element.appendChild(docLink);\n",
              "        }\n",
              "      </script>\n",
              "    </div>\n",
              "  </div>\n",
              "  "
            ]
          },
          "metadata": {},
          "execution_count": 100
        }
      ]
    },
    {
      "cell_type": "markdown",
      "source": [
        "### Mengganti Nama Variabel Tabel"
      ],
      "metadata": {
        "id": "Zwsbnmy7J-Ey"
      }
    },
    {
      "cell_type": "markdown",
      "source": [
        "Tujuan dari section ini adalah menyesuaikan nama variabel tabel menjadi 'df_..._prep' agar menunjukkan tabel tersebut telah dilakukan data preparation"
      ],
      "metadata": {
        "id": "uCVNSrGgKnVL"
      }
    },
    {
      "cell_type": "markdown",
      "source": [
        "#### *Tabel Customers*"
      ],
      "metadata": {
        "id": "DpPLUJLlKIq2"
      }
    },
    {
      "cell_type": "code",
      "source": [
        "# Meng-copy variabel 'df_cust_change_type' lalu meng-assignnya ke dalam variabel baru\n",
        "df_cust_prep = df_cust_new_col.copy()"
      ],
      "metadata": {
        "id": "dKIdsOXFKXl2"
      },
      "execution_count": null,
      "outputs": []
    },
    {
      "cell_type": "markdown",
      "source": [
        "#### *Tabel Orders*"
      ],
      "metadata": {
        "id": "N7ioKiUKKIwb"
      }
    },
    {
      "cell_type": "code",
      "source": [
        "# Meng-copy variabel 'df_ord_change_type' lalu meng-assignnya ke dalam variabel baru\n",
        "df_ord_prep = df_ord_new_col.copy()"
      ],
      "metadata": {
        "id": "5SEDo9CGLGsy"
      },
      "execution_count": null,
      "outputs": []
    },
    {
      "cell_type": "markdown",
      "source": [
        "#### *Tabel Vendors*"
      ],
      "metadata": {
        "id": "qocMNxsLKI1z"
      }
    },
    {
      "cell_type": "code",
      "source": [
        "# Meng-copy variabel 'df_ven_change_type' lalu meng-assignnya ke dalam variabel baru\n",
        "df_ven_prep = df_ven_change_type.copy()"
      ],
      "metadata": {
        "id": "rLCnMhAALNQf"
      },
      "execution_count": null,
      "outputs": []
    },
    {
      "cell_type": "markdown",
      "source": [
        "#### *Tabel Locations*"
      ],
      "metadata": {
        "id": "0SkoVHy_KJDR"
      }
    },
    {
      "cell_type": "code",
      "source": [
        "# Meng-copy variabel 'df_loc_change_type' lalu meng-assignnya ke dalam variabel baru\n",
        "df_loc_prep = df_loc_change_type.copy()"
      ],
      "metadata": {
        "id": "gvFmZNvlLSRr"
      },
      "execution_count": null,
      "outputs": []
    },
    {
      "cell_type": "markdown",
      "source": [
        "### Exporting Data"
      ],
      "metadata": {
        "id": "oQvg26idITm6"
      }
    },
    {
      "cell_type": "code",
      "source": [
        "df_cust_prep.to_csv(path + \"Customers_cleaned.csv\")\n",
        "df_ord_prep.to_csv(path + \"Orders_cleaned.csv\")\n",
        "df_ven_prep.to_csv(path + \"Vendors_cleaned.csv\")\n",
        "df_loc_prep.to_csv(path + \"Locations_cleaned.csv\")"
      ],
      "metadata": {
        "id": "GDSslmLrG6zd"
      },
      "execution_count": null,
      "outputs": []
    },
    {
      "cell_type": "markdown",
      "source": [
        "## **EDA**"
      ],
      "metadata": {
        "id": "PZYsEuNvIqxp"
      }
    },
    {
      "cell_type": "markdown",
      "source": [
        "### Customer Profiling"
      ],
      "metadata": {
        "id": "s-WHQQfuPLOm"
      }
    },
    {
      "cell_type": "markdown",
      "source": [
        "Customer Profiling:\n",
        "1. Berapakah proporsi gender dari customer?\n",
        "2. Berapakah proporsi tahun kelahiran customer? Berapakah rata-rata umur dari customer?\n",
        "3. Bagaimana hubungan antara gender dan umur customer?"
      ],
      "metadata": {
        "id": "3pdJ7l8sI_-W"
      }
    },
    {
      "cell_type": "markdown",
      "source": [
        "#### EDA Customer Profiling 1:\n",
        "Berapakah proporsi gender dari customer?"
      ],
      "metadata": {
        "id": "SyXrZxuUOp_-"
      }
    },
    {
      "cell_type": "code",
      "source": [
        "sns.catplot(x=\"gender\", kind=\"count\", palette=\"flare\", data=df_cust_prep)\n",
        "plt. xlabel(\"Gender\")\n",
        "plt. ylabel(\"Count of Gender\")\n",
        "plt.show()"
      ],
      "metadata": {
        "colab": {
          "base_uri": "https://localhost:8080/"
        },
        "id": "feDo2LrDJyPT",
        "outputId": "853e09aa-1731-4430-cb71-98c8b38f3de1"
      },
      "execution_count": null,
      "outputs": [
        {
          "output_type": "display_data",
          "data": {
            "text/plain": [
              "<Figure size 500x500 with 1 Axes>"
            ],
            "image/png": "[encoded data removed]"
          },
          "metadata": {}
        }
      ]
    },
    {
      "cell_type": "markdown",
      "source": [
        "Dari hasil visualisasi di atas, diperoleh bahwa gender customer yang paling banyak melakukan pemesanan ke vendor adalah 'male'."
      ],
      "metadata": {
        "id": "dIFTegMrOzkC"
      }
    },
    {
      "cell_type": "markdown",
      "source": [
        "#### EDA Customer Profiling 2:\n",
        "Berapakah proporsi tahun kelahiran dari customer?"
      ],
      "metadata": {
        "id": "FaVXxqcBPl-2"
      }
    },
    {
      "cell_type": "code",
      "source": [
        "a = sns.catplot(x=\"dob\", kind=\"count\", palette=\"flare\", data=df_cust_prep)\n",
        "a.fig.set_size_inches(20,8)\n",
        "a.set_xticklabels(rotation=90)\n",
        "plt.xlabel(\"Year of Birth\")\n",
        "plt.ylabel(\"Count of Year of Birth\")\n",
        "plt.show()"
      ],
      "metadata": {
        "colab": {
          "base_uri": "https://localhost:8080/"
        },
        "id": "pUszuTMtM72f",
        "outputId": "bc68ed59-29cb-4013-886b-567103ae0c54"
      },
      "execution_count": null,
      "outputs": [
        {
          "output_type": "display_data",
          "data": {
            "text/plain": [
              "<Figure size 2000x800 with 1 Axes>"
            ],
            "image/png": "[encoded data removed]"
          },
          "metadata": {}
        }
      ]
    },
    {
      "cell_type": "markdown",
      "source": [
        "Dapat dilihat bahwa proporsi tahun kelahiran customer didominasi oleh tahun kelahiran antara tahun 1990 hingga 2009."
      ],
      "metadata": {
        "id": "pOsVysk_Q_Pz"
      }
    },
    {
      "cell_type": "markdown",
      "source": [
        "Berapakah rata-rata umur dari customer?"
      ],
      "metadata": {
        "id": "ACG1Zs19amYw"
      }
    },
    {
      "cell_type": "code",
      "source": [
        "b = sns.catplot(x=\"age\", kind=\"count\", palette=\"flare\", data=df_cust_prep)\n",
        "b.fig.set_size_inches(20,8)\n",
        "b.set_xticklabels(rotation=90)\n",
        "plt.xlabel(\"Age\")\n",
        "plt.ylabel(\"Count of Age\")\n",
        "plt.show()"
      ],
      "metadata": {
        "colab": {
          "base_uri": "https://localhost:8080/"
        },
        "id": "AuhPg1rDfVpM",
        "outputId": "e2a476f9-9f04-458a-bf4e-4d89f7325524"
      },
      "execution_count": null,
      "outputs": [
        {
          "output_type": "display_data",
          "data": {
            "text/plain": [
              "<Figure size 2000x800 with 1 Axes>"
            ],
            "image/png": "[encoded data removed]"
          },
          "metadata": {}
        }
      ]
    },
    {
      "cell_type": "markdown",
      "source": [
        "Kelahiran tahun 1999 hingga 2009 berarti customer didominasi oleh rentang umur 14 hingga 33 tahun."
      ],
      "metadata": {
        "id": "chISMa3ifuID"
      }
    },
    {
      "cell_type": "code",
      "source": [
        "df_cust_prep['age'].describe()"
      ],
      "metadata": {
        "colab": {
          "base_uri": "https://localhost:8080/"
        },
        "id": "De_P-fzbd4DS",
        "outputId": "046f0653-7a9f-458b-8a88-b44693357bca"
      },
      "execution_count": null,
      "outputs": [
        {
          "output_type": "execute_result",
          "data": {
            "text/plain": [
              "count    9768.000000\n",
              "mean       24.187961\n",
              "std         6.956438\n",
              "min        13.000000\n",
              "25%        19.000000\n",
              "50%        24.000000\n",
              "75%        29.000000\n",
              "max       123.000000\n",
              "Name: age, dtype: float64"
            ]
          },
          "metadata": {},
          "execution_count": 109
        }
      ]
    },
    {
      "cell_type": "code",
      "source": [
        "c = px.box(df_cust_prep, x=\"age\", labels=dict(age=\"Age\"))\n",
        "c.show()"
      ],
      "metadata": {
        "colab": {
          "base_uri": "https://localhost:8080/"
        },
        "id": "1f6qg5XeSGE8",
        "outputId": "67eb9ea7-00c2-47e9-9f56-9dd382a3caf8"
      },
      "execution_count": null,
      "outputs": [
        {
          "output_type": "display_data",
          "data": {
            "text/html": [
              "<html>\n",
              "<head><meta charset=\"utf-8\" /></head>\n",
              "<body>\n",
              "    <div>            <script src=\"https://cdnjs.cloudflare.com/ajax/libs/mathjax/2.7.5/MathJax.js?config=TeX-AMS-MML_SVG\"></script><script type=\"text/javascript\">if (window.MathJax && window.MathJax.Hub && window.MathJax.Hub.Config) {window.MathJax.Hub.Config({SVG: {font: \"STIX-Web\"}});}</script>                <script type=\"text/javascript\">window.PlotlyConfig = {MathJaxConfig: 'local'};</script>\n",
              "        <script src=\"https://cdn.plot.ly/plotly-2.18.2.min.js\"></script>                <div id=\"2c667565-a4de-41aa-9859-365643124c0b\" class=\"plotly-graph-div\" style=\"height:525px; width:100%;\"></div>            <script type=\"text/javascript\">                                    window.PLOTLYENV=window.PLOTLYENV || {};                                    if (document.getElementById(\"2c667565-a4de-41aa-9859-365643124c0b\")) {                    Plotly.newPlot(                        \"2c667565-a4de-41aa-9859-365643124c0b\",                        [{\"alignmentgroup\":\"True\",\"hovertemplate\":\"Age=%{x}<extra></extra>\",\"legendgroup\":\"\",\"marker\":{\"color\":\"#636efa\"},\"name\":\"\",\"notched\":false,\"offsetgroup\":\"\",\"orientation\":\"h\",\"showlegend\":false,\"x\":[17,16,31,24,26,21,33,19,14,23,22,18,22,20,28,20,17,28,31,17,19,26,14,32,20,34,29,29,33,24,31,15,30,33,23,14,26,19,27,34,21,26,28,31,17,31,37,32,28,25,16,25,18,22,24,22,21,30,24,21,33,20,26,15,17,25,16,33,31,47,14,29,24,14,27,30,14,30,25,30,31,25,53,23,29,28,17,31,30,17,46,27,14,16,53,21,19,29,29,30,26,23,28,24,31,27,18,29,23,26,18,41,30,21,27,23,15,20,18,31,30,22,29,23,26,29,19,35,18,27,19,17,23,21,20,17,32,26,20,24,30,16,19,28,23,30,17,32,27,18,29,29,17,25,30,18,29,27,23,26,33,29,33,14,17,25,25,16,16,32,28,31,31,19,25,31,22,23,28,26,25,20,25,28,14,29,21,17,26,26,30,24,15,26,29,20,25,23,52,29,29,30,53,30,14,26,19,24,33,27,20,29,18,29,17,26,20,30,31,24,30,21,16,22,16,20,25,15,24,23,16,25,14,28,25,33,18,30,31,29,21,27,22,19,17,27,32,31,22,23,15,25,27,23,22,32,24,15,22,23,15,15,17,15,32,25,15,18,33,24,22,20,17,29,19,26,32,19,28,22,32,32,26,32,19,22,25,16,14,21,31,23,16,20,24,23,21,29,22,17,15,22,19,30,25,21,24,19,21,15,30,27,32,22,28,25,23,29,21,13,20,25,27,17,17,26,32,21,27,32,17,22,17,18,30,26,21,17,32,27,35,25,24,21,23,21,26,31,16,31,29,23,32,15,33,20,13,30,25,26,33,16,17,15,19,18,25,33,30,20,30,26,32,16,22,24,15,33,30,29,26,16,28,29,29,22,32,16,25,30,19,23,23,25,27,24,19,21,15,25,25,21,33,14,23,24,27,16,29,25,31,30,31,24,27,17,27,28,31,21,32,22,27,20,24,22,31,22,14,28,19,16,17,18,22,22,24,24,24,29,18,15,22,27,30,30,16,33,25,23,20,28,21,30,33,15,24,30,24,30,15,22,17,25,18,15,14,30,23,22,27,28,26,15,30,25,24,29,21,32,19,22,15,19,32,17,32,24,17,30,24,26,14,21,33,32,29,19,25,23,16,23,26,24,26,24,14,23,25,26,22,15,18,14,53,19,32,28,17,25,30,27,15,28,20,25,14,23,16,33,25,22,19,29,23,15,24,30,18,25,19,30,15,27,31,20,19,25,21,30,16,32,15,32,30,31,27,22,15,18,15,19,27,17,13,15,23,30,31,33,30,31,17,31,23,19,30,15,15,17,25,23,24,27,30,33,27,17,32,17,20,20,19,33,27,19,14,29,23,25,17,14,29,14,24,23,35,13,22,28,21,23,25,32,14,30,24,33,20,21,23,28,26,19,30,19,18,16,17,32,32,32,29,32,31,18,30,31,28,32,24,19,21,31,17,16,28,18,27,14,27,20,22,29,20,25,25,33,30,32,21,18,27,17,14,16,14,28,14,19,20,24,29,18,33,25,14,28,29,14,16,17,22,20,33,24,14,23,15,19,26,17,14,19,27,33,27,13,16,23,21,21,53,19,31,27,15,14,31,13,33,18,27,22,25,14,32,20,15,25,31,22,17,32,22,15,23,30,20,31,39,26,21,23,21,25,22,32,19,17,16,16,17,32,23,33,25,24,29,24,22,29,15,27,32,21,20,19,20,30,27,29,24,19,20,24,28,30,18,23,22,31,27,24,16,18,33,22,32,22,30,23,31,28,53,23,15,24,29,25,33,32,32,15,28,16,27,24,32,16,19,19,28,31,19,28,27,25,16,22,26,33,32,28,30,30,18,14,25,25,25,18,18,28,16,25,27,24,30,16,25,17,24,14,28,26,21,16,20,32,20,29,31,33,28,16,16,14,23,28,27,24,23,22,18,19,26,28,25,20,18,31,30,21,32,15,31,32,30,27,31,15,27,27,28,33,25,21,23,22,36,24,15,18,29,15,31,14,32,29,17,28,14,18,15,22,23,16,26,26,29,31,32,43,28,33,25,15,22,29,30,15,19,23,17,29,24,17,32,25,25,16,24,28,22,29,33,19,27,15,16,14,26,20,25,19,27,18,16,25,22,18,27,21,20,17,18,24,16,30,18,25,30,19,31,17,16,14,26,32,25,16,16,23,32,33,28,22,30,22,16,14,20,32,24,33,27,14,31,27,18,29,27,26,25,31,17,31,25,30,32,30,33,30,15,22,29,25,25,20,34,22,33,22,24,41,21,33,16,23,22,24,24,18,14,28,29,41,31,20,31,19,15,24,15,21,33,18,26,30,18,33,16,28,32,17,19,16,19,25,24,22,16,29,14,29,23,23,27,24,27,24,24,30,14,26,18,24,23,22,31,17,19,31,30,18,26,26,14,29,26,14,15,20,19,18,24,32,16,19,22,33,33,20,20,17,17,30,30,24,27,28,25,20,15,15,45,33,14,22,15,26,28,27,20,31,20,15,20,20,14,14,17,53,27,20,123,28,32,15,18,20,27,17,32,33,19,16,32,26,32,27,18,15,21,26,14,14,21,15,31,14,23,32,19,19,14,28,21,32,22,20,15,30,16,25,17,26,18,25,33,25,25,17,15,27,29,30,22,29,24,22,17,25,31,22,18,13,31,16,28,18,16,28,24,28,20,18,18,28,21,23,23,25,31,26,17,21,14,23,25,21,33,19,25,30,22,29,15,21,15,19,25,25,18,30,30,22,25,15,21,24,28,27,32,25,26,44,15,19,32,24,33,13,19,13,14,28,17,27,29,26,33,33,23,31,20,16,30,24,27,33,30,21,22,18,19,15,18,15,27,31,26,15,24,26,15,27,19,29,22,20,28,15,25,26,15,30,18,33,33,19,27,24,27,18,26,29,24,29,18,27,25,17,30,20,22,32,33,33,16,31,23,31,22,31,24,30,14,25,32,18,15,32,28,22,23,15,21,24,17,31,17,14,31,18,24,31,17,18,16,15,20,17,24,23,19,15,25,18,32,14,17,15,38,28,25,50,22,29,30,18,31,15,24,19,26,16,28,30,23,19,13,15,33,27,31,19,30,26,30,29,15,14,15,17,14,17,23,21,20,19,19,25,19,33,32,16,29,20,28,32,27,25,30,14,25,20,29,28,25,31,17,31,19,21,33,21,24,13,24,19,24,14,23,22,18,31,28,32,29,21,18,16,21,33,25,32,28,18,31,25,33,27,26,15,24,20,19,14,31,29,28,21,15,24,27,31,20,23,20,23,17,31,15,22,24,17,17,31,26,33,27,32,14,22,15,31,32,30,24,23,19,16,25,23,17,23,26,15,33,29,30,18,17,22,17,25,28,32,17,31,27,18,21,15,23,29,29,24,32,31,28,17,23,30,32,20,23,20,30,22,33,26,25,28,18,23,29,22,15,17,31,29,31,21,30,18,23,33,31,19,25,22,31,22,33,29,25,16,32,18,18,27,31,17,27,25,31,20,29,23,28,32,28,30,19,24,32,15,19,33,16,25,53,20,18,31,30,19,19,26,33,26,29,15,32,32,28,23,33,29,23,21,26,31,25,30,22,17,30,25,26,33,18,16,22,37,33,23,26,26,21,18,16,24,19,33,25,20,33,25,17,29,24,29,33,31,22,19,17,22,21,31,22,18,26,18,25,29,18,35,16,25,14,25,27,14,30,32,30,15,33,27,18,29,16,35,26,26,31,28,20,17,26,27,23,17,27,30,32,21,20,32,24,23,13,28,27,14,22,22,28,22,16,29,16,21,27,16,33,25,31,25,26,31,16,29,15,32,24,29,15,17,24,30,18,18,21,24,21,28,30,29,23,24,22,26,19,23,21,33,27,25,17,14,25,26,28,28,21,31,18,24,29,16,25,26,16,16,22,14,20,14,24,31,19,23,29,32,14,24,28,32,33,33,32,22,33,23,20,26,14,17,30,17,23,22,24,32,18,21,25,18,29,24,27,38,40,53,31,18,31,32,17,31,15,33,17,30,27,23,18,28,14,14,23,28,24,18,30,23,26,53,25,30,25,29,33,22,23,30,29,28,22,29,15,27,28,23,30,18,31,30,28,14,32,25,19,17,27,35,32,20,16,21,25,22,23,15,30,31,18,22,17,13,16,31,29,22,15,23,37,19,20,30,16,33,19,24,30,24,32,14,18,27,32,15,31,22,32,23,21,17,21,27,31,20,23,26,27,22,14,28,27,28,27,22,21,29,19,32,24,24,22,23,26,31,21,17,19,21,14,30,27,14,15,19,22,16,23,22,18,18,27,15,18,29,24,29,14,22,17,22,21,16,22,20,30,16,24,25,22,28,30,23,26,32,26,17,20,18,22,19,20,14,17,18,28,16,18,33,23,28,25,28,21,16,26,16,21,18,23,32,15,16,17,22,32,23,25,25,27,26,19,31,18,29,23,24,31,27,14,28,22,26,19,25,25,23,25,24,15,27,15,24,16,20,21,33,25,29,27,31,22,14,23,30,30,30,17,22,14,26,28,18,24,28,14,23,29,17,33,33,22,26,19,31,26,27,28,25,15,29,22,25,26,21,31,29,16,20,31,15,20,17,33,15,19,28,22,32,19,25,14,23,23,18,27,20,25,19,19,20,28,24,40,28,26,25,28,20,19,17,31,17,33,28,19,22,22,30,25,32,16,30,29,28,27,32,17,26,17,21,22,19,14,41,14,27,25,23,33,28,32,30,24,123,27,17,17,21,27,25,18,20,16,27,18,17,25,20,15,17,27,15,21,33,28,19,17,28,21,30,29,20,19,14,28,18,30,27,33,16,31,19,27,17,28,33,30,25,22,16,21,31,30,31,14,29,25,24,30,23,27,14,25,28,26,15,14,23,16,24,27,24,14,23,19,14,15,14,28,17,29,22,25,29,26,22,25,22,19,18,19,16,19,28,24,22,16,30,18,19,28,25,20,31,16,28,31,20,17,17,21,23,31,30,30,34,36,32,20,29,29,28,28,14,17,28,29,14,18,30,15,32,32,27,19,32,23,31,31,26,22,22,18,16,14,19,15,22,22,26,31,21,28,29,31,23,22,28,29,24,19,25,41,29,20,26,32,21,23,24,16,31,17,19,20,26,25,17,19,31,29,29,22,25,23,17,36,24,23,19,18,20,31,28,31,29,29,25,18,15,26,21,31,22,19,14,33,17,23,28,28,33,21,32,17,14,29,23,32,14,28,29,26,21,32,17,39,14,18,14,15,30,17,28,21,24,22,24,24,14,17,30,24,18,16,25,30,20,28,26,27,17,32,18,31,26,23,14,17,27,23,17,33,14,22,31,19,29,33,30,33,26,19,32,28,17,30,19,28,32,23,20,28,25,33,21,27,15,20,22,38,25,29,31,32,25,18,17,32,20,25,32,25,27,20,22,15,25,21,33,27,27,24,29,21,33,30,25,18,32,28,20,30,30,30,25,21,14,23,16,30,29,31,14,21,14,25,18,15,18,13,15,18,28,26,26,25,25,24,28,32,25,31,21,15,14,14,19,21,21,49,33,31,17,33,18,33,17,27,33,22,31,20,14,16,29,25,13,17,25,24,27,21,20,21,21,33,22,22,26,22,16,16,25,15,32,24,15,28,14,17,18,23,18,24,17,26,25,27,16,27,17,16,33,27,15,39,30,23,33,33,28,17,21,21,18,17,26,32,32,23,18,33,21,21,27,30,33,23,21,32,23,15,44,29,19,20,30,23,20,31,17,30,14,26,23,27,30,30,16,21,24,33,21,23,33,17,21,31,19,17,24,18,32,27,23,30,26,18,20,27,25,24,18,25,22,20,30,25,30,21,14,30,16,17,31,15,32,28,18,19,22,16,32,27,23,20,27,16,25,13,33,14,38,32,25,20,17,24,20,31,21,15,21,26,20,32,24,27,31,17,21,23,20,22,38,21,32,24,32,30,19,24,25,29,32,13,22,29,17,31,30,19,26,22,23,14,15,29,16,22,26,22,16,20,25,14,17,19,30,33,14,18,31,30,31,16,23,24,18,45,13,29,32,22,15,31,28,33,30,26,27,31,29,22,17,33,32,30,22,22,32,27,19,16,28,14,14,21,20,31,33,27,20,19,18,24,22,21,33,20,16,31,22,22,26,22,18,16,17,19,30,26,22,28,21,30,19,26,17,26,17,28,33,20,33,28,28,25,30,15,26,29,25,24,27,17,23,15,18,15,22,21,20,15,24,21,18,25,20,14,26,18,22,31,18,18,17,22,13,33,31,28,25,16,32,27,31,22,29,32,31,20,14,28,14,31,24,20,14,26,24,27,22,20,31,27,19,35,22,16,16,23,23,43,15,16,19,16,21,25,18,24,19,18,26,20,21,32,19,27,33,14,25,16,30,29,24,16,32,15,30,22,26,19,16,14,33,17,29,27,17,31,29,17,33,29,30,19,24,15,18,23,17,14,31,15,26,24,21,29,21,32,18,32,25,14,18,14,16,27,26,27,20,28,27,23,26,26,25,16,18,21,30,19,33,19,25,18,16,20,27,24,21,33,23,24,22,24,30,53,31,14,36,27,30,25,33,25,29,18,27,33,20,25,19,19,27,23,28,17,15,30,33,19,21,17,20,27,26,19,33,27,22,20,26,25,16,32,24,19,29,14,23,30,25,30,20,20,30,20,28,21,19,123,19,29,28,31,16,24,20,26,33,53,30,16,33,15,24,26,30,30,31,28,23,27,25,19,25,28,23,18,20,33,29,28,25,21,28,22,28,24,18,21,23,23,30,27,30,18,22,32,29,30,18,16,15,18,30,17,16,33,32,27,28,15,32,30,32,26,20,19,33,29,32,28,31,31,28,30,28,28,22,29,18,21,17,26,16,16,22,26,32,17,15,29,14,17,25,14,20,26,30,23,22,20,31,22,25,25,32,16,32,30,20,32,31,29,15,24,25,16,22,27,24,25,19,28,24,31,21,25,25,19,15,28,25,28,27,28,14,19,28,14,28,24,28,26,15,21,15,15,19,22,32,14,28,14,15,32,21,30,32,28,22,14,22,21,32,20,18,17,24,24,18,33,15,13,20,14,17,21,22,26,15,30,22,22,22,25,33,26,27,23,14,17,14,25,26,27,31,26,21,24,16,17,33,18,29,28,18,31,19,17,17,33,28,30,15,16,27,33,22,15,31,28,28,22,24,15,33,28,32,14,15,26,22,24,26,18,20,20,24,33,20,27,20,16,21,25,13,28,42,123,26,15,18,27,33,19,22,15,23,23,23,23,17,19,30,18,30,17,22,28,14,21,21,31,14,27,32,25,30,18,29,21,32,28,32,24,14,28,33,25,33,19,29,32,29,14,14,17,21,32,24,24,14,27,33,20,22,23,30,29,23,33,33,18,33,26,17,14,15,33,31,19,33,22,31,15,20,23,31,19,13,23,20,31,36,22,30,34,37,27,24,31,22,25,21,30,19,24,15,27,32,26,28,29,24,33,17,32,15,32,18,15,21,33,33,28,28,18,31,27,25,20,33,16,21,25,19,28,17,32,27,14,15,20,25,18,33,17,14,22,28,23,22,19,16,31,16,32,15,20,28,25,28,25,16,24,30,25,17,16,30,18,53,33,31,33,23,24,33,14,33,28,29,22,16,27,25,15,15,30,31,18,20,22,32,16,18,20,19,33,22,31,25,16,45,31,33,22,32,33,18,20,17,24,31,30,21,28,29,19,25,23,33,16,26,28,22,20,23,29,26,29,23,33,14,15,30,16,18,26,17,37,32,19,30,32,29,21,27,23,18,32,32,15,18,29,25,16,28,21,53,24,30,29,17,32,18,20,23,31,29,28,20,18,17,30,25,25,32,26,14,21,19,14,31,23,24,32,30,15,20,18,25,19,21,31,19,25,21,20,29,15,24,28,18,21,21,32,19,16,30,28,30,22,19,29,20,31,17,19,13,33,23,26,17,21,23,27,22,32,33,18,29,18,13,27,24,21,18,20,33,28,17,27,32,19,15,30,18,29,31,29,21,19,28,31,29,18,25,28,26,30,27,25,28,31,32,19,16,15,26,14,24,17,31,16,23,25,31,20,27,24,28,28,30,18,30,37,30,16,14,21,21,19,14,15,21,27,22,20,26,29,16,25,30,28,18,25,23,24,23,30,30,31,32,32,16,32,21,27,31,20,32,24,25,28,27,15,26,16,22,32,30,32,53,26,14,30,32,15,29,22,30,18,31,28,31,18,14,26,24,23,21,33,17,21,29,30,33,30,18,30,16,38,31,16,32,29,24,29,20,16,21,16,18,16,21,35,32,15,26,16,33,30,29,16,20,27,23,32,22,33,19,26,16,19,31,14,15,15,30,18,17,19,32,22,30,23,27,31,32,31,14,21,20,28,14,16,19,18,33,20,25,26,31,23,18,24,23,32,20,16,16,19,17,31,16,34,13,25,32,26,16,14,18,16,24,17,31,32,14,26,32,20,19,31,26,53,19,23,30,24,30,16,31,28,25,30,15,18,32,30,25,36,29,18,23,17,16,20,19,14,32,29,23,27,23,21,20,31,26,15,32,20,31,28,31,24,27,31,20,33,41,24,32,14,18,16,41,33,32,53,32,31,16,27,30,28,33,14,16,53,32,15,21,29,20,33,21,31,16,16,30,19,25,27,17,27,19,15,31,17,17,15,14,18,28,15,15,22,25,16,27,26,27,15,13,24,25,33,25,19,22,19,14,14,24,32,35,20,21,21,27,25,15,33,16,22,29,32,17,22,20,27,22,26,14,28,26,24,26,18,27,18,31,25,22,20,28,30,33,24,17,29,23,15,24,16,16,19,31,31,26,30,21,38,33,26,14,30,18,20,33,26,31,18,16,17,30,20,21,24,34,27,14,33,14,21,22,15,21,16,16,14,23,16,24,31,29,19,26,28,23,33,21,27,66,26,27,13,22,18,32,25,31,21,38,22,24,46,33,20,21,14,24,27,23,14,29,24,21,15,29,22,30,29,20,18,17,30,30,19,17,20,29,24,27,39,31,21,28,30,16,24,26,31,20,30,28,31,29,28,15,33,19,30,30,21,35,31,33,31,31,31,24,33,28,34,14,25,20,27,14,14,21,21,28,28,21,32,22,32,21,32,29,35,24,28,32,17,25,30,13,13,31,24,36,32,20,22,21,20,24,20,20,28,18,27,17,26,24,14,16,28,16,25,28,24,24,26,30,27,25,25,24,15,23,14,29,29,26,21,15,17,42,26,23,22,28,22,26,14,28,26,25,20,21,23,33,20,34,26,27,24,18,23,15,27,31,14,33,29,27,18,27,17,33,22,27,17,26,17,24,27,19,21,22,24,22,17,15,14,27,27,30,21,22,27,23,24,19,22,14,18,28,23,25,14,25,29,27,31,21,21,18,22,23,27,31,25,25,19,25,30,48,30,22,14,28,27,26,16,25,17,27,18,30,32,33,21,20,25,31,28,30,29,33,15,15,15,27,24,29,22,38,21,30,32,17,32,27,17,27,31,24,29,14,19,17,19,21,26,17,27,33,19,30,14,28,24,35,16,14,26,19,18,19,28,16,30,23,20,32,28,26,29,28,35,24,27,21,20,31,32,32,22,32,29,33,14,30,29,17,48,14,18,29,19,20,18,45,15,19,43,20,32,24,31,27,22,19,22,27,29,30,21,15,17,19,15,23,17,28,20,28,19,21,23,33,31,21,32,27,30,31,31,29,33,32,28,36,21,25,31,22,33,36,14,29,26,53,28,15,17,13,30,25,18,20,25,30,23,32,25,36,23,27,30,31,21,16,17,23,28,26,32,31,14,29,19,29,23,16,32,34,23,24,24,20,20,27,29,28,27,14,42,22,16,32,29,19,33,25,24,19,14,29,22,28,19,19,15,17,26,28,15,22,15,53,18,28,27,27,38,46,25,19,29,33,28,22,21,19,28,25,24,19,29,30,30,22,25,18,31,33,24,24,22,33,44,29,33,24,21,19,21,29,19,33,22,28,53,24,14,27,18,17,31,13,27,33,31,27,20,18,30,17,23,31,25,51,21,33,29,21,32,25,29,28,30,21,23,22,17,24,25,31,18,22,53,32,30,23,21,22,15,25,19,31,25,29,39,19,23,20,29,24,18,21,36,30,32,27,29,33,28,14,33,24,15,16,47,16,27,42,23,16,16,20,24,19,21,20,18,22,25,15,26,25,15,28,23,42,19,28,14,33,20,23,14,18,20,34,29,21,28,33,16,16,25,20,26,29,28,37,33,18,26,26,29,17,27,22,26,27,21,31,16,16,29,29,28,51,21,14,17,31,27,18,31,18,21,27,28,30,21,31,20,18,17,18,31,18,16,16,21,31,26,30,30,30,18,19,26,26,19,30,31,21,22,21,31,25,32,28,25,31,15,28,22,30,27,22,29,18,16,24,19,31,23,29,25,29,25,23,32,21,31,15,14,21,15,17,15,15,33,17,23,30,24,28,50,25,30,33,22,33,31,22,16,28,14,31,23,29,40,24,23,26,43,19,30,16,31,17,24,23,33,31,32,16,24,18,28,26,23,15,24,26,21,14,15,23,29,32,29,20,27,25,20,18,15,27,20,47,15,25,22,23,53,30,17,24,23,24,31,25,23,20,19,15,31,31,32,18,24,22,29,33,14,22,14,28,20,25,32,23,23,25,32,33,29,32,21,29,26,28,17,24,29,27,28,21,18,27,21,33,15,26,20,28,14,28,30,31,21,13,14,22,33,19,18,22,32,23,27,23,31,27,20,18,29,24,17,28,18,27,26,15,18,31,32,28,31,22,30,26,29,32,22,29,28,19,25,16,23,27,24,27,26,32,18,28,33,15,18,31,41,33,27,17,25,25,23,25,25,22,14,23,53,27,29,30,16,21,31,26,26,27,32,18,17,21,31,14,28,16,29,15,16,31,27,21,32,33,33,30,30,23,15,28,26,17,19,43,15,15,23,33,22,29,14,15,13,25,24,13,21,23,24,27,23,19,21,28,29,21,29,17,15,32,22,14,31,31,15,23,15,31,32,15,15,21,24,21,25,29,54,30,32,28,33,22,25,20,31,14,28,16,53,33,33,30,16,26,23,17,19,23,19,32,29,16,28,23,25,19,22,25,27,36,24,17,26,22,15,21,21,17,18,22,22,28,27,33,33,25,28,23,24,29,17,33,34,31,32,26,22,30,29,17,33,20,17,24,29,28,30,26,26,23,23,18,14,32,18,28,28,18,18,20,14,27,19,32,28,21,25,25,25,22,21,26,22,28,20,16,53,22,21,21,21,19,14,22,16,30,33,16,53,29,23,54,15,24,45,21,31,33,15,26,31,24,19,32,25,32,33,15,33,18,17,19,29,32,14,19,18,23,28,23,18,23,16,25,31,34,14,14,14,53,14,19,32,21,32,14,33,26,25,32,32,19,25,22,25,14,16,31,31,19,30,24,13,25,16,17,22,24,17,22,18,33,26,29,16,26,26,17,31,20,15,22,18,17,18,18,25,33,17,24,30,26,13,18,20,28,19,16,29,25,22,26,27,30,39,25,16,18,24,22,27,46,24,27,16,15,27,22,31,15,18,21,23,31,19,32,46,18,24,25,25,20,27,32,30,29,33,28,31,27,19,15,27,17,20,24,19,23,18,31,18,17,15,33,23,20,21,18,17,22,30,53,16,33,25,27,28,27,14,18,14,18,14,25,21,28,28,26,14,23,28,14,22,32,17,36,15,31,28,29,20,33,19,24,23,31,28,19,30,18,22,28,33,26,23,14,28,17,16,15,26,25,22,32,27,27,32,20,15,20,26,15,15,31,36,25,15,14,28,24,21,26,32,17,23,20,21,26,14,33,31,32,25,30,22,26,28,30,31,26,15,23,33,14,32,32,26,50,32,32,23,15,16,26,27,29,34,17,13,22,33,25,19,18,14,27,28,18,30,14,27,27,25,27,28,15,27,18,24,14,29,23,33,30,32,32,23,24,16,28,14,23,32,32,16,32,33,32,18,30,30,18,25,20,18,22,31,25,26,23,28,26,29,24,14,26,32,21,15,19,16,27,29,42,27,18,18,16,27,23,23,22,30,14,30,28,27,30,26,39,27,30,33,19,24,28,21,25,17,26,30,16,18,28,15,31,29,26,30,27,16,17,28,27,19,14,15,17,32,24,14,33,28,14,27,17,31,20,18,18,31,18,28,17,23,25,30,19,21,30,31,18,26,18,18,30,31,31,15,32,21,22,31,30,14,23,23,29,27,20,19,34,30,28,25,15,29,18,16,14,36,15,27,22,14,32,31,27,23,24,24,31,33,14,16,18,23,19,25,17,13,13,16,17,17,15,18,33,30,17,24,24,15,31,27,24,33,13,18,17,23,27,24,32,30,18,31,30,21,24,19,33,27,16,26,21,29,18,15,24,27,23,30,16,19,32,24,28,26,29,28,15,25,19,25,14,31,14,27,21,24,21,14,30,16,26,22,22,18,19,26,23,39,26,33,17,22,30,34,32,33,14,26,27,17,23,21,21,13,28,23,22,30,33,21,16,30,31,29,21,25,15,17,24,30,32,19,14,20,32,32,14,23,19,19,21,13,18,19,19,26,21,30,25,32,19,32,21,15,19,30,28,16,30,21,16,21,23,24,19,17,27,18,23,23,14,13,32,24,30,14,22,25,24,29,23,15,16,48,17,14,15,27,14,29,31,16,20,32,19,16,20,23,15,18,21,23,23,16,21,24,22,16,32,18,25,26,25,32,24,24,13,23,15,22,17,27,23,32,16,29,29,20,28,32,14,22,20,24,18,24,26,27,20,33,19,31,21,17,27,19,24,29,28,20,35,18,27,22,15,19,22,23,21,25,24,26,21,23,14,31,17,15,24,30,16,22,21,22,17,28,22,22,32,28,28,27,31,27,26,25,27,19,28,25,21,22,26,21,32,28,23,22,23,29,32,32,30,28,33,24,24,30,23,29,24,21,25,15,22,28,17,27,30,29,29,17,22,32,31,27,30,33,16,19,22,33,29,30,24,31,16,18,16,18,21,24,15,23,30,23,26,25,24,16,53,24,31,48,14,23,26,26,20,24,33,33,14,16,18,22,20,25,16,30,27,17,30,22,19,14,14,23,30,31,25,38,22,33,29,22,28,16,33,28,33,16,28,16,17,18,13,13,15,32,23,27,14,32,14,25,32,18,21,27,19,33,21,23,14,25,28,26,28,26,25,31,29,15,23,22,20,23,34,32,21,33,15,22,32,27,27,14,33,22,29,16,22,27,14,24,21,23,15,26,25,31,29,26,16,22,32,36,24,19,26,32,21,25,31,32,18,31,33,24,33,27,18,23,25,31,29,28,14,26,24,21,29,17,17,33,33,27,33,26,37,31,24,17,20,30,33,25,33,24,13,28,22,33,31,29,33,20,22,28,30,31,16,21,33,23,16,32,28,26,25,25,16,22,14,16,15,26,29,22,24,23,33,17,16,32,14,31,15,14,25,28,15,30,14,27,27,15,30,28,24,16,17,14,22,17,16,27,24,14,18,24,24,31,19,23,26,24,21,25,28,17,30,28,25,21,18,19,31,27,31,31,27,29,20,19,18,31,14,29,15,29,28,20,26,18,28,25,27,31,28,25,22,23,20,25,25,29,20,26,29,21,15,27,31,29,20,26,32,25,18,17,24,22,14,31,32,20,23,19,27,21,20,19,24,16,20,22,20,29,18,24,19,20,16,23,20,26,27,15,19,16,32,24,33,33,27,20,30,15,17,30,26,23,28,16,22,23,33,22,27,33,22,33,30,30,16,25,21,17,29,21,29,14,29,30,23,28,21,16,33,39,15,24,25,18,22,22,31,28,25,25,31,15,21,28,20,24,23,29,14,30,18,18,30,53,43,32,22,25,17,32,32,23,16,26,15,20,23,19,21,30,17,16,23,32,23,22,20,22,31,32,27,14,25,21,30,30,15,29,18,17,19,33,24,19,17,33,24,20,18,28,31,32,22,23,20,32,23,27,33,16,26,29,33,33,24,18,29,29,33,19,19,25,53,18,29,30,25,18,27,22,17,26,23,22,31,15,16,19,25,17,32,18,23,32,26,28,16,26,21,15,27,28,15,20,22,18,31,17,24,21,33,26,20,19,25,19,18,24,33,21,15,16,15,29,26,28,30,29,28,28,26,38,32,21,19,25,30,16,29,33,25,31,16,26,27,19,24,16,19,18,33,19,26,53,31,22,22,17,23,14,27,22,17,28,15,28,21,23,32,14,22,23,18,24,28,15,18,42,24,27,30,31,35,23,18,21,25,15,25,15,20,32,29,22,24,19,30,26,14,25,20,22,33,25,32,31,31,33,22,25,28,25,21,18,21,18,30,28,26,33,26,15,26,30,31,25,15,31,14,32,15,28,28,18,28,15,20,29,18,24,16,22,29,32,22,16,20,31,22,27,31,20,25,32,18,22,22,30,22,22,22,27,27,22,21,27,22,17,29,31,27,19,18,30,28,27,21,30,19,22,15,33,17,30,33,15,26,29,32,33,17,31,53,30,30,29,28,28,31,16,33,28,23,27,20,19,18,21,19,27,19,29,26,31,22,31,17,13,18,32,30,31,15,20,23,21,15,13,30,18,25,36,33,23,20,36,22,25,18,22,21,33,17,15,25,47,22,23,16,25,25,22,15,33,24,32,17,28,18,18,13,29,18,29,32,30,18,27,24,21,20,25,23,19,17,26,17,33,31,24,27,21,26,14,17,32,24,25,21,30,21,26,32,16,26,15,25,28,23,16,24,14,24,29,23,16,37,29,31,31,53,33,15,17,27,28,28,25,53,32,23,22,28,29,25,33,25,32,17,32,25,33,29,23,26,33,33,27,29,22,31,33,24,24,27,33,28,52,16,26,21,18,21,22,14,23,19,25,27,19,24,21,24,44,32,16,31,21,31,31,22,32,32,25,18,32,20,27,19,14,32,30,24,16,22,30,23,21,27,18,17,18,22,36,22,15,24,29,23,32,33,23,29,20,27,21,14,31,23,53,26,33,32,21,21,30,26,23,18,18,14,24,20,16,23,23,31,24,26,53,19,18,18,24,18,19,30,27,23,32,18,21,25,21,36,32,33,14,27,28,17,28,29,29,28,31,28,32,13,16,15,16,24,21,14,25,27,15,29,29,31,30,30,16,20,26,25,53,16,25,26,18,25,16,20,27,22,33,23,27,18,21,26,18,24,32,48,19,19,25,19,23,24,25,19,27,26,26,32,29,26,33,18,19,26,28,22,20,31,29,14,24,21,29,32,27,16,22,29,20,32,33,18,26,28,31,25,32,24,28,22,31,33,13,30,15,21,31,19,29,33,26,14,29,20,32,17,17,33,21,23,36,20,31,18,14,14,23,20,26,20,33,14,32,28,18,53,15,17,24,20,15,26,29,14,19,28,22,21,26,33,22,15,23,19,31,29,33,25,16,23,15,27,15,14,14,17,25,30,14,16,91,23,21,25,16,30,20,21,29,20,14,27,18,30,17,16,32,53,29,24,14,16,35,30,31,27,30,18,23,23,18,31,17,17,27,22,29,25,32,31,32,14,19,22,31,28,16,33,32,32,32,16,21,23,14,18,16,53,20,29,32,18,17,22,33,23,30,19,18,26,30,17,26,25,24,17,18,32,30,33,35,29,27,21,19,33,22,31,23,16,18,53,16,25,30,25,33,20,28,24,33,32,19,30,16,25,27,21,16,31,33,29,21,14,53,21,14,21,15,21,13,21,16,15,22,31,27,23,30,27,29,21,16,30,27,29,16,26,25,18,28,30,18,32,30,26,26,16,23,26,23,26,27,30,16,28,32,22,27,28,28,14,31,29,22,23,19,25,22,18,30,32,32,26,24,17,16,31,31,31,22,15,18,23,28,16,33,17,26,30,32,20,30,24,21,31,28,32,28,21,16,30,20,19,33,33,14,28,31,23,32,26,14,28,14,31,30,23,35,21,24,27,21,29,20,27,20,21,16,30,20,15,33,23,29,26,33,18,33,29,28,32,24,18,32,17,26,28,20,19,14,21,22,33,24,26,29,26,15,14,26,19,37,15,32,24,27,25,29,19,22,21,31,27,53,17,25,16,16,28,21,17,30,17,29,26,17,25,25,28,23,28,18,14,18,20,24,32,21,26,24,15,13,22,53,23,21,21,23,16,23,19,18,30,29,20,26,33,29,30,28,20,24,53,23,30,19,15,15,21,23,16,30,16,14,33,16,18,26,25,31,32,27,20,32,33,18,25,26,30,28,32,25,15,53,33,15,23,20,16,32,21,32,14,22,33,21,16,32,17,31,21,25,16,30,28,17,20,24,30,25,28,31,23,25,33,20,18,53,22,29,17,25,18,31,25,25,19,17,27,21,24,25,24,17,20,14,31,26,23,30,16,19,17,27,18,29,16,26,25,28,28,20,29,29,30,29,33,53,53,28,28,21,17,24,23,22,20,33,17,25,26,26,25,23,28,23,23,18,18,26,29,22,23,27,17,29,25,21,14,15,17,53,18,15,14,14,18,22,31,19,31,19,29,53,31,15,28,32,27,22,23,23,18,18,26,26,26,20,13,26,29,21,25,28,26,27,17,18,23,28,32,32,29,32,22,20,19,22,16,29,20,31,21,13,20,16,33,31,19,26,32,23,19,30,23,30,25,16,32,25,27,29,49,25,29,24,27,17,15,15,32,30,29,14,19,30,15,16,19,19,18,32,32,41,16,20,19,26,14,32,30,17,22,33,17,26,23,22,15,16,23,24,23,28,22,19,26,14,25,16,19,31,33,28,15,26,32,23,20,31,24,15,23,28,22,16,22,25,32,28,17,22,26,31,26,29,20,25,21,23,32,24,29,31,24,20,26,17,25,20,23,32,19,22,15,27,31,15,27,17,27,23,14,23,17,19,27,17,15,25,28,33,14,31,29,32,42,23,25,15,25,14,19,13,22,20,23,19,22,20,22,19,17,19,26,33,14,18,32,26,24,19,15,21,28,28,15,17,15,27,38,18,22,32,17,33,30,33,31,29,31,15,30,27,22,19,52,19,20,21,16,15,26,19,31,14,27,32,23,26,28,23,21,29,23,21,30,24,26,18,23,29,15,29,22,29,20,18,19,24,27,23,34,16,14,32,24,22,24,23,31,24,26,31,27,19,21,21,22,31,14,33,31,15,17,36,23,26,22,25,20,20,15,27,31,30,34,31,18,25,21,13,27,21,31,15,15,18,53,20,18,33,25,19,30,17,26,21,20,19,27,32,24,17,18,23,21,21,27,26,30,30,53,17,20,31,26,33,15,19,25,19,20,21,48,22,27,31,26,16,32,17,15,26,17,22,14,30,25,16,19,27,24,17,29,33,32,14,33,22,19,24,32,19,26,29,18,31,28,25,25,15,33,25,27,28,24,17,26,20,24,20,21,27,40,28,30,15,23,27,18,33,26,31,22,28,21,15,25,22,33,21,28,17,21,53,24,25,30,24,17,17,19,32,21,14,28,15,33,25,21,22,17,22,20,46,29,31,24,20,29,27,26,20,18,32,25,15,17,20,20,16,30,14,31,30,22,27,25,23,21,20,32,26,25,16,19,33,27,27,32,32,15,33,17,22,20,32,17,25,18,25,29,22,15,27,18,15,31,16,26,14,24,25,26,16,24,31,18,21,23,28,33,24,18,28,21,14,16,24,17,27,20,21,19,21,19,27,18,21,41,26,19,24,25,25,21,26,32,27,31,31,23,26,17,20,28,20,29,32,21,30,33,20,17,23,32,18,22,21,29,16,14,30,26,23,24,25,18,28,21,22,25,23,22,27,30,22,29,25,18,28,30,14,16,16,28,18,25,26,20,16,14,22,15,20,33,26,29,15,26,28,24,14,31,32,25,33,39,25,28,27,30,26,22,16,23,31,33,30,24,25,19,26,20,26,30,16,30,33,30,14,31,24,19,44,25,20,23,27,31,31,30,30,29,17,31,20,17,19,28,21,26,25,24,24,29,29,23,23,15,23,18,28,28,31,15,21,31,26,22,23,32,21,25,16,30,19,20,25,17,19,28,25,30,29,31,25,32,22,26,28,32,28,28,33,29,24,31,20,21,14,16,25,26,16,18,27,19,15,15,33,16,21,33,29,30,22,15,21,31,26,33,32,31,24,22,32,22,24,22,26,16,17,27,23,15,33,18,21,30,30,18,24,28,31,32,24,20,19,31,21,33,15,20,27,29,24,23,25,32,24,24,16,31,53,33,20,18,22,18,32,26,22,22,23,17,27,14,26,24,25,14,27,33,15,15,26,27,13,23,19,33,30,31,28,20,20,21,26,30,29,15,20,17,32,33,14,19,33,16,25,24,24,20,28,28,26,27,43,14,15,24,14,18,33,21,33,19,30,21,33,32,15,27,25,37,17,31,15,27,30,21,26,15,27,20,20,29,32,27,16,22,27,29,26,27,20,31,32,15,29,33,16,26,23,20,25,17,25,33,25,20,16,17,27,27,33,29,17,23,17,22,17,31,20,20,33,19,14,19,18,21,32,28,32,23,15,15,17,18,15,17,14,25,24,15,16,25,32,17,21,21,26,56,32,29,24,22,27,26,32,22,21,32,14,32,35,22,19,16,29,22,28,38,24,29,53,18,25,24,32,24,27,21,18,21,16,43,25,17,27,17,34,15,27,31,20,20,15,27,15,17,21,22,21,22,29,27,19,14,22,21,22,17,19,14,25,23,16,30,29,23,27,14,27,32,17,20,31,31,31,24,21,19,20,20,28,21,25,14,14,17,26,19,23,23,33,14,27,24,20,33,25,28,32,28,32,53,17,21,33,28,29,23,53,14,29,18,17,32,33,16,17,14,26,23,16,33,23,33,21,33,30,24,33,32,29,25,15,22,33,32,29,31,33,28,14,14,29,23,23,17,32,30,15,32,32,20,26,31,29,28,19,17,17,15,21,29,16,29,35,24,27,21,22,21,18,29,31,26,18,17,29,15,16,29,23,28,18,18,16,26,59,19,15,23,31,17,24,31,25,20,16,24,32,33,16,20,17,14,20,32,15,17,26,16,16,27,19,27,16,32,14,21,26,31,14,18,15,32,15,25,21,19,23,26,18,24,20,21,23,22,33,33,17,31,18,22,26,20,27,23,34,26,23,33,32,26,29,29,22,28,26,19,24,18,15,29,33,30,33,27,17,31,20,27,28,21,30,16,20,20,33,26,32,31,14,20,15,23,31,32,14,33,26,22,23,32,17,28,32,27,14,21,23,31,14,20,17,26,33,14,29,31,24,19,25,20,23,33,26,30,32,18,25,29,19,16,29,26,25,22,23,24,17,19,20,27,16,17,30,24,20,31,14,26,15,30,30,33,21,21,18,22,22,15,16,19,14,22,26,30,21,17,25,20,19,20,32,29,23,23,29,19,23,30,24,26,18,24,13,17,16,24,31,26,27,14,22,25,16,24,31,17,26,21,26,30,29,17,21,33,26,17,18,17,33,16,18,30,23,17,29,28,26,15,24,17,23,14,21,18,31,23,22,28,27,14,14,30,16,21,21,25,22,28,22,32,17,30,33,27,24,26,17,33,17,25,15,15,33,24,30,23,19,15,17,20,33,25,29,26,26,17,26,13,21,24,29,15,25,19,31,15,19,32,26,21,26,29,23,14,25,21,20,32,27,15,23,27,24,30,16,31,21,21,19,25,19,53,33,22,27,29,32,20,16,28,30,21,22,21,23,29,20,28,22,15,14,29,33,27,24,20,28,25,21,26,27,15,22,28,26,18,15,17,26,25,14,16,21,29,20,30,24,16,28,21,33,21,26,30,16,26,40,21,16,17,19,29,23,28,27,18,30,16,15,16,29,31,15,17,26,25,23,33,28,28,20,19,31,27,28,35,32,27,26,26,31,25,19,26,27,21,21,14,25,22,33,27,45,32,23,23,31,25,30,30,28,53,32,24,26,21,16,23,14,25,31,19,32,19,20,23,23,20,27,14,28,19,17,25,29,22,16,27,22,15,16,28,23,23,21,21,33,15,14,23,15,15,20,53,29,32,28,28,33,32,17,21,16,19,53,24,28,14,18,32,33,19,16,32,21,31,47,29,15,29,21,23,19,22,23,19,21,24,24,28,31,19,27,28,21,22,15,33,28,27,24,15,31,17,29,53,21,33,25,29,20,17,36,29,15,19,23,28,18,28,19,23,23,28,20,16,27,32,33,29,30,14,19,19,25,20,19,33,29,19,20,14,14,33,18,29,21,24,23,13,14,18,20,21,31,32,24,23,23,22,18,28,21,31,17,28,31,24,22,18,29,24,36,31,27,28,29,28,21,15,22,27,25,15,17,25,20,16,15,18,18,29,18,20,28,19,16,25,15,15,22,14,25,31,26,26,31,32,19,33,28,32,16,20,20,17,30,23,25,18,26,16,21,21,31,19,19,26,26,32,18,33,32,30,25,16,28,23,17,28,23,19,32,21,31,31,16,31,25,26,18,17,17,27,24,27,22,29,18,18,31,20,15,15,26,14,19,21,30,19,29,33,14,33,22,29,20,22,30,19,13,24,26,21,16,21,28,15,29,24,14,24,14,26,29,14,26,17,19,33,26,32,26,33,27,17,27,53,23,15,19,20,24,17,14,30,22,29,33,21,33,28,28,22,23,19,29,27,14,33,31,20,23,17,22,14,26,22,18,21,26,29,33,24,17,19,18,27,28,18,30,15,19,27,31,14,15,14,20,31,15,23,36,31,26,29,32,17,24,26,17,21,16,27,31,19,28,24,18,26,15,17,16,22,15,30,24,17,27,20,19,17,20,21,53,13,24,33,28,22,24,19,14,19,26,33,15,14,29,22,15,27,31,33,33,22,19,30,24,31,15,18,24,22,20,30,14,28,14,29,31,14,32,24,16,28,15,25,29,18,15,24,26,14,27,19,14,19,29,31,31,23,30,30,25,22,29,30,31,21,23,15,25,22,24,28,19,14,31,26,28,29,17,31,15,29,30,18,53,21,23,24,23,28,15,18,15,20,26,21,25,25,28,33,19,14,28,22,23,20,26,15,15,15,27,24,27,18,15,23,21,19,24,30,31,20,24,16,24,22,21,22,25,35,28,14,18,25,33,33,21,20,18,28,20,28,27,20,24,14,26,30,32,21,23,19,31,32,22,32,29,17,23,53,27,20,20,16,30,18,25,26,21,22,14,19,16,24,32,15,23,20,24,19,16,14,14,22,33,18,22,29,33,16,14,33,14,23,33,21,29,31,17,29,25,26,17,27,18,20,17,31,20,22,15,20,29,17,25,16,27,26,32,25,16,27,23,22,22,21,24,15,14,31,29,19,14,15,23,26,23,23,28,27,30,15,25,20,15,20,20,30,18,53,23,31,28,20,29,33,27,28,31,18,26,28,20,14,26,16,19,33,25,24,21,27,27,21,33,21,24,22,29,29,33,19,20,13,40,31,20,15,31,16,29,28,21,31,14,21,20,31,30,15,32,21,33,25,24,15,32,29,27,18,22,24,18,32,31,19,16,21,18,32,23,21,29,24,32,29,22,23,36,30,25,19,20,23,14,16,27,31,14,31,19,17,22,17,27,32,29,33,23,15,25,31,20,26,28,22,25,29,31,30,22,21,14,18,33,27,23,28,21,18,23,31,29,17,26,26,33,24,31,33,32,28,26,32,31,25,31,20,17,24,32,22,27,30,29,29,19,19,22,32,29,20,30,26,19,22,18,18,15,19,23,16,32,35,29,17,18,31,27,19,29,33,29,25,24,14,25,28,25,27,17,21,28,22,32,31,20,32,28,23,31,33,21,28,14,22,14,29,15,53,22,17,18,24,39,27,18,14,20,17,21,20,30,20,15,32,29,19,22,18,31,24,30,27,18,23,24,20,19,23,15,26,27,24,28,33,33,24,16,25,33,29,17,27,26,27,14,26,28,14,26,18,21,29,15,33,33,36,25,16,14,31,33,18,14,33,20,24,28,31,24,29,27,27,28,25,23,14,28,14,14,30,26,22,19,14,32,24,16,24,23,21,32,22,27,19],\"x0\":\" \",\"xaxis\":\"x\",\"y0\":\" \",\"yaxis\":\"y\",\"type\":\"box\"}],                        {\"template\":{\"data\":{\"histogram2dcontour\":[{\"type\":\"histogram2dcontour\",\"colorbar\":{\"outlinewidth\":0,\"ticks\":\"\"},\"colorscale\":[[0.0,\"#0d0887\"],[0.1111111111111111,\"#46039f\"],[0.2222222222222222,\"#7201a8\"],[0.3333333333333333,\"#9c179e\"],[0.4444444444444444,\"#bd3786\"],[0.5555555555555556,\"#d8576b\"],[0.6666666666666666,\"#ed7953\"],[0.7777777777777778,\"#fb9f3a\"],[0.8888888888888888,\"#fdca26\"],[1.0,\"#f0f921\"]]}],\"choropleth\":[{\"type\":\"choropleth\",\"colorbar\":{\"outlinewidth\":0,\"ticks\":\"\"}}],\"histogram2d\":[{\"type\":\"histogram2d\",\"colorbar\":{\"outlinewidth\":0,\"ticks\":\"\"},\"colorscale\":[[0.0,\"#0d0887\"],[0.1111111111111111,\"#46039f\"],[0.2222222222222222,\"#7201a8\"],[0.3333333333333333,\"#9c179e\"],[0.4444444444444444,\"#bd3786\"],[0.5555555555555556,\"#d8576b\"],[0.6666666666666666,\"#ed7953\"],[0.7777777777777778,\"#fb9f3a\"],[0.8888888888888888,\"#fdca26\"],[1.0,\"#f0f921\"]]}],\"heatmap\":[{\"type\":\"heatmap\",\"colorbar\":{\"outlinewidth\":0,\"ticks\":\"\"},\"colorscale\":[[0.0,\"#0d0887\"],[0.1111111111111111,\"#46039f\"],[0.2222222222222222,\"#7201a8\"],[0.3333333333333333,\"#9c179e\"],[0.4444444444444444,\"#bd3786\"],[0.5555555555555556,\"#d8576b\"],[0.6666666666666666,\"#ed7953\"],[0.7777777777777778,\"#fb9f3a\"],[0.8888888888888888,\"#fdca26\"],[1.0,\"#f0f921\"]]}],\"heatmapgl\":[{\"type\":\"heatmapgl\",\"colorbar\":{\"outlinewidth\":0,\"ticks\":\"\"},\"colorscale\":[[0.0,\"#0d0887\"],[0.1111111111111111,\"#46039f\"],[0.2222222222222222,\"#7201a8\"],[0.3333333333333333,\"#9c179e\"],[0.4444444444444444,\"#bd3786\"],[0.5555555555555556,\"#d8576b\"],[0.6666666666666666,\"#ed7953\"],[0.7777777777777778,\"#fb9f3a\"],[0.8888888888888888,\"#fdca26\"],[1.0,\"#f0f921\"]]}],\"contourcarpet\":[{\"type\":\"contourcarpet\",\"colorbar\":{\"outlinewidth\":0,\"ticks\":\"\"}}],\"contour\":[{\"type\":\"contour\",\"colorbar\":{\"outlinewidth\":0,\"ticks\":\"\"},\"colorscale\":[[0.0,\"#0d0887\"],[0.1111111111111111,\"#46039f\"],[0.2222222222222222,\"#7201a8\"],[0.3333333333333333,\"#9c179e\"],[0.4444444444444444,\"#bd3786\"],[0.5555555555555556,\"#d8576b\"],[0.6666666666666666,\"#ed7953\"],[0.7777777777777778,\"#fb9f3a\"],[0.8888888888888888,\"#fdca26\"],[1.0,\"#f0f921\"]]}],\"surface\":[{\"type\":\"surface\",\"colorbar\":{\"outlinewidth\":0,\"ticks\":\"\"},\"colorscale\":[[0.0,\"#0d0887\"],[0.1111111111111111,\"#46039f\"],[0.2222222222222222,\"#7201a8\"],[0.3333333333333333,\"#9c179e\"],[0.4444444444444444,\"#bd3786\"],[0.5555555555555556,\"#d8576b\"],[0.6666666666666666,\"#ed7953\"],[0.7777777777777778,\"#fb9f3a\"],[0.8888888888888888,\"#fdca26\"],[1.0,\"#f0f921\"]]}],\"mesh3d\":[{\"type\":\"mesh3d\",\"colorbar\":{\"outlinewidth\":0,\"ticks\":\"\"}}],\"scatter\":[{\"fillpattern\":{\"fillmode\":\"overlay\",\"size\":10,\"solidity\":0.2},\"type\":\"scatter\"}],\"parcoords\":[{\"type\":\"parcoords\",\"line\":{\"colorbar\":{\"outlinewidth\":0,\"ticks\":\"\"}}}],\"scatterpolargl\":[{\"type\":\"scatterpolargl\",\"marker\":{\"colorbar\":{\"outlinewidth\":0,\"ticks\":\"\"}}}],\"bar\":[{\"error_x\":{\"color\":\"#2a3f5f\"},\"error_y\":{\"color\":\"#2a3f5f\"},\"marker\":{\"line\":{\"color\":\"#E5ECF6\",\"width\":0.5},\"pattern\":{\"fillmode\":\"overlay\",\"size\":10,\"solidity\":0.2}},\"type\":\"bar\"}],\"scattergeo\":[{\"type\":\"scattergeo\",\"marker\":{\"colorbar\":{\"outlinewidth\":0,\"ticks\":\"\"}}}],\"scatterpolar\":[{\"type\":\"scatterpolar\",\"marker\":{\"colorbar\":{\"outlinewidth\":0,\"ticks\":\"\"}}}],\"histogram\":[{\"marker\":{\"pattern\":{\"fillmode\":\"overlay\",\"size\":10,\"solidity\":0.2}},\"type\":\"histogram\"}],\"scattergl\":[{\"type\":\"scattergl\",\"marker\":{\"colorbar\":{\"outlinewidth\":0,\"ticks\":\"\"}}}],\"scatter3d\":[{\"type\":\"scatter3d\",\"line\":{\"colorbar\":{\"outlinewidth\":0,\"ticks\":\"\"}},\"marker\":{\"colorbar\":{\"outlinewidth\":0,\"ticks\":\"\"}}}],\"scattermapbox\":[{\"type\":\"scattermapbox\",\"marker\":{\"colorbar\":{\"outlinewidth\":0,\"ticks\":\"\"}}}],\"scatterternary\":[{\"type\":\"scatterternary\",\"marker\":{\"colorbar\":{\"outlinewidth\":0,\"ticks\":\"\"}}}],\"scattercarpet\":[{\"type\":\"scattercarpet\",\"marker\":{\"colorbar\":{\"outlinewidth\":0,\"ticks\":\"\"}}}],\"carpet\":[{\"aaxis\":{\"endlinecolor\":\"#2a3f5f\",\"gridcolor\":\"white\",\"linecolor\":\"white\",\"minorgridcolor\":\"white\",\"startlinecolor\":\"#2a3f5f\"},\"baxis\":{\"endlinecolor\":\"#2a3f5f\",\"gridcolor\":\"white\",\"linecolor\":\"white\",\"minorgridcolor\":\"white\",\"startlinecolor\":\"#2a3f5f\"},\"type\":\"carpet\"}],\"table\":[{\"cells\":{\"fill\":{\"color\":\"#EBF0F8\"},\"line\":{\"color\":\"white\"}},\"header\":{\"fill\":{\"color\":\"#C8D4E3\"},\"line\":{\"color\":\"white\"}},\"type\":\"table\"}],\"barpolar\":[{\"marker\":{\"line\":{\"color\":\"#E5ECF6\",\"width\":0.5},\"pattern\":{\"fillmode\":\"overlay\",\"size\":10,\"solidity\":0.2}},\"type\":\"barpolar\"}],\"pie\":[{\"automargin\":true,\"type\":\"pie\"}]},\"layout\":{\"autotypenumbers\":\"strict\",\"colorway\":[\"#636efa\",\"#EF553B\",\"#00cc96\",\"#ab63fa\",\"#FFA15A\",\"#19d3f3\",\"#FF6692\",\"#B6E880\",\"#FF97FF\",\"#FECB52\"],\"font\":{\"color\":\"#2a3f5f\"},\"hovermode\":\"closest\",\"hoverlabel\":{\"align\":\"left\"},\"paper_bgcolor\":\"white\",\"plot_bgcolor\":\"#E5ECF6\",\"polar\":{\"bgcolor\":\"#E5ECF6\",\"angularaxis\":{\"gridcolor\":\"white\",\"linecolor\":\"white\",\"ticks\":\"\"},\"radialaxis\":{\"gridcolor\":\"white\",\"linecolor\":\"white\",\"ticks\":\"\"}},\"ternary\":{\"bgcolor\":\"#E5ECF6\",\"aaxis\":{\"gridcolor\":\"white\",\"linecolor\":\"white\",\"ticks\":\"\"},\"baxis\":{\"gridcolor\":\"white\",\"linecolor\":\"white\",\"ticks\":\"\"},\"caxis\":{\"gridcolor\":\"white\",\"linecolor\":\"white\",\"ticks\":\"\"}},\"coloraxis\":{\"colorbar\":{\"outlinewidth\":0,\"ticks\":\"\"}},\"colorscale\":{\"sequential\":[[0.0,\"#0d0887\"],[0.1111111111111111,\"#46039f\"],[0.2222222222222222,\"#7201a8\"],[0.3333333333333333,\"#9c179e\"],[0.4444444444444444,\"#bd3786\"],[0.5555555555555556,\"#d8576b\"],[0.6666666666666666,\"#ed7953\"],[0.7777777777777778,\"#fb9f3a\"],[0.8888888888888888,\"#fdca26\"],[1.0,\"#f0f921\"]],\"sequentialminus\":[[0.0,\"#0d0887\"],[0.1111111111111111,\"#46039f\"],[0.2222222222222222,\"#7201a8\"],[0.3333333333333333,\"#9c179e\"],[0.4444444444444444,\"#bd3786\"],[0.5555555555555556,\"#d8576b\"],[0.6666666666666666,\"#ed7953\"],[0.7777777777777778,\"#fb9f3a\"],[0.8888888888888888,\"#fdca26\"],[1.0,\"#f0f921\"]],\"diverging\":[[0,\"#8e0152\"],[0.1,\"#c51b7d\"],[0.2,\"#de77ae\"],[0.3,\"#f1b6da\"],[0.4,\"#fde0ef\"],[0.5,\"#f7f7f7\"],[0.6,\"#e6f5d0\"],[0.7,\"#b8e186\"],[0.8,\"#7fbc41\"],[0.9,\"#4d9221\"],[1,\"#276419\"]]},\"xaxis\":{\"gridcolor\":\"white\",\"linecolor\":\"white\",\"ticks\":\"\",\"title\":{\"standoff\":15},\"zerolinecolor\":\"white\",\"automargin\":true,\"zerolinewidth\":2},\"yaxis\":{\"gridcolor\":\"white\",\"linecolor\":\"white\",\"ticks\":\"\",\"title\":{\"standoff\":15},\"zerolinecolor\":\"white\",\"automargin\":true,\"zerolinewidth\":2},\"scene\":{\"xaxis\":{\"backgroundcolor\":\"#E5ECF6\",\"gridcolor\":\"white\",\"linecolor\":\"white\",\"showbackground\":true,\"ticks\":\"\",\"zerolinecolor\":\"white\",\"gridwidth\":2},\"yaxis\":{\"backgroundcolor\":\"#E5ECF6\",\"gridcolor\":\"white\",\"linecolor\":\"white\",\"showbackground\":true,\"ticks\":\"\",\"zerolinecolor\":\"white\",\"gridwidth\":2},\"zaxis\":{\"backgroundcolor\":\"#E5ECF6\",\"gridcolor\":\"white\",\"linecolor\":\"white\",\"showbackground\":true,\"ticks\":\"\",\"zerolinecolor\":\"white\",\"gridwidth\":2}},\"shapedefaults\":{\"line\":{\"color\":\"#2a3f5f\"}},\"annotationdefaults\":{\"arrowcolor\":\"#2a3f5f\",\"arrowhead\":0,\"arrowwidth\":1},\"geo\":{\"bgcolor\":\"white\",\"landcolor\":\"#E5ECF6\",\"subunitcolor\":\"white\",\"showland\":true,\"showlakes\":true,\"lakecolor\":\"white\"},\"title\":{\"x\":0.05},\"mapbox\":{\"style\":\"light\"}}},\"xaxis\":{\"anchor\":\"y\",\"domain\":[0.0,1.0],\"title\":{\"text\":\"Age\"}},\"yaxis\":{\"anchor\":\"x\",\"domain\":[0.0,1.0]},\"legend\":{\"tracegroupgap\":0},\"margin\":{\"t\":60},\"boxmode\":\"group\"},                        {\"responsive\": true}                    ).then(function(){\n",
              "                            \n",
              "var gd = document.getElementById('2c667565-a4de-41aa-9859-365643124c0b');\n",
              "var x = new MutationObserver(function (mutations, observer) {{\n",
              "        var display = window.getComputedStyle(gd).display;\n",
              "        if (!display || display === 'none') {{\n",
              "            console.log([gd, 'removed!']);\n",
              "            Plotly.purge(gd);\n",
              "            observer.disconnect();\n",
              "        }}\n",
              "}});\n",
              "\n",
              "// Listen for the removal of the full notebook cells\n",
              "var notebookContainer = gd.closest('#notebook-container');\n",
              "if (notebookContainer) {{\n",
              "    x.observe(notebookContainer, {childList: true});\n",
              "}}\n",
              "\n",
              "// Listen for the clearing of the current output cell\n",
              "var outputEl = gd.closest('.output');\n",
              "if (outputEl) {{\n",
              "    x.observe(outputEl, {childList: true});\n",
              "}}\n",
              "\n",
              "                        })                };                            </script>        </div>\n",
              "</body>\n",
              "</html>"
            ]
          },
          "metadata": {}
        }
      ]
    },
    {
      "cell_type": "markdown",
      "source": [
        "Diperoleh bahwa rata-rata umur customer adalah 24 tahun dan mediannya juga 24 tahun."
      ],
      "metadata": {
        "id": "Rd8w_uhDeSNb"
      }
    },
    {
      "cell_type": "markdown",
      "source": [
        "#### EDA Customer Profiling 3:\n",
        "Bagaimana hubungan antara gender dan umur customer?"
      ],
      "metadata": {
        "id": "cm-R9TyRfGcm"
      }
    },
    {
      "cell_type": "code",
      "source": [
        "d = sns.catplot(x=\"age\", hue='gender', kind=\"count\", palette=\"flare\", data=df_cust_prep)\n",
        "d.fig.set_size_inches(20,8)\n",
        "d.set_xticklabels(rotation=90)\n",
        "plt.xlabel(\"Age\")\n",
        "plt.ylabel(\"Count\")\n",
        "plt.show()"
      ],
      "metadata": {
        "colab": {
          "base_uri": "https://localhost:8080/"
        },
        "id": "vIstvxEfSGGi",
        "outputId": "e9abe19b-d739-4e7e-fb28-e608e9aed96b"
      },
      "execution_count": null,
      "outputs": [
        {
          "output_type": "display_data",
          "data": {
            "text/plain": [
              "<Figure size 2000x800 with 1 Axes>"
            ],
            "image/png": "[encoded data removed]"
          },
          "metadata": {}
        }
      ]
    },
    {
      "cell_type": "markdown",
      "source": [
        "Masih didominasi oleh rentang umur 14 tahun hingga umur 33, namun dapat dilihat bahwa customer male customer yang melakukan pemesanan ke vendor paling banyak berumur 25 tahun, sedangkan customer 'female' yang melakukan pemesanan ke vendor paling banyak berumur 21 dan 31 tahun."
      ],
      "metadata": {
        "id": "ChTQQl47fRVq"
      }
    },
    {
      "cell_type": "markdown",
      "source": [
        "### Transaction Analysis"
      ],
      "metadata": {
        "id": "Bca5T6xDgsAQ"
      }
    },
    {
      "cell_type": "markdown",
      "source": [
        "Transaction Analysis:\n",
        "1. Kapan penjualan tertinggi restoran terjadi berdasarkan grand total?\n",
        "2. Kapan penjualan tertinggi restoran terjadi berdasarkan jumlah item?\n",
        "3. Bagaimana korelasi antara jumlah item dan grand total?\n",
        "4. Bagaimana hubungan antara gender customer dan grand total?\n",
        "5. Bagaimana hubungan antara umur customer dan grand total?\n",
        "6. Bagaimana proporsi dari payment mode?\n",
        "7. Bagaimana proporsi dari driver rating?\n",
        "8. Bagaimana proporsi dari nomor lokasi?\n"
      ],
      "metadata": {
        "id": "v2fyBHxNhvIS"
      }
    },
    {
      "cell_type": "markdown",
      "source": [
        "#### EDA Transaction Analysis 1:\n",
        "Kapan penjualan tertinggi restoran terjadi berdasarkan grand total?"
      ],
      "metadata": {
        "id": "0Lf7x8jWpRCS"
      }
    },
    {
      "cell_type": "markdown",
      "source": [
        "Dibutuhkan grouping berdasarkan kolom 'created_at_date' dengan menjumlahkan value 'grand_total' dan 'item_count' (sekalian dapat digunakan hingga EDA Transaction Analysis 3)."
      ],
      "metadata": {
        "id": "kEe27w2-lrEQ"
      }
    },
    {
      "cell_type": "code",
      "source": [
        "sliced_data = df_ord_prep.groupby(by=['created_at_date'], dropna=False).sum()[['grand_total', 'item_count']].reset_index()\n",
        "sliced_data.head()"
      ],
      "metadata": {
        "colab": {
          "base_uri": "https://localhost:8080/"
        },
        "id": "v8ZjBIgQiLdK",
        "outputId": "69a0e33d-f51b-4070-daa0-b18888554ef3"
      },
      "execution_count": null,
      "outputs": [
        {
          "output_type": "execute_result",
          "data": {
            "text/plain": [
              "  created_at_date  grand_total  item_count\n",
              "0      2019-06-01        197.2          30\n",
              "1      2019-06-02        258.3          47\n",
              "2      2019-06-03        101.4          17\n",
              "3      2019-06-04        206.1          39\n",
              "4      2019-06-05        463.6          66"
            ],
            "text/html": [
              "\n",
              "  <div id=\"df-2fa884ee-5de1-4217-b86f-bb7cc00a01fc\">\n",
              "    <div class=\"colab-df-container\">\n",
              "      <div>\n",
              "<style scoped>\n",
              "    .dataframe tbody tr th:only-of-type {\n",
              "        vertical-align: middle;\n",
              "    }\n",
              "\n",
              "    .dataframe tbody tr th {\n",
              "        vertical-align: top;\n",
              "    }\n",
              "\n",
              "    .dataframe thead th {\n",
              "        text-align: right;\n",
              "    }\n",
              "</style>\n",
              "<table border=\"1\" class=\"dataframe\">\n",
              "  <thead>\n",
              "    <tr style=\"text-align: right;\">\n",
              "      <th></th>\n",
              "      <th>created_at_date</th>\n",
              "      <th>grand_total</th>\n",
              "      <th>item_count</th>\n",
              "    </tr>\n",
              "  </thead>\n",
              "  <tbody>\n",
              "    <tr>\n",
              "      <th>0</th>\n",
              "      <td>2019-06-01</td>\n",
              "      <td>197.2</td>\n",
              "      <td>30</td>\n",
              "    </tr>\n",
              "    <tr>\n",
              "      <th>1</th>\n",
              "      <td>2019-06-02</td>\n",
              "      <td>258.3</td>\n",
              "      <td>47</td>\n",
              "    </tr>\n",
              "    <tr>\n",
              "      <th>2</th>\n",
              "      <td>2019-06-03</td>\n",
              "      <td>101.4</td>\n",
              "      <td>17</td>\n",
              "    </tr>\n",
              "    <tr>\n",
              "      <th>3</th>\n",
              "      <td>2019-06-04</td>\n",
              "      <td>206.1</td>\n",
              "      <td>39</td>\n",
              "    </tr>\n",
              "    <tr>\n",
              "      <th>4</th>\n",
              "      <td>2019-06-05</td>\n",
              "      <td>463.6</td>\n",
              "      <td>66</td>\n",
              "    </tr>\n",
              "  </tbody>\n",
              "</table>\n",
              "</div>\n",
              "      <button class=\"colab-df-convert\" onclick=\"convertToInteractive('df-2fa884ee-5de1-4217-b86f-bb7cc00a01fc')\"\n",
              "              title=\"Convert this dataframe to an interactive table.\"\n",
              "              style=\"display:none;\">\n",
              "        \n",
              "  <svg xmlns=\"http://www.w3.org/2000/svg\" height=\"24px\"viewBox=\"0 0 24 24\"\n",
              "       width=\"24px\">\n",
              "    <path d=\"M0 0h24v24H0V0z\" fill=\"none\"/>\n",
              "    <path d=\"M18.56 5.44l.94 2.06.94-2.06 2.06-.94-2.06-.94-.94-2.06-.94 2.06-2.06.94zm-11 1L8.5 8.5l.94-2.06 2.06-.94-2.06-.94L8.5 2.5l-.94 2.06-2.06.94zm10 10l.94 2.06.94-2.06 2.06-.94-2.06-.94-.94-2.06-.94 2.06-2.06.94z\"/><path d=\"M17.41 7.96l-1.37-1.37c-.4-.4-.92-.59-1.43-.59-.52 0-1.04.2-1.43.59L10.3 9.45l-7.72 7.72c-.78.78-.78 2.05 0 2.83L4 21.41c.39.39.9.59 1.41.59.51 0 1.02-.2 1.41-.59l7.78-7.78 2.81-2.81c.8-.78.8-2.07 0-2.86zM5.41 20L4 18.59l7.72-7.72 1.47 1.35L5.41 20z\"/>\n",
              "  </svg>\n",
              "      </button>\n",
              "      \n",
              "  <style>\n",
              "    .colab-df-container {\n",
              "      display:flex;\n",
              "      flex-wrap:wrap;\n",
              "      gap: 12px;\n",
              "    }\n",
              "\n",
              "    .colab-df-convert {\n",
              "      background-color: #E8F0FE;\n",
              "      border: none;\n",
              "      border-radius: 50%;\n",
              "      cursor: pointer;\n",
              "      display: none;\n",
              "      fill: #1967D2;\n",
              "      height: 32px;\n",
              "      padding: 0 0 0 0;\n",
              "      width: 32px;\n",
              "    }\n",
              "\n",
              "    .colab-df-convert:hover {\n",
              "      background-color: #E2EBFA;\n",
              "      box-shadow: 0px 1px 2px rgba(60, 64, 67, 0.3), 0px 1px 3px 1px rgba(60, 64, 67, 0.15);\n",
              "      fill: #174EA6;\n",
              "    }\n",
              "\n",
              "    [theme=dark] .colab-df-convert {\n",
              "      background-color: #3B4455;\n",
              "      fill: #D2E3FC;\n",
              "    }\n",
              "\n",
              "    [theme=dark] .colab-df-convert:hover {\n",
              "      background-color: #434B5C;\n",
              "      box-shadow: 0px 1px 3px 1px rgba(0, 0, 0, 0.15);\n",
              "      filter: drop-shadow(0px 1px 2px rgba(0, 0, 0, 0.3));\n",
              "      fill: #FFFFFF;\n",
              "    }\n",
              "  </style>\n",
              "\n",
              "      <script>\n",
              "        const buttonEl =\n",
              "          document.querySelector('#df-2fa884ee-5de1-4217-b86f-bb7cc00a01fc button.colab-df-convert');\n",
              "        buttonEl.style.display =\n",
              "          google.colab.kernel.accessAllowed ? 'block' : 'none';\n",
              "\n",
              "        async function convertToInteractive(key) {\n",
              "          const element = document.querySelector('#df-2fa884ee-5de1-4217-b86f-bb7cc00a01fc');\n",
              "          const dataTable =\n",
              "            await google.colab.kernel.invokeFunction('convertToInteractive',\n",
              "                                                     [key], {});\n",
              "          if (!dataTable) return;\n",
              "\n",
              "          const docLinkHtml = 'Like what you see? Visit the ' +\n",
              "            '<a target=\"_blank\" href=https://colab.research.google.com/notebooks/data_table.ipynb>data table notebook</a>'\n",
              "            + ' to learn more about interactive tables.';\n",
              "          element.innerHTML = '';\n",
              "          dataTable['output_type'] = 'display_data';\n",
              "          await google.colab.output.renderOutput(dataTable, element);\n",
              "          const docLink = document.createElement('div');\n",
              "          docLink.innerHTML = docLinkHtml;\n",
              "          element.appendChild(docLink);\n",
              "        }\n",
              "      </script>\n",
              "    </div>\n",
              "  </div>\n",
              "  "
            ]
          },
          "metadata": {},
          "execution_count": 112
        }
      ]
    },
    {
      "cell_type": "code",
      "source": [
        "e = px.line(sliced_data, x=\"created_at_date\", y=\"grand_total\", labels=dict(created_at_date=\"Date\", grand_total=\"Grand Total\"))\n",
        "e.show()"
      ],
      "metadata": {
        "colab": {
          "base_uri": "https://localhost:8080/"
        },
        "id": "Az-hyvvvoaJI",
        "outputId": "20f7af29-fba2-49ed-e240-5865291ac32e"
      },
      "execution_count": null,
      "outputs": [
        {
          "output_type": "display_data",
          "data": {
            "text/html": [
              "<html>\n",
              "<head><meta charset=\"utf-8\" /></head>\n",
              "<body>\n",
              "    <div>            <script src=\"https://cdnjs.cloudflare.com/ajax/libs/mathjax/2.7.5/MathJax.js?config=TeX-AMS-MML_SVG\"></script><script type=\"text/javascript\">if (window.MathJax && window.MathJax.Hub && window.MathJax.Hub.Config) {window.MathJax.Hub.Config({SVG: {font: \"STIX-Web\"}});}</script>                <script type=\"text/javascript\">window.PlotlyConfig = {MathJaxConfig: 'local'};</script>\n",
              "        <script src=\"https://cdn.plot.ly/plotly-2.18.2.min.js\"></script>                <div id=\"329b2a7a-2c85-4c04-a404-f363838e060c\" class=\"plotly-graph-div\" style=\"height:525px; width:100%;\"></div>            <script type=\"text/javascript\">                                    window.PLOTLYENV=window.PLOTLYENV || {};                                    if (document.getElementById(\"329b2a7a-2c85-4c04-a404-f363838e060c\")) {                    Plotly.newPlot(                        \"329b2a7a-2c85-4c04-a404-f363838e060c\",                        [{\"hovertemplate\":\"Date=%{x}<br>Grand Total=%{y}<extra></extra>\",\"legendgroup\":\"\",\"line\":{\"color\":\"#636efa\",\"dash\":\"solid\"},\"marker\":{\"symbol\":\"circle\"},\"mode\":\"lines\",\"name\":\"\",\"orientation\":\"v\",\"showlegend\":false,\"x\":[\"2019-06-01\",\"2019-06-02\",\"2019-06-03\",\"2019-06-04\",\"2019-06-05\",\"2019-06-06\",\"2019-06-07\",\"2019-06-08\",\"2019-06-09\",\"2019-06-10\",\"2019-06-11\",\"2019-06-12\",\"2019-06-13\",\"2019-06-14\",\"2019-06-15\",\"2019-06-16\",\"2019-06-17\",\"2019-06-18\",\"2019-06-19\",\"2019-06-20\",\"2019-06-21\",\"2019-06-22\",\"2019-06-23\",\"2019-06-24\",\"2019-06-25\",\"2019-06-26\",\"2019-06-27\",\"2019-06-28\",\"2019-06-29\",\"2019-06-30\",\"2019-07-01\",\"2019-07-02\",\"2019-07-03\",\"2019-07-04\",\"2019-07-05\",\"2019-07-06\",\"2019-07-07\",\"2019-07-08\",\"2019-07-09\",\"2019-07-10\",\"2019-07-11\",\"2019-07-12\",\"2019-07-13\",\"2019-07-14\",\"2019-07-15\",\"2019-07-16\",\"2019-07-17\",\"2019-07-18\",\"2019-07-19\",\"2019-07-20\",\"2019-07-21\",\"2019-07-22\",\"2019-07-23\",\"2019-07-24\",\"2019-07-25\",\"2019-07-26\",\"2019-07-27\",\"2019-07-28\",\"2019-07-29\",\"2019-07-30\",\"2019-07-31\",\"2019-08-01\",\"2019-08-02\",\"2019-08-03\",\"2019-08-04\",\"2019-08-05\",\"2019-08-06\",\"2019-08-07\",\"2019-08-08\",\"2019-08-09\",\"2019-08-10\",\"2019-08-11\",\"2019-08-12\",\"2019-08-13\",\"2019-08-14\",\"2019-08-15\",\"2019-08-16\",\"2019-08-17\",\"2019-08-18\",\"2019-08-19\",\"2019-08-20\",\"2019-08-21\",\"2019-08-22\",\"2019-08-23\",\"2019-08-24\",\"2019-08-25\",\"2019-08-26\",\"2019-08-27\",\"2019-08-28\",\"2019-08-29\",\"2019-08-30\",\"2019-08-31\",\"2019-09-01\",\"2019-09-02\",\"2019-09-03\",\"2019-09-04\",\"2019-09-05\",\"2019-09-06\",\"2019-09-07\",\"2019-09-08\",\"2019-09-09\",\"2019-09-10\",\"2019-09-11\",\"2019-09-12\",\"2019-09-13\",\"2019-09-14\",\"2019-09-15\",\"2019-09-16\",\"2019-09-17\",\"2019-09-18\",\"2019-09-22\",\"2019-09-23\",\"2019-09-24\",\"2019-09-25\",\"2019-09-26\",\"2019-09-27\",\"2019-09-28\",\"2019-09-29\",\"2019-09-30\",\"2019-10-01\",\"2019-10-02\",\"2019-10-03\",\"2019-10-04\",\"2019-10-05\",\"2019-10-06\",\"2019-10-07\",\"2019-10-08\",\"2019-10-09\",\"2019-10-10\",\"2019-10-11\",\"2019-10-12\",\"2019-10-13\",\"2019-10-14\",\"2019-10-15\",\"2019-10-16\",\"2019-10-17\",\"2019-10-18\",\"2019-10-19\",\"2019-10-20\",\"2019-10-21\",\"2019-10-22\",\"2019-10-23\",\"2019-10-24\",\"2019-10-25\",\"2019-10-26\",\"2019-10-27\",\"2019-10-28\",\"2019-10-29\",\"2019-10-30\",\"2019-10-31\",\"2019-11-01\",\"2019-11-02\",\"2019-11-03\",\"2019-11-04\",\"2019-11-05\",\"2019-11-06\",\"2019-11-07\",\"2019-11-08\",\"2019-11-09\",\"2019-11-10\",\"2019-11-11\",\"2019-11-12\",\"2019-11-13\",\"2019-11-14\",\"2019-11-15\",\"2019-11-16\",\"2019-11-17\",\"2019-11-18\",\"2019-11-19\",\"2019-11-20\",\"2019-11-21\",\"2019-11-22\",\"2019-11-23\",\"2019-11-24\",\"2019-11-25\",\"2019-11-26\",\"2019-11-27\",\"2019-11-28\",\"2019-11-29\",\"2019-11-30\",\"2019-12-01\",\"2019-12-02\",\"2019-12-03\",\"2019-12-04\",\"2019-12-05\",\"2019-12-06\",\"2019-12-07\",\"2019-12-08\",\"2019-12-09\",\"2019-12-10\",\"2019-12-11\",\"2019-12-12\",\"2019-12-13\",\"2019-12-14\",\"2019-12-15\",\"2019-12-16\",\"2019-12-17\",\"2019-12-18\",\"2019-12-19\",\"2019-12-20\",\"2019-12-21\",\"2019-12-22\",\"2019-12-23\",\"2019-12-24\",\"2019-12-25\",\"2019-12-26\",\"2019-12-27\",\"2019-12-28\",\"2019-12-29\",\"2019-12-30\",\"2019-12-31\",\"2020-01-01\",\"2020-01-02\",\"2020-01-03\",\"2020-01-04\",\"2020-01-05\",\"2020-01-06\",\"2020-01-07\",\"2020-01-08\",\"2020-01-09\",\"2020-01-10\",\"2020-01-11\",\"2020-01-12\",\"2020-01-13\",\"2020-01-14\",\"2020-01-15\",\"2020-01-16\",\"2020-01-17\",\"2020-01-18\",\"2020-01-19\",\"2020-01-20\",\"2020-01-21\",\"2020-01-22\",\"2020-01-23\",\"2020-01-24\",\"2020-01-25\",\"2020-01-26\",\"2020-01-27\",\"2020-01-28\",\"2020-01-29\",\"2020-01-30\",\"2020-01-31\",\"2020-02-01\",\"2020-02-02\",\"2020-02-03\",\"2020-02-04\",\"2020-02-05\",\"2020-02-06\",\"2020-02-07\",\"2020-02-08\",\"2020-02-09\",\"2020-02-10\",\"2020-02-11\",\"2020-02-12\",\"2020-02-13\",\"2020-02-14\",\"2020-02-15\",\"2020-02-16\",\"2020-02-17\",\"2020-02-18\",\"2020-02-19\",\"2020-02-20\",\"2020-02-21\",\"2020-02-22\",\"2020-02-23\",\"2020-02-24\",\"2020-02-25\",\"2020-02-26\",\"2020-02-27\",\"2020-02-28\",\"2020-02-29\"],\"xaxis\":\"x\",\"y\":[197.2,258.3,101.39999999999999,206.1,463.6,190.5,187.2,342.4,536.0,756.5,446.3,537.4,621.0,509.09999999999997,375.5,356.1,411.5,366.2,292.9,490.0,355.2,447.8,357.1,380.6,446.9,651.3,574.9,458.8,394.0,433.0,308.0,477.2,481.1,454.3,421.8,424.0,563.2,471.1,414.9,450.6,430.7,484.6,501.2,355.0,453.8,371.8,472.9,288.1,362.7,333.0,247.4,376.0,314.40000000000003,276.1,737.9,114.39999999999999,227.6,384.7,447.9,344.9,457.2,392.59999999999997,238.5,422.8,323.6,349.9,223.8,465.4,409.4,306.6,366.09999999999997,315.7,102.5,174.5,208.1,331.1,257.5,259.5,475.09999999999997,500.59999999999997,398.5,246.1,503.7,393.4,435.5,525.5,472.7,406.8,308.2,409.4,338.2,501.1,345.59999999999997,364.2,426.1,388.2,392.2,231.8,397.2,455.4,380.0,397.5,545.4,715.3,350.1,362.9,318.8,388.6,356.6,442.5,22.299999999999997,38.2,54.2,19.0,74.1,81.3,17.6,47.5,7.3,2988.9,844.0,58.400000000000006,52.9,33.1,59.0,70.6,79.8,87.30000000000001,3847.6,1399.2,133.1,614.0,431.3,251.2,939.8,687.6,419.3,474.2,352.9,473.9,478.7,768.5,704.1,543.5,455.8,513.2,515.4,635.2,523.0,502.9,676.9,491.4,538.9,500.7,547.3,820.8,720.9,551.5,549.0,525.7,622.7,437.59999999999997,904.5,557.2,613.1,914.0,690.1,503.1,720.6,584.3,546.8000000000001,514.9,920.6,764.2,913.6,814.1,420.9,278.1,694.0,706.9,715.6,635.5,549.8,401.1,788.1999999999999,826.6,852.2,708.6,758.2,526.5,799.8,612.6,725.9,560.5,630.8,700.3,939.0,713.7,431.7,636.1,557.5,687.7,901.7,634.3,797.9,897.4,750.5,577.0,899.8,565.5,692.0,791.7,617.6,702.7,337.6,729.3,555.9,532.9,567.7,980.6999999999999,506.0,180.4,175.2,324.3,400.2,423.2,795.4,482.2,620.3,511.3,485.6,699.9,768.9,796.7,721.9,1130.2,673.1,964.2,949.8000000000001,933.0,806.5,844.6,595.7,1164.8,944.0,708.5,1134.1,640.7,688.4,937.0,895.8,1111.3,880.2,952.6,774.4,679.8,654.3,901.2,1045.4,881.2,646.4,940.3,794.8,614.9,621.8,723.8,847.0,829.6,1140.3,872.1,672.6],\"yaxis\":\"y\",\"type\":\"scatter\"}],                        {\"template\":{\"data\":{\"histogram2dcontour\":[{\"type\":\"histogram2dcontour\",\"colorbar\":{\"outlinewidth\":0,\"ticks\":\"\"},\"colorscale\":[[0.0,\"#0d0887\"],[0.1111111111111111,\"#46039f\"],[0.2222222222222222,\"#7201a8\"],[0.3333333333333333,\"#9c179e\"],[0.4444444444444444,\"#bd3786\"],[0.5555555555555556,\"#d8576b\"],[0.6666666666666666,\"#ed7953\"],[0.7777777777777778,\"#fb9f3a\"],[0.8888888888888888,\"#fdca26\"],[1.0,\"#f0f921\"]]}],\"choropleth\":[{\"type\":\"choropleth\",\"colorbar\":{\"outlinewidth\":0,\"ticks\":\"\"}}],\"histogram2d\":[{\"type\":\"histogram2d\",\"colorbar\":{\"outlinewidth\":0,\"ticks\":\"\"},\"colorscale\":[[0.0,\"#0d0887\"],[0.1111111111111111,\"#46039f\"],[0.2222222222222222,\"#7201a8\"],[0.3333333333333333,\"#9c179e\"],[0.4444444444444444,\"#bd3786\"],[0.5555555555555556,\"#d8576b\"],[0.6666666666666666,\"#ed7953\"],[0.7777777777777778,\"#fb9f3a\"],[0.8888888888888888,\"#fdca26\"],[1.0,\"#f0f921\"]]}],\"heatmap\":[{\"type\":\"heatmap\",\"colorbar\":{\"outlinewidth\":0,\"ticks\":\"\"},\"colorscale\":[[0.0,\"#0d0887\"],[0.1111111111111111,\"#46039f\"],[0.2222222222222222,\"#7201a8\"],[0.3333333333333333,\"#9c179e\"],[0.4444444444444444,\"#bd3786\"],[0.5555555555555556,\"#d8576b\"],[0.6666666666666666,\"#ed7953\"],[0.7777777777777778,\"#fb9f3a\"],[0.8888888888888888,\"#fdca26\"],[1.0,\"#f0f921\"]]}],\"heatmapgl\":[{\"type\":\"heatmapgl\",\"colorbar\":{\"outlinewidth\":0,\"ticks\":\"\"},\"colorscale\":[[0.0,\"#0d0887\"],[0.1111111111111111,\"#46039f\"],[0.2222222222222222,\"#7201a8\"],[0.3333333333333333,\"#9c179e\"],[0.4444444444444444,\"#bd3786\"],[0.5555555555555556,\"#d8576b\"],[0.6666666666666666,\"#ed7953\"],[0.7777777777777778,\"#fb9f3a\"],[0.8888888888888888,\"#fdca26\"],[1.0,\"#f0f921\"]]}],\"contourcarpet\":[{\"type\":\"contourcarpet\",\"colorbar\":{\"outlinewidth\":0,\"ticks\":\"\"}}],\"contour\":[{\"type\":\"contour\",\"colorbar\":{\"outlinewidth\":0,\"ticks\":\"\"},\"colorscale\":[[0.0,\"#0d0887\"],[0.1111111111111111,\"#46039f\"],[0.2222222222222222,\"#7201a8\"],[0.3333333333333333,\"#9c179e\"],[0.4444444444444444,\"#bd3786\"],[0.5555555555555556,\"#d8576b\"],[0.6666666666666666,\"#ed7953\"],[0.7777777777777778,\"#fb9f3a\"],[0.8888888888888888,\"#fdca26\"],[1.0,\"#f0f921\"]]}],\"surface\":[{\"type\":\"surface\",\"colorbar\":{\"outlinewidth\":0,\"ticks\":\"\"},\"colorscale\":[[0.0,\"#0d0887\"],[0.1111111111111111,\"#46039f\"],[0.2222222222222222,\"#7201a8\"],[0.3333333333333333,\"#9c179e\"],[0.4444444444444444,\"#bd3786\"],[0.5555555555555556,\"#d8576b\"],[0.6666666666666666,\"#ed7953\"],[0.7777777777777778,\"#fb9f3a\"],[0.8888888888888888,\"#fdca26\"],[1.0,\"#f0f921\"]]}],\"mesh3d\":[{\"type\":\"mesh3d\",\"colorbar\":{\"outlinewidth\":0,\"ticks\":\"\"}}],\"scatter\":[{\"fillpattern\":{\"fillmode\":\"overlay\",\"size\":10,\"solidity\":0.2},\"type\":\"scatter\"}],\"parcoords\":[{\"type\":\"parcoords\",\"line\":{\"colorbar\":{\"outlinewidth\":0,\"ticks\":\"\"}}}],\"scatterpolargl\":[{\"type\":\"scatterpolargl\",\"marker\":{\"colorbar\":{\"outlinewidth\":0,\"ticks\":\"\"}}}],\"bar\":[{\"error_x\":{\"color\":\"#2a3f5f\"},\"error_y\":{\"color\":\"#2a3f5f\"},\"marker\":{\"line\":{\"color\":\"#E5ECF6\",\"width\":0.5},\"pattern\":{\"fillmode\":\"overlay\",\"size\":10,\"solidity\":0.2}},\"type\":\"bar\"}],\"scattergeo\":[{\"type\":\"scattergeo\",\"marker\":{\"colorbar\":{\"outlinewidth\":0,\"ticks\":\"\"}}}],\"scatterpolar\":[{\"type\":\"scatterpolar\",\"marker\":{\"colorbar\":{\"outlinewidth\":0,\"ticks\":\"\"}}}],\"histogram\":[{\"marker\":{\"pattern\":{\"fillmode\":\"overlay\",\"size\":10,\"solidity\":0.2}},\"type\":\"histogram\"}],\"scattergl\":[{\"type\":\"scattergl\",\"marker\":{\"colorbar\":{\"outlinewidth\":0,\"ticks\":\"\"}}}],\"scatter3d\":[{\"type\":\"scatter3d\",\"line\":{\"colorbar\":{\"outlinewidth\":0,\"ticks\":\"\"}},\"marker\":{\"colorbar\":{\"outlinewidth\":0,\"ticks\":\"\"}}}],\"scattermapbox\":[{\"type\":\"scattermapbox\",\"marker\":{\"colorbar\":{\"outlinewidth\":0,\"ticks\":\"\"}}}],\"scatterternary\":[{\"type\":\"scatterternary\",\"marker\":{\"colorbar\":{\"outlinewidth\":0,\"ticks\":\"\"}}}],\"scattercarpet\":[{\"type\":\"scattercarpet\",\"marker\":{\"colorbar\":{\"outlinewidth\":0,\"ticks\":\"\"}}}],\"carpet\":[{\"aaxis\":{\"endlinecolor\":\"#2a3f5f\",\"gridcolor\":\"white\",\"linecolor\":\"white\",\"minorgridcolor\":\"white\",\"startlinecolor\":\"#2a3f5f\"},\"baxis\":{\"endlinecolor\":\"#2a3f5f\",\"gridcolor\":\"white\",\"linecolor\":\"white\",\"minorgridcolor\":\"white\",\"startlinecolor\":\"#2a3f5f\"},\"type\":\"carpet\"}],\"table\":[{\"cells\":{\"fill\":{\"color\":\"#EBF0F8\"},\"line\":{\"color\":\"white\"}},\"header\":{\"fill\":{\"color\":\"#C8D4E3\"},\"line\":{\"color\":\"white\"}},\"type\":\"table\"}],\"barpolar\":[{\"marker\":{\"line\":{\"color\":\"#E5ECF6\",\"width\":0.5},\"pattern\":{\"fillmode\":\"overlay\",\"size\":10,\"solidity\":0.2}},\"type\":\"barpolar\"}],\"pie\":[{\"automargin\":true,\"type\":\"pie\"}]},\"layout\":{\"autotypenumbers\":\"strict\",\"colorway\":[\"#636efa\",\"#EF553B\",\"#00cc96\",\"#ab63fa\",\"#FFA15A\",\"#19d3f3\",\"#FF6692\",\"#B6E880\",\"#FF97FF\",\"#FECB52\"],\"font\":{\"color\":\"#2a3f5f\"},\"hovermode\":\"closest\",\"hoverlabel\":{\"align\":\"left\"},\"paper_bgcolor\":\"white\",\"plot_bgcolor\":\"#E5ECF6\",\"polar\":{\"bgcolor\":\"#E5ECF6\",\"angularaxis\":{\"gridcolor\":\"white\",\"linecolor\":\"white\",\"ticks\":\"\"},\"radialaxis\":{\"gridcolor\":\"white\",\"linecolor\":\"white\",\"ticks\":\"\"}},\"ternary\":{\"bgcolor\":\"#E5ECF6\",\"aaxis\":{\"gridcolor\":\"white\",\"linecolor\":\"white\",\"ticks\":\"\"},\"baxis\":{\"gridcolor\":\"white\",\"linecolor\":\"white\",\"ticks\":\"\"},\"caxis\":{\"gridcolor\":\"white\",\"linecolor\":\"white\",\"ticks\":\"\"}},\"coloraxis\":{\"colorbar\":{\"outlinewidth\":0,\"ticks\":\"\"}},\"colorscale\":{\"sequential\":[[0.0,\"#0d0887\"],[0.1111111111111111,\"#46039f\"],[0.2222222222222222,\"#7201a8\"],[0.3333333333333333,\"#9c179e\"],[0.4444444444444444,\"#bd3786\"],[0.5555555555555556,\"#d8576b\"],[0.6666666666666666,\"#ed7953\"],[0.7777777777777778,\"#fb9f3a\"],[0.8888888888888888,\"#fdca26\"],[1.0,\"#f0f921\"]],\"sequentialminus\":[[0.0,\"#0d0887\"],[0.1111111111111111,\"#46039f\"],[0.2222222222222222,\"#7201a8\"],[0.3333333333333333,\"#9c179e\"],[0.4444444444444444,\"#bd3786\"],[0.5555555555555556,\"#d8576b\"],[0.6666666666666666,\"#ed7953\"],[0.7777777777777778,\"#fb9f3a\"],[0.8888888888888888,\"#fdca26\"],[1.0,\"#f0f921\"]],\"diverging\":[[0,\"#8e0152\"],[0.1,\"#c51b7d\"],[0.2,\"#de77ae\"],[0.3,\"#f1b6da\"],[0.4,\"#fde0ef\"],[0.5,\"#f7f7f7\"],[0.6,\"#e6f5d0\"],[0.7,\"#b8e186\"],[0.8,\"#7fbc41\"],[0.9,\"#4d9221\"],[1,\"#276419\"]]},\"xaxis\":{\"gridcolor\":\"white\",\"linecolor\":\"white\",\"ticks\":\"\",\"title\":{\"standoff\":15},\"zerolinecolor\":\"white\",\"automargin\":true,\"zerolinewidth\":2},\"yaxis\":{\"gridcolor\":\"white\",\"linecolor\":\"white\",\"ticks\":\"\",\"title\":{\"standoff\":15},\"zerolinecolor\":\"white\",\"automargin\":true,\"zerolinewidth\":2},\"scene\":{\"xaxis\":{\"backgroundcolor\":\"#E5ECF6\",\"gridcolor\":\"white\",\"linecolor\":\"white\",\"showbackground\":true,\"ticks\":\"\",\"zerolinecolor\":\"white\",\"gridwidth\":2},\"yaxis\":{\"backgroundcolor\":\"#E5ECF6\",\"gridcolor\":\"white\",\"linecolor\":\"white\",\"showbackground\":true,\"ticks\":\"\",\"zerolinecolor\":\"white\",\"gridwidth\":2},\"zaxis\":{\"backgroundcolor\":\"#E5ECF6\",\"gridcolor\":\"white\",\"linecolor\":\"white\",\"showbackground\":true,\"ticks\":\"\",\"zerolinecolor\":\"white\",\"gridwidth\":2}},\"shapedefaults\":{\"line\":{\"color\":\"#2a3f5f\"}},\"annotationdefaults\":{\"arrowcolor\":\"#2a3f5f\",\"arrowhead\":0,\"arrowwidth\":1},\"geo\":{\"bgcolor\":\"white\",\"landcolor\":\"#E5ECF6\",\"subunitcolor\":\"white\",\"showland\":true,\"showlakes\":true,\"lakecolor\":\"white\"},\"title\":{\"x\":0.05},\"mapbox\":{\"style\":\"light\"}}},\"xaxis\":{\"anchor\":\"y\",\"domain\":[0.0,1.0],\"title\":{\"text\":\"Date\"}},\"yaxis\":{\"anchor\":\"x\",\"domain\":[0.0,1.0],\"title\":{\"text\":\"Grand Total\"}},\"legend\":{\"tracegroupgap\":0},\"margin\":{\"t\":60}},                        {\"responsive\": true}                    ).then(function(){\n",
              "                            \n",
              "var gd = document.getElementById('329b2a7a-2c85-4c04-a404-f363838e060c');\n",
              "var x = new MutationObserver(function (mutations, observer) {{\n",
              "        var display = window.getComputedStyle(gd).display;\n",
              "        if (!display || display === 'none') {{\n",
              "            console.log([gd, 'removed!']);\n",
              "            Plotly.purge(gd);\n",
              "            observer.disconnect();\n",
              "        }}\n",
              "}});\n",
              "\n",
              "// Listen for the removal of the full notebook cells\n",
              "var notebookContainer = gd.closest('#notebook-container');\n",
              "if (notebookContainer) {{\n",
              "    x.observe(notebookContainer, {childList: true});\n",
              "}}\n",
              "\n",
              "// Listen for the clearing of the current output cell\n",
              "var outputEl = gd.closest('.output');\n",
              "if (outputEl) {{\n",
              "    x.observe(outputEl, {childList: true});\n",
              "}}\n",
              "\n",
              "                        })                };                            </script>        </div>\n",
              "</body>\n",
              "</html>"
            ]
          },
          "metadata": {}
        }
      ]
    },
    {
      "cell_type": "markdown",
      "source": [
        "Dapat dilihat dengan jelas bahwa berdasarkan grand total, penjualan biasanya berkisar antara 0 hingga 1000, namun terdapat suatu lonjakan tinggi pada tanggal 1 Oktober 2019 dan 10 Oktober 2019. Penjualan terbesar terjadi pada tanggal 10 Oktober 2019 dengan grand total 3.847,6 dan penjualan terbesar kedua terjadi pada tanggal 1 Oktober 2019 dengan grand total 2.988,9. Dengan demikian, dapat dianalisis lebih lanjut apakah terdapat suatu event penting pada tanggal tersebut? "
      ],
      "metadata": {
        "id": "AL8pwz5Ppx53"
      }
    },
    {
      "cell_type": "markdown",
      "source": [
        "#### EDA Transaction Analysis 2:\n",
        "Kapan penjualan tertinggi restoran terjadi berdasarkan jumlah item?"
      ],
      "metadata": {
        "id": "Ut9EUup3qy_D"
      }
    },
    {
      "cell_type": "code",
      "source": [
        "f = px.line(sliced_data, x=\"created_at_date\", y=\"item_count\", labels=dict(created_at_date=\"Date\", item_count=\"Item Count\"))\n",
        "f.show()"
      ],
      "metadata": {
        "colab": {
          "base_uri": "https://localhost:8080/"
        },
        "id": "Urw20tUVq7_g",
        "outputId": "770bbff4-d87f-4676-c380-4d20acba42cd"
      },
      "execution_count": null,
      "outputs": [
        {
          "output_type": "display_data",
          "data": {
            "text/html": [
              "<html>\n",
              "<head><meta charset=\"utf-8\" /></head>\n",
              "<body>\n",
              "    <div>            <script src=\"https://cdnjs.cloudflare.com/ajax/libs/mathjax/2.7.5/MathJax.js?config=TeX-AMS-MML_SVG\"></script><script type=\"text/javascript\">if (window.MathJax && window.MathJax.Hub && window.MathJax.Hub.Config) {window.MathJax.Hub.Config({SVG: {font: \"STIX-Web\"}});}</script>                <script type=\"text/javascript\">window.PlotlyConfig = {MathJaxConfig: 'local'};</script>\n",
              "        <script src=\"https://cdn.plot.ly/plotly-2.18.2.min.js\"></script>                <div id=\"b37af4e5-08c0-4427-900f-9fd6f0c8bb08\" class=\"plotly-graph-div\" style=\"height:525px; width:100%;\"></div>            <script type=\"text/javascript\">                                    window.PLOTLYENV=window.PLOTLYENV || {};                                    if (document.getElementById(\"b37af4e5-08c0-4427-900f-9fd6f0c8bb08\")) {                    Plotly.newPlot(                        \"b37af4e5-08c0-4427-900f-9fd6f0c8bb08\",                        [{\"hovertemplate\":\"Date=%{x}<br>Item Count=%{y}<extra></extra>\",\"legendgroup\":\"\",\"line\":{\"color\":\"#636efa\",\"dash\":\"solid\"},\"marker\":{\"symbol\":\"circle\"},\"mode\":\"lines\",\"name\":\"\",\"orientation\":\"v\",\"showlegend\":false,\"x\":[\"2019-06-01\",\"2019-06-02\",\"2019-06-03\",\"2019-06-04\",\"2019-06-05\",\"2019-06-06\",\"2019-06-07\",\"2019-06-08\",\"2019-06-09\",\"2019-06-10\",\"2019-06-11\",\"2019-06-12\",\"2019-06-13\",\"2019-06-14\",\"2019-06-15\",\"2019-06-16\",\"2019-06-17\",\"2019-06-18\",\"2019-06-19\",\"2019-06-20\",\"2019-06-21\",\"2019-06-22\",\"2019-06-23\",\"2019-06-24\",\"2019-06-25\",\"2019-06-26\",\"2019-06-27\",\"2019-06-28\",\"2019-06-29\",\"2019-06-30\",\"2019-07-01\",\"2019-07-02\",\"2019-07-03\",\"2019-07-04\",\"2019-07-05\",\"2019-07-06\",\"2019-07-07\",\"2019-07-08\",\"2019-07-09\",\"2019-07-10\",\"2019-07-11\",\"2019-07-12\",\"2019-07-13\",\"2019-07-14\",\"2019-07-15\",\"2019-07-16\",\"2019-07-17\",\"2019-07-18\",\"2019-07-19\",\"2019-07-20\",\"2019-07-21\",\"2019-07-22\",\"2019-07-23\",\"2019-07-24\",\"2019-07-25\",\"2019-07-26\",\"2019-07-27\",\"2019-07-28\",\"2019-07-29\",\"2019-07-30\",\"2019-07-31\",\"2019-08-01\",\"2019-08-02\",\"2019-08-03\",\"2019-08-04\",\"2019-08-05\",\"2019-08-06\",\"2019-08-07\",\"2019-08-08\",\"2019-08-09\",\"2019-08-10\",\"2019-08-11\",\"2019-08-12\",\"2019-08-13\",\"2019-08-14\",\"2019-08-15\",\"2019-08-16\",\"2019-08-17\",\"2019-08-18\",\"2019-08-19\",\"2019-08-20\",\"2019-08-21\",\"2019-08-22\",\"2019-08-23\",\"2019-08-24\",\"2019-08-25\",\"2019-08-26\",\"2019-08-27\",\"2019-08-28\",\"2019-08-29\",\"2019-08-30\",\"2019-08-31\",\"2019-09-01\",\"2019-09-02\",\"2019-09-03\",\"2019-09-04\",\"2019-09-05\",\"2019-09-06\",\"2019-09-07\",\"2019-09-08\",\"2019-09-09\",\"2019-09-10\",\"2019-09-11\",\"2019-09-12\",\"2019-09-13\",\"2019-09-14\",\"2019-09-15\",\"2019-09-16\",\"2019-09-17\",\"2019-09-18\",\"2019-09-22\",\"2019-09-23\",\"2019-09-24\",\"2019-09-25\",\"2019-09-26\",\"2019-09-27\",\"2019-09-28\",\"2019-09-29\",\"2019-09-30\",\"2019-10-01\",\"2019-10-02\",\"2019-10-03\",\"2019-10-04\",\"2019-10-05\",\"2019-10-06\",\"2019-10-07\",\"2019-10-08\",\"2019-10-09\",\"2019-10-10\",\"2019-10-11\",\"2019-10-12\",\"2019-10-13\",\"2019-10-14\",\"2019-10-15\",\"2019-10-16\",\"2019-10-17\",\"2019-10-18\",\"2019-10-19\",\"2019-10-20\",\"2019-10-21\",\"2019-10-22\",\"2019-10-23\",\"2019-10-24\",\"2019-10-25\",\"2019-10-26\",\"2019-10-27\",\"2019-10-28\",\"2019-10-29\",\"2019-10-30\",\"2019-10-31\",\"2019-11-01\",\"2019-11-02\",\"2019-11-03\",\"2019-11-04\",\"2019-11-05\",\"2019-11-06\",\"2019-11-07\",\"2019-11-08\",\"2019-11-09\",\"2019-11-10\",\"2019-11-11\",\"2019-11-12\",\"2019-11-13\",\"2019-11-14\",\"2019-11-15\",\"2019-11-16\",\"2019-11-17\",\"2019-11-18\",\"2019-11-19\",\"2019-11-20\",\"2019-11-21\",\"2019-11-22\",\"2019-11-23\",\"2019-11-24\",\"2019-11-25\",\"2019-11-26\",\"2019-11-27\",\"2019-11-28\",\"2019-11-29\",\"2019-11-30\",\"2019-12-01\",\"2019-12-02\",\"2019-12-03\",\"2019-12-04\",\"2019-12-05\",\"2019-12-06\",\"2019-12-07\",\"2019-12-08\",\"2019-12-09\",\"2019-12-10\",\"2019-12-11\",\"2019-12-12\",\"2019-12-13\",\"2019-12-14\",\"2019-12-15\",\"2019-12-16\",\"2019-12-17\",\"2019-12-18\",\"2019-12-19\",\"2019-12-20\",\"2019-12-21\",\"2019-12-22\",\"2019-12-23\",\"2019-12-24\",\"2019-12-25\",\"2019-12-26\",\"2019-12-27\",\"2019-12-28\",\"2019-12-29\",\"2019-12-30\",\"2019-12-31\",\"2020-01-01\",\"2020-01-02\",\"2020-01-03\",\"2020-01-04\",\"2020-01-05\",\"2020-01-06\",\"2020-01-07\",\"2020-01-08\",\"2020-01-09\",\"2020-01-10\",\"2020-01-11\",\"2020-01-12\",\"2020-01-13\",\"2020-01-14\",\"2020-01-15\",\"2020-01-16\",\"2020-01-17\",\"2020-01-18\",\"2020-01-19\",\"2020-01-20\",\"2020-01-21\",\"2020-01-22\",\"2020-01-23\",\"2020-01-24\",\"2020-01-25\",\"2020-01-26\",\"2020-01-27\",\"2020-01-28\",\"2020-01-29\",\"2020-01-30\",\"2020-01-31\",\"2020-02-01\",\"2020-02-02\",\"2020-02-03\",\"2020-02-04\",\"2020-02-05\",\"2020-02-06\",\"2020-02-07\",\"2020-02-08\",\"2020-02-09\",\"2020-02-10\",\"2020-02-11\",\"2020-02-12\",\"2020-02-13\",\"2020-02-14\",\"2020-02-15\",\"2020-02-16\",\"2020-02-17\",\"2020-02-18\",\"2020-02-19\",\"2020-02-20\",\"2020-02-21\",\"2020-02-22\",\"2020-02-23\",\"2020-02-24\",\"2020-02-25\",\"2020-02-26\",\"2020-02-27\",\"2020-02-28\",\"2020-02-29\"],\"xaxis\":\"x\",\"y\":[30,47,17,39,66,31,26,51,68,117,70,90,95,83,58,65,67,55,48,52,43,80,67,75,86,109,93,64,66,65,49,75,80,84,62,55,106,77,78,79,66,75,66,63,67,60,74,58,49,68,36,70,63,56,82,22,33,61,68,50,80,54,36,48,52,61,37,91,68,42,55,40,15,21,34,61,45,40,72,76,58,47,90,60,61,72,80,55,57,74,59,65,54,60,60,54,61,39,68,82,81,65,77,101,59,61,52,61,60,74,6,6,4,4,8,10,4,6,2,412,104,9,9,5,8,7,14,16,612,150,24,70,92,42,108,108,72,73,49,74,81,133,132,101,75,86,84,101,88,91,118,79,105,97,91,143,134,91,109,82,116,81,141,110,83,140,107,85,148,108,91,80,144,127,164,124,61,47,94,112,129,121,91,52,107,127,124,93,129,101,116,90,95,94,106,106,139,125,70,110,91,86,149,96,136,155,111,104,141,84,104,106,85,99,48,107,86,76,74,140,74,27,34,49,61,64,106,65,81,65,73,84,121,137,97,155,110,151,144,149,128,111,93,165,140,116,150,110,115,147,145,157,129,144,123,108,99,138,149,132,110,136,115,99,98,109,120,127,142,113,100],\"yaxis\":\"y\",\"type\":\"scatter\"}],                        {\"template\":{\"data\":{\"histogram2dcontour\":[{\"type\":\"histogram2dcontour\",\"colorbar\":{\"outlinewidth\":0,\"ticks\":\"\"},\"colorscale\":[[0.0,\"#0d0887\"],[0.1111111111111111,\"#46039f\"],[0.2222222222222222,\"#7201a8\"],[0.3333333333333333,\"#9c179e\"],[0.4444444444444444,\"#bd3786\"],[0.5555555555555556,\"#d8576b\"],[0.6666666666666666,\"#ed7953\"],[0.7777777777777778,\"#fb9f3a\"],[0.8888888888888888,\"#fdca26\"],[1.0,\"#f0f921\"]]}],\"choropleth\":[{\"type\":\"choropleth\",\"colorbar\":{\"outlinewidth\":0,\"ticks\":\"\"}}],\"histogram2d\":[{\"type\":\"histogram2d\",\"colorbar\":{\"outlinewidth\":0,\"ticks\":\"\"},\"colorscale\":[[0.0,\"#0d0887\"],[0.1111111111111111,\"#46039f\"],[0.2222222222222222,\"#7201a8\"],[0.3333333333333333,\"#9c179e\"],[0.4444444444444444,\"#bd3786\"],[0.5555555555555556,\"#d8576b\"],[0.6666666666666666,\"#ed7953\"],[0.7777777777777778,\"#fb9f3a\"],[0.8888888888888888,\"#fdca26\"],[1.0,\"#f0f921\"]]}],\"heatmap\":[{\"type\":\"heatmap\",\"colorbar\":{\"outlinewidth\":0,\"ticks\":\"\"},\"colorscale\":[[0.0,\"#0d0887\"],[0.1111111111111111,\"#46039f\"],[0.2222222222222222,\"#7201a8\"],[0.3333333333333333,\"#9c179e\"],[0.4444444444444444,\"#bd3786\"],[0.5555555555555556,\"#d8576b\"],[0.6666666666666666,\"#ed7953\"],[0.7777777777777778,\"#fb9f3a\"],[0.8888888888888888,\"#fdca26\"],[1.0,\"#f0f921\"]]}],\"heatmapgl\":[{\"type\":\"heatmapgl\",\"colorbar\":{\"outlinewidth\":0,\"ticks\":\"\"},\"colorscale\":[[0.0,\"#0d0887\"],[0.1111111111111111,\"#46039f\"],[0.2222222222222222,\"#7201a8\"],[0.3333333333333333,\"#9c179e\"],[0.4444444444444444,\"#bd3786\"],[0.5555555555555556,\"#d8576b\"],[0.6666666666666666,\"#ed7953\"],[0.7777777777777778,\"#fb9f3a\"],[0.8888888888888888,\"#fdca26\"],[1.0,\"#f0f921\"]]}],\"contourcarpet\":[{\"type\":\"contourcarpet\",\"colorbar\":{\"outlinewidth\":0,\"ticks\":\"\"}}],\"contour\":[{\"type\":\"contour\",\"colorbar\":{\"outlinewidth\":0,\"ticks\":\"\"},\"colorscale\":[[0.0,\"#0d0887\"],[0.1111111111111111,\"#46039f\"],[0.2222222222222222,\"#7201a8\"],[0.3333333333333333,\"#9c179e\"],[0.4444444444444444,\"#bd3786\"],[0.5555555555555556,\"#d8576b\"],[0.6666666666666666,\"#ed7953\"],[0.7777777777777778,\"#fb9f3a\"],[0.8888888888888888,\"#fdca26\"],[1.0,\"#f0f921\"]]}],\"surface\":[{\"type\":\"surface\",\"colorbar\":{\"outlinewidth\":0,\"ticks\":\"\"},\"colorscale\":[[0.0,\"#0d0887\"],[0.1111111111111111,\"#46039f\"],[0.2222222222222222,\"#7201a8\"],[0.3333333333333333,\"#9c179e\"],[0.4444444444444444,\"#bd3786\"],[0.5555555555555556,\"#d8576b\"],[0.6666666666666666,\"#ed7953\"],[0.7777777777777778,\"#fb9f3a\"],[0.8888888888888888,\"#fdca26\"],[1.0,\"#f0f921\"]]}],\"mesh3d\":[{\"type\":\"mesh3d\",\"colorbar\":{\"outlinewidth\":0,\"ticks\":\"\"}}],\"scatter\":[{\"fillpattern\":{\"fillmode\":\"overlay\",\"size\":10,\"solidity\":0.2},\"type\":\"scatter\"}],\"parcoords\":[{\"type\":\"parcoords\",\"line\":{\"colorbar\":{\"outlinewidth\":0,\"ticks\":\"\"}}}],\"scatterpolargl\":[{\"type\":\"scatterpolargl\",\"marker\":{\"colorbar\":{\"outlinewidth\":0,\"ticks\":\"\"}}}],\"bar\":[{\"error_x\":{\"color\":\"#2a3f5f\"},\"error_y\":{\"color\":\"#2a3f5f\"},\"marker\":{\"line\":{\"color\":\"#E5ECF6\",\"width\":0.5},\"pattern\":{\"fillmode\":\"overlay\",\"size\":10,\"solidity\":0.2}},\"type\":\"bar\"}],\"scattergeo\":[{\"type\":\"scattergeo\",\"marker\":{\"colorbar\":{\"outlinewidth\":0,\"ticks\":\"\"}}}],\"scatterpolar\":[{\"type\":\"scatterpolar\",\"marker\":{\"colorbar\":{\"outlinewidth\":0,\"ticks\":\"\"}}}],\"histogram\":[{\"marker\":{\"pattern\":{\"fillmode\":\"overlay\",\"size\":10,\"solidity\":0.2}},\"type\":\"histogram\"}],\"scattergl\":[{\"type\":\"scattergl\",\"marker\":{\"colorbar\":{\"outlinewidth\":0,\"ticks\":\"\"}}}],\"scatter3d\":[{\"type\":\"scatter3d\",\"line\":{\"colorbar\":{\"outlinewidth\":0,\"ticks\":\"\"}},\"marker\":{\"colorbar\":{\"outlinewidth\":0,\"ticks\":\"\"}}}],\"scattermapbox\":[{\"type\":\"scattermapbox\",\"marker\":{\"colorbar\":{\"outlinewidth\":0,\"ticks\":\"\"}}}],\"scatterternary\":[{\"type\":\"scatterternary\",\"marker\":{\"colorbar\":{\"outlinewidth\":0,\"ticks\":\"\"}}}],\"scattercarpet\":[{\"type\":\"scattercarpet\",\"marker\":{\"colorbar\":{\"outlinewidth\":0,\"ticks\":\"\"}}}],\"carpet\":[{\"aaxis\":{\"endlinecolor\":\"#2a3f5f\",\"gridcolor\":\"white\",\"linecolor\":\"white\",\"minorgridcolor\":\"white\",\"startlinecolor\":\"#2a3f5f\"},\"baxis\":{\"endlinecolor\":\"#2a3f5f\",\"gridcolor\":\"white\",\"linecolor\":\"white\",\"minorgridcolor\":\"white\",\"startlinecolor\":\"#2a3f5f\"},\"type\":\"carpet\"}],\"table\":[{\"cells\":{\"fill\":{\"color\":\"#EBF0F8\"},\"line\":{\"color\":\"white\"}},\"header\":{\"fill\":{\"color\":\"#C8D4E3\"},\"line\":{\"color\":\"white\"}},\"type\":\"table\"}],\"barpolar\":[{\"marker\":{\"line\":{\"color\":\"#E5ECF6\",\"width\":0.5},\"pattern\":{\"fillmode\":\"overlay\",\"size\":10,\"solidity\":0.2}},\"type\":\"barpolar\"}],\"pie\":[{\"automargin\":true,\"type\":\"pie\"}]},\"layout\":{\"autotypenumbers\":\"strict\",\"colorway\":[\"#636efa\",\"#EF553B\",\"#00cc96\",\"#ab63fa\",\"#FFA15A\",\"#19d3f3\",\"#FF6692\",\"#B6E880\",\"#FF97FF\",\"#FECB52\"],\"font\":{\"color\":\"#2a3f5f\"},\"hovermode\":\"closest\",\"hoverlabel\":{\"align\":\"left\"},\"paper_bgcolor\":\"white\",\"plot_bgcolor\":\"#E5ECF6\",\"polar\":{\"bgcolor\":\"#E5ECF6\",\"angularaxis\":{\"gridcolor\":\"white\",\"linecolor\":\"white\",\"ticks\":\"\"},\"radialaxis\":{\"gridcolor\":\"white\",\"linecolor\":\"white\",\"ticks\":\"\"}},\"ternary\":{\"bgcolor\":\"#E5ECF6\",\"aaxis\":{\"gridcolor\":\"white\",\"linecolor\":\"white\",\"ticks\":\"\"},\"baxis\":{\"gridcolor\":\"white\",\"linecolor\":\"white\",\"ticks\":\"\"},\"caxis\":{\"gridcolor\":\"white\",\"linecolor\":\"white\",\"ticks\":\"\"}},\"coloraxis\":{\"colorbar\":{\"outlinewidth\":0,\"ticks\":\"\"}},\"colorscale\":{\"sequential\":[[0.0,\"#0d0887\"],[0.1111111111111111,\"#46039f\"],[0.2222222222222222,\"#7201a8\"],[0.3333333333333333,\"#9c179e\"],[0.4444444444444444,\"#bd3786\"],[0.5555555555555556,\"#d8576b\"],[0.6666666666666666,\"#ed7953\"],[0.7777777777777778,\"#fb9f3a\"],[0.8888888888888888,\"#fdca26\"],[1.0,\"#f0f921\"]],\"sequentialminus\":[[0.0,\"#0d0887\"],[0.1111111111111111,\"#46039f\"],[0.2222222222222222,\"#7201a8\"],[0.3333333333333333,\"#9c179e\"],[0.4444444444444444,\"#bd3786\"],[0.5555555555555556,\"#d8576b\"],[0.6666666666666666,\"#ed7953\"],[0.7777777777777778,\"#fb9f3a\"],[0.8888888888888888,\"#fdca26\"],[1.0,\"#f0f921\"]],\"diverging\":[[0,\"#8e0152\"],[0.1,\"#c51b7d\"],[0.2,\"#de77ae\"],[0.3,\"#f1b6da\"],[0.4,\"#fde0ef\"],[0.5,\"#f7f7f7\"],[0.6,\"#e6f5d0\"],[0.7,\"#b8e186\"],[0.8,\"#7fbc41\"],[0.9,\"#4d9221\"],[1,\"#276419\"]]},\"xaxis\":{\"gridcolor\":\"white\",\"linecolor\":\"white\",\"ticks\":\"\",\"title\":{\"standoff\":15},\"zerolinecolor\":\"white\",\"automargin\":true,\"zerolinewidth\":2},\"yaxis\":{\"gridcolor\":\"white\",\"linecolor\":\"white\",\"ticks\":\"\",\"title\":{\"standoff\":15},\"zerolinecolor\":\"white\",\"automargin\":true,\"zerolinewidth\":2},\"scene\":{\"xaxis\":{\"backgroundcolor\":\"#E5ECF6\",\"gridcolor\":\"white\",\"linecolor\":\"white\",\"showbackground\":true,\"ticks\":\"\",\"zerolinecolor\":\"white\",\"gridwidth\":2},\"yaxis\":{\"backgroundcolor\":\"#E5ECF6\",\"gridcolor\":\"white\",\"linecolor\":\"white\",\"showbackground\":true,\"ticks\":\"\",\"zerolinecolor\":\"white\",\"gridwidth\":2},\"zaxis\":{\"backgroundcolor\":\"#E5ECF6\",\"gridcolor\":\"white\",\"linecolor\":\"white\",\"showbackground\":true,\"ticks\":\"\",\"zerolinecolor\":\"white\",\"gridwidth\":2}},\"shapedefaults\":{\"line\":{\"color\":\"#2a3f5f\"}},\"annotationdefaults\":{\"arrowcolor\":\"#2a3f5f\",\"arrowhead\":0,\"arrowwidth\":1},\"geo\":{\"bgcolor\":\"white\",\"landcolor\":\"#E5ECF6\",\"subunitcolor\":\"white\",\"showland\":true,\"showlakes\":true,\"lakecolor\":\"white\"},\"title\":{\"x\":0.05},\"mapbox\":{\"style\":\"light\"}}},\"xaxis\":{\"anchor\":\"y\",\"domain\":[0.0,1.0],\"title\":{\"text\":\"Date\"}},\"yaxis\":{\"anchor\":\"x\",\"domain\":[0.0,1.0],\"title\":{\"text\":\"Item Count\"}},\"legend\":{\"tracegroupgap\":0},\"margin\":{\"t\":60}},                        {\"responsive\": true}                    ).then(function(){\n",
              "                            \n",
              "var gd = document.getElementById('b37af4e5-08c0-4427-900f-9fd6f0c8bb08');\n",
              "var x = new MutationObserver(function (mutations, observer) {{\n",
              "        var display = window.getComputedStyle(gd).display;\n",
              "        if (!display || display === 'none') {{\n",
              "            console.log([gd, 'removed!']);\n",
              "            Plotly.purge(gd);\n",
              "            observer.disconnect();\n",
              "        }}\n",
              "}});\n",
              "\n",
              "// Listen for the removal of the full notebook cells\n",
              "var notebookContainer = gd.closest('#notebook-container');\n",
              "if (notebookContainer) {{\n",
              "    x.observe(notebookContainer, {childList: true});\n",
              "}}\n",
              "\n",
              "// Listen for the clearing of the current output cell\n",
              "var outputEl = gd.closest('.output');\n",
              "if (outputEl) {{\n",
              "    x.observe(outputEl, {childList: true});\n",
              "}}\n",
              "\n",
              "                        })                };                            </script>        </div>\n",
              "</body>\n",
              "</html>"
            ]
          },
          "metadata": {}
        }
      ]
    },
    {
      "cell_type": "markdown",
      "source": [
        "Dari hail visualisasi di atas, dapat ditemukan jawaban mengenai mengapa terjadi lonjakan tinggi pada grand total pada tanggal 1 Oktober 2019 dan 10 Oktober 2019. Hal tersebut dikarenakan banyaknya jumlah item yang dijual pada tangal tersebut, sehingga dapat mempengaruhi grand total."
      ],
      "metadata": {
        "id": "3nn87tEMrfAC"
      }
    },
    {
      "cell_type": "markdown",
      "source": [
        "#### EDA Transaction Analysis 3:\n",
        "Bagaimana korelasi antara jumlah item dan grand total?"
      ],
      "metadata": {
        "id": "fdNQG6aJtnqm"
      }
    },
    {
      "cell_type": "code",
      "source": [
        "g = px.scatter(sliced_data, x=\"item_count\", y=\"grand_total\", labels=dict(item_count=\"Jumlah Item\", grand_total=\"Grand Total\"))\n",
        "g.show()"
      ],
      "metadata": {
        "colab": {
          "base_uri": "https://localhost:8080/"
        },
        "id": "757oPz5GsBOw",
        "outputId": "50a36c13-377c-41ed-d93a-b9608f3b4031"
      },
      "execution_count": null,
      "outputs": [
        {
          "output_type": "display_data",
          "data": {
            "text/html": [
              "<html>\n",
              "<head><meta charset=\"utf-8\" /></head>\n",
              "<body>\n",
              "    <div>            <script src=\"https://cdnjs.cloudflare.com/ajax/libs/mathjax/2.7.5/MathJax.js?config=TeX-AMS-MML_SVG\"></script><script type=\"text/javascript\">if (window.MathJax && window.MathJax.Hub && window.MathJax.Hub.Config) {window.MathJax.Hub.Config({SVG: {font: \"STIX-Web\"}});}</script>                <script type=\"text/javascript\">window.PlotlyConfig = {MathJaxConfig: 'local'};</script>\n",
              "        <script src=\"https://cdn.plot.ly/plotly-2.18.2.min.js\"></script>                <div id=\"53aa0936-43bc-41f9-8c29-9b5c9a203e92\" class=\"plotly-graph-div\" style=\"height:525px; width:100%;\"></div>            <script type=\"text/javascript\">                                    window.PLOTLYENV=window.PLOTLYENV || {};                                    if (document.getElementById(\"53aa0936-43bc-41f9-8c29-9b5c9a203e92\")) {                    Plotly.newPlot(                        \"53aa0936-43bc-41f9-8c29-9b5c9a203e92\",                        [{\"hovertemplate\":\"Jumlah Item=%{x}<br>Grand Total=%{y}<extra></extra>\",\"legendgroup\":\"\",\"marker\":{\"color\":\"#636efa\",\"symbol\":\"circle\"},\"mode\":\"markers\",\"name\":\"\",\"orientation\":\"v\",\"showlegend\":false,\"x\":[30,47,17,39,66,31,26,51,68,117,70,90,95,83,58,65,67,55,48,52,43,80,67,75,86,109,93,64,66,65,49,75,80,84,62,55,106,77,78,79,66,75,66,63,67,60,74,58,49,68,36,70,63,56,82,22,33,61,68,50,80,54,36,48,52,61,37,91,68,42,55,40,15,21,34,61,45,40,72,76,58,47,90,60,61,72,80,55,57,74,59,65,54,60,60,54,61,39,68,82,81,65,77,101,59,61,52,61,60,74,6,6,4,4,8,10,4,6,2,412,104,9,9,5,8,7,14,16,612,150,24,70,92,42,108,108,72,73,49,74,81,133,132,101,75,86,84,101,88,91,118,79,105,97,91,143,134,91,109,82,116,81,141,110,83,140,107,85,148,108,91,80,144,127,164,124,61,47,94,112,129,121,91,52,107,127,124,93,129,101,116,90,95,94,106,106,139,125,70,110,91,86,149,96,136,155,111,104,141,84,104,106,85,99,48,107,86,76,74,140,74,27,34,49,61,64,106,65,81,65,73,84,121,137,97,155,110,151,144,149,128,111,93,165,140,116,150,110,115,147,145,157,129,144,123,108,99,138,149,132,110,136,115,99,98,109,120,127,142,113,100],\"xaxis\":\"x\",\"y\":[197.2,258.3,101.39999999999999,206.1,463.6,190.5,187.2,342.4,536.0,756.5,446.3,537.4,621.0,509.09999999999997,375.5,356.1,411.5,366.2,292.9,490.0,355.2,447.8,357.1,380.6,446.9,651.3,574.9,458.8,394.0,433.0,308.0,477.2,481.1,454.3,421.8,424.0,563.2,471.1,414.9,450.6,430.7,484.6,501.2,355.0,453.8,371.8,472.9,288.1,362.7,333.0,247.4,376.0,314.40000000000003,276.1,737.9,114.39999999999999,227.6,384.7,447.9,344.9,457.2,392.59999999999997,238.5,422.8,323.6,349.9,223.8,465.4,409.4,306.6,366.09999999999997,315.7,102.5,174.5,208.1,331.1,257.5,259.5,475.09999999999997,500.59999999999997,398.5,246.1,503.7,393.4,435.5,525.5,472.7,406.8,308.2,409.4,338.2,501.1,345.59999999999997,364.2,426.1,388.2,392.2,231.8,397.2,455.4,380.0,397.5,545.4,715.3,350.1,362.9,318.8,388.6,356.6,442.5,22.299999999999997,38.2,54.2,19.0,74.1,81.3,17.6,47.5,7.3,2988.9,844.0,58.400000000000006,52.9,33.1,59.0,70.6,79.8,87.30000000000001,3847.6,1399.2,133.1,614.0,431.3,251.2,939.8,687.6,419.3,474.2,352.9,473.9,478.7,768.5,704.1,543.5,455.8,513.2,515.4,635.2,523.0,502.9,676.9,491.4,538.9,500.7,547.3,820.8,720.9,551.5,549.0,525.7,622.7,437.59999999999997,904.5,557.2,613.1,914.0,690.1,503.1,720.6,584.3,546.8000000000001,514.9,920.6,764.2,913.6,814.1,420.9,278.1,694.0,706.9,715.6,635.5,549.8,401.1,788.1999999999999,826.6,852.2,708.6,758.2,526.5,799.8,612.6,725.9,560.5,630.8,700.3,939.0,713.7,431.7,636.1,557.5,687.7,901.7,634.3,797.9,897.4,750.5,577.0,899.8,565.5,692.0,791.7,617.6,702.7,337.6,729.3,555.9,532.9,567.7,980.6999999999999,506.0,180.4,175.2,324.3,400.2,423.2,795.4,482.2,620.3,511.3,485.6,699.9,768.9,796.7,721.9,1130.2,673.1,964.2,949.8000000000001,933.0,806.5,844.6,595.7,1164.8,944.0,708.5,1134.1,640.7,688.4,937.0,895.8,1111.3,880.2,952.6,774.4,679.8,654.3,901.2,1045.4,881.2,646.4,940.3,794.8,614.9,621.8,723.8,847.0,829.6,1140.3,872.1,672.6],\"yaxis\":\"y\",\"type\":\"scatter\"}],                        {\"template\":{\"data\":{\"histogram2dcontour\":[{\"type\":\"histogram2dcontour\",\"colorbar\":{\"outlinewidth\":0,\"ticks\":\"\"},\"colorscale\":[[0.0,\"#0d0887\"],[0.1111111111111111,\"#46039f\"],[0.2222222222222222,\"#7201a8\"],[0.3333333333333333,\"#9c179e\"],[0.4444444444444444,\"#bd3786\"],[0.5555555555555556,\"#d8576b\"],[0.6666666666666666,\"#ed7953\"],[0.7777777777777778,\"#fb9f3a\"],[0.8888888888888888,\"#fdca26\"],[1.0,\"#f0f921\"]]}],\"choropleth\":[{\"type\":\"choropleth\",\"colorbar\":{\"outlinewidth\":0,\"ticks\":\"\"}}],\"histogram2d\":[{\"type\":\"histogram2d\",\"colorbar\":{\"outlinewidth\":0,\"ticks\":\"\"},\"colorscale\":[[0.0,\"#0d0887\"],[0.1111111111111111,\"#46039f\"],[0.2222222222222222,\"#7201a8\"],[0.3333333333333333,\"#9c179e\"],[0.4444444444444444,\"#bd3786\"],[0.5555555555555556,\"#d8576b\"],[0.6666666666666666,\"#ed7953\"],[0.7777777777777778,\"#fb9f3a\"],[0.8888888888888888,\"#fdca26\"],[1.0,\"#f0f921\"]]}],\"heatmap\":[{\"type\":\"heatmap\",\"colorbar\":{\"outlinewidth\":0,\"ticks\":\"\"},\"colorscale\":[[0.0,\"#0d0887\"],[0.1111111111111111,\"#46039f\"],[0.2222222222222222,\"#7201a8\"],[0.3333333333333333,\"#9c179e\"],[0.4444444444444444,\"#bd3786\"],[0.5555555555555556,\"#d8576b\"],[0.6666666666666666,\"#ed7953\"],[0.7777777777777778,\"#fb9f3a\"],[0.8888888888888888,\"#fdca26\"],[1.0,\"#f0f921\"]]}],\"heatmapgl\":[{\"type\":\"heatmapgl\",\"colorbar\":{\"outlinewidth\":0,\"ticks\":\"\"},\"colorscale\":[[0.0,\"#0d0887\"],[0.1111111111111111,\"#46039f\"],[0.2222222222222222,\"#7201a8\"],[0.3333333333333333,\"#9c179e\"],[0.4444444444444444,\"#bd3786\"],[0.5555555555555556,\"#d8576b\"],[0.6666666666666666,\"#ed7953\"],[0.7777777777777778,\"#fb9f3a\"],[0.8888888888888888,\"#fdca26\"],[1.0,\"#f0f921\"]]}],\"contourcarpet\":[{\"type\":\"contourcarpet\",\"colorbar\":{\"outlinewidth\":0,\"ticks\":\"\"}}],\"contour\":[{\"type\":\"contour\",\"colorbar\":{\"outlinewidth\":0,\"ticks\":\"\"},\"colorscale\":[[0.0,\"#0d0887\"],[0.1111111111111111,\"#46039f\"],[0.2222222222222222,\"#7201a8\"],[0.3333333333333333,\"#9c179e\"],[0.4444444444444444,\"#bd3786\"],[0.5555555555555556,\"#d8576b\"],[0.6666666666666666,\"#ed7953\"],[0.7777777777777778,\"#fb9f3a\"],[0.8888888888888888,\"#fdca26\"],[1.0,\"#f0f921\"]]}],\"surface\":[{\"type\":\"surface\",\"colorbar\":{\"outlinewidth\":0,\"ticks\":\"\"},\"colorscale\":[[0.0,\"#0d0887\"],[0.1111111111111111,\"#46039f\"],[0.2222222222222222,\"#7201a8\"],[0.3333333333333333,\"#9c179e\"],[0.4444444444444444,\"#bd3786\"],[0.5555555555555556,\"#d8576b\"],[0.6666666666666666,\"#ed7953\"],[0.7777777777777778,\"#fb9f3a\"],[0.8888888888888888,\"#fdca26\"],[1.0,\"#f0f921\"]]}],\"mesh3d\":[{\"type\":\"mesh3d\",\"colorbar\":{\"outlinewidth\":0,\"ticks\":\"\"}}],\"scatter\":[{\"fillpattern\":{\"fillmode\":\"overlay\",\"size\":10,\"solidity\":0.2},\"type\":\"scatter\"}],\"parcoords\":[{\"type\":\"parcoords\",\"line\":{\"colorbar\":{\"outlinewidth\":0,\"ticks\":\"\"}}}],\"scatterpolargl\":[{\"type\":\"scatterpolargl\",\"marker\":{\"colorbar\":{\"outlinewidth\":0,\"ticks\":\"\"}}}],\"bar\":[{\"error_x\":{\"color\":\"#2a3f5f\"},\"error_y\":{\"color\":\"#2a3f5f\"},\"marker\":{\"line\":{\"color\":\"#E5ECF6\",\"width\":0.5},\"pattern\":{\"fillmode\":\"overlay\",\"size\":10,\"solidity\":0.2}},\"type\":\"bar\"}],\"scattergeo\":[{\"type\":\"scattergeo\",\"marker\":{\"colorbar\":{\"outlinewidth\":0,\"ticks\":\"\"}}}],\"scatterpolar\":[{\"type\":\"scatterpolar\",\"marker\":{\"colorbar\":{\"outlinewidth\":0,\"ticks\":\"\"}}}],\"histogram\":[{\"marker\":{\"pattern\":{\"fillmode\":\"overlay\",\"size\":10,\"solidity\":0.2}},\"type\":\"histogram\"}],\"scattergl\":[{\"type\":\"scattergl\",\"marker\":{\"colorbar\":{\"outlinewidth\":0,\"ticks\":\"\"}}}],\"scatter3d\":[{\"type\":\"scatter3d\",\"line\":{\"colorbar\":{\"outlinewidth\":0,\"ticks\":\"\"}},\"marker\":{\"colorbar\":{\"outlinewidth\":0,\"ticks\":\"\"}}}],\"scattermapbox\":[{\"type\":\"scattermapbox\",\"marker\":{\"colorbar\":{\"outlinewidth\":0,\"ticks\":\"\"}}}],\"scatterternary\":[{\"type\":\"scatterternary\",\"marker\":{\"colorbar\":{\"outlinewidth\":0,\"ticks\":\"\"}}}],\"scattercarpet\":[{\"type\":\"scattercarpet\",\"marker\":{\"colorbar\":{\"outlinewidth\":0,\"ticks\":\"\"}}}],\"carpet\":[{\"aaxis\":{\"endlinecolor\":\"#2a3f5f\",\"gridcolor\":\"white\",\"linecolor\":\"white\",\"minorgridcolor\":\"white\",\"startlinecolor\":\"#2a3f5f\"},\"baxis\":{\"endlinecolor\":\"#2a3f5f\",\"gridcolor\":\"white\",\"linecolor\":\"white\",\"minorgridcolor\":\"white\",\"startlinecolor\":\"#2a3f5f\"},\"type\":\"carpet\"}],\"table\":[{\"cells\":{\"fill\":{\"color\":\"#EBF0F8\"},\"line\":{\"color\":\"white\"}},\"header\":{\"fill\":{\"color\":\"#C8D4E3\"},\"line\":{\"color\":\"white\"}},\"type\":\"table\"}],\"barpolar\":[{\"marker\":{\"line\":{\"color\":\"#E5ECF6\",\"width\":0.5},\"pattern\":{\"fillmode\":\"overlay\",\"size\":10,\"solidity\":0.2}},\"type\":\"barpolar\"}],\"pie\":[{\"automargin\":true,\"type\":\"pie\"}]},\"layout\":{\"autotypenumbers\":\"strict\",\"colorway\":[\"#636efa\",\"#EF553B\",\"#00cc96\",\"#ab63fa\",\"#FFA15A\",\"#19d3f3\",\"#FF6692\",\"#B6E880\",\"#FF97FF\",\"#FECB52\"],\"font\":{\"color\":\"#2a3f5f\"},\"hovermode\":\"closest\",\"hoverlabel\":{\"align\":\"left\"},\"paper_bgcolor\":\"white\",\"plot_bgcolor\":\"#E5ECF6\",\"polar\":{\"bgcolor\":\"#E5ECF6\",\"angularaxis\":{\"gridcolor\":\"white\",\"linecolor\":\"white\",\"ticks\":\"\"},\"radialaxis\":{\"gridcolor\":\"white\",\"linecolor\":\"white\",\"ticks\":\"\"}},\"ternary\":{\"bgcolor\":\"#E5ECF6\",\"aaxis\":{\"gridcolor\":\"white\",\"linecolor\":\"white\",\"ticks\":\"\"},\"baxis\":{\"gridcolor\":\"white\",\"linecolor\":\"white\",\"ticks\":\"\"},\"caxis\":{\"gridcolor\":\"white\",\"linecolor\":\"white\",\"ticks\":\"\"}},\"coloraxis\":{\"colorbar\":{\"outlinewidth\":0,\"ticks\":\"\"}},\"colorscale\":{\"sequential\":[[0.0,\"#0d0887\"],[0.1111111111111111,\"#46039f\"],[0.2222222222222222,\"#7201a8\"],[0.3333333333333333,\"#9c179e\"],[0.4444444444444444,\"#bd3786\"],[0.5555555555555556,\"#d8576b\"],[0.6666666666666666,\"#ed7953\"],[0.7777777777777778,\"#fb9f3a\"],[0.8888888888888888,\"#fdca26\"],[1.0,\"#f0f921\"]],\"sequentialminus\":[[0.0,\"#0d0887\"],[0.1111111111111111,\"#46039f\"],[0.2222222222222222,\"#7201a8\"],[0.3333333333333333,\"#9c179e\"],[0.4444444444444444,\"#bd3786\"],[0.5555555555555556,\"#d8576b\"],[0.6666666666666666,\"#ed7953\"],[0.7777777777777778,\"#fb9f3a\"],[0.8888888888888888,\"#fdca26\"],[1.0,\"#f0f921\"]],\"diverging\":[[0,\"#8e0152\"],[0.1,\"#c51b7d\"],[0.2,\"#de77ae\"],[0.3,\"#f1b6da\"],[0.4,\"#fde0ef\"],[0.5,\"#f7f7f7\"],[0.6,\"#e6f5d0\"],[0.7,\"#b8e186\"],[0.8,\"#7fbc41\"],[0.9,\"#4d9221\"],[1,\"#276419\"]]},\"xaxis\":{\"gridcolor\":\"white\",\"linecolor\":\"white\",\"ticks\":\"\",\"title\":{\"standoff\":15},\"zerolinecolor\":\"white\",\"automargin\":true,\"zerolinewidth\":2},\"yaxis\":{\"gridcolor\":\"white\",\"linecolor\":\"white\",\"ticks\":\"\",\"title\":{\"standoff\":15},\"zerolinecolor\":\"white\",\"automargin\":true,\"zerolinewidth\":2},\"scene\":{\"xaxis\":{\"backgroundcolor\":\"#E5ECF6\",\"gridcolor\":\"white\",\"linecolor\":\"white\",\"showbackground\":true,\"ticks\":\"\",\"zerolinecolor\":\"white\",\"gridwidth\":2},\"yaxis\":{\"backgroundcolor\":\"#E5ECF6\",\"gridcolor\":\"white\",\"linecolor\":\"white\",\"showbackground\":true,\"ticks\":\"\",\"zerolinecolor\":\"white\",\"gridwidth\":2},\"zaxis\":{\"backgroundcolor\":\"#E5ECF6\",\"gridcolor\":\"white\",\"linecolor\":\"white\",\"showbackground\":true,\"ticks\":\"\",\"zerolinecolor\":\"white\",\"gridwidth\":2}},\"shapedefaults\":{\"line\":{\"color\":\"#2a3f5f\"}},\"annotationdefaults\":{\"arrowcolor\":\"#2a3f5f\",\"arrowhead\":0,\"arrowwidth\":1},\"geo\":{\"bgcolor\":\"white\",\"landcolor\":\"#E5ECF6\",\"subunitcolor\":\"white\",\"showland\":true,\"showlakes\":true,\"lakecolor\":\"white\"},\"title\":{\"x\":0.05},\"mapbox\":{\"style\":\"light\"}}},\"xaxis\":{\"anchor\":\"y\",\"domain\":[0.0,1.0],\"title\":{\"text\":\"Jumlah Item\"}},\"yaxis\":{\"anchor\":\"x\",\"domain\":[0.0,1.0],\"title\":{\"text\":\"Grand Total\"}},\"legend\":{\"tracegroupgap\":0},\"margin\":{\"t\":60}},                        {\"responsive\": true}                    ).then(function(){\n",
              "                            \n",
              "var gd = document.getElementById('53aa0936-43bc-41f9-8c29-9b5c9a203e92');\n",
              "var x = new MutationObserver(function (mutations, observer) {{\n",
              "        var display = window.getComputedStyle(gd).display;\n",
              "        if (!display || display === 'none') {{\n",
              "            console.log([gd, 'removed!']);\n",
              "            Plotly.purge(gd);\n",
              "            observer.disconnect();\n",
              "        }}\n",
              "}});\n",
              "\n",
              "// Listen for the removal of the full notebook cells\n",
              "var notebookContainer = gd.closest('#notebook-container');\n",
              "if (notebookContainer) {{\n",
              "    x.observe(notebookContainer, {childList: true});\n",
              "}}\n",
              "\n",
              "// Listen for the clearing of the current output cell\n",
              "var outputEl = gd.closest('.output');\n",
              "if (outputEl) {{\n",
              "    x.observe(outputEl, {childList: true});\n",
              "}}\n",
              "\n",
              "                        })                };                            </script>        </div>\n",
              "</body>\n",
              "</html>"
            ]
          },
          "metadata": {}
        }
      ]
    },
    {
      "cell_type": "markdown",
      "source": [
        "Dapat terkonfirmasi bahwa semakin banyak item yang terjual, maka biayanya semakin banyak."
      ],
      "metadata": {
        "id": "gWDIfpTmuXRj"
      }
    },
    {
      "cell_type": "markdown",
      "source": [
        "#### EDA Transaction Analysis 4:\n",
        "Bagaimana hubungan antara gender customer dan grand total?"
      ],
      "metadata": {
        "id": "2EXkSx0emfy7"
      }
    },
    {
      "cell_type": "markdown",
      "source": [
        "Mula-mula dilakukan join/merge Tabel Orders dan Customer karena data gender dan grand total berada di tabel yang terpisah (Tabel join ini juga dibutuhkan pada EDA TA 5)."
      ],
      "metadata": {
        "id": "Y8k2ej2Cnvox"
      }
    },
    {
      "cell_type": "code",
      "source": [
        "df_join_ord_cust = df_ord_prep.merge(df_cust_prep, how='left', on='customer_id')\n",
        "df_join_ord_cust.head()"
      ],
      "metadata": {
        "colab": {
          "base_uri": "https://localhost:8080/"
        },
        "id": "evvGP3boeAy_",
        "outputId": "a52299fb-2a2d-44c1-8c36-91df4932cd10"
      },
      "execution_count": null,
      "outputs": [
        {
          "output_type": "execute_result",
          "data": {
            "text/plain": [
              "  order_id customer_id  item_count  grand_total payment_mode is_favorite  \\\n",
              "0   163241     9ZTJB1L           2         14.4            1         Yes   \n",
              "1   163246     6C7D1O2           3         18.2            2         Yes   \n",
              "2   163265     VCBBSUB           1          4.6            1         Yes   \n",
              "3   163274     ZBNP36W           1          5.7            1         Yes   \n",
              "4   163321     BJ1GYQY           2         15.8            1         Yes   \n",
              "\n",
              "  is_rated driver_rating  delivery_distance vendor_id        created_at_x  \\\n",
              "0       No             0                0.0        83 2019-08-01 05:31:33   \n",
              "1       No             0                0.0        83 2019-08-01 05:37:05   \n",
              "2       No             0                0.0        78 2019-08-01 06:03:59   \n",
              "3       No             0                0.0       195 2019-08-01 06:34:38   \n",
              "4       No             0                0.0        75 2019-08-01 17:06:17   \n",
              "\n",
              "  location_number created_at_date  gender   dob status verified  \\\n",
              "0               0      2019-08-01    male  1995      1        1   \n",
              "1               0      2019-08-01  female  2001      1        1   \n",
              "2               0      2019-08-01    male  1991      1        1   \n",
              "3               0      2019-08-01  female  2008      1        1   \n",
              "4               0      2019-08-01    male  2002      1        1   \n",
              "\n",
              "         created_at_y          updated_at  age  \n",
              "0 2019-02-27 21:06:48 2019-02-27 21:06:47   28  \n",
              "1 2020-01-15 02:19:43 2020-01-15 02:20:06   22  \n",
              "2 2019-11-15 21:03:25 2019-11-16 17:56:56   32  \n",
              "3 2019-06-22 00:20:11 2019-10-01 18:47:24   15  \n",
              "4 2018-12-30 22:41:48 2018-12-30 22:41:48   21  "
            ],
            "text/html": [
              "\n",
              "  <div id=\"df-fefcd592-d5ca-445b-8397-ee13a30adeab\">\n",
              "    <div class=\"colab-df-container\">\n",
              "      <div>\n",
              "<style scoped>\n",
              "    .dataframe tbody tr th:only-of-type {\n",
              "        vertical-align: middle;\n",
              "    }\n",
              "\n",
              "    .dataframe tbody tr th {\n",
              "        vertical-align: top;\n",
              "    }\n",
              "\n",
              "    .dataframe thead th {\n",
              "        text-align: right;\n",
              "    }\n",
              "</style>\n",
              "<table border=\"1\" class=\"dataframe\">\n",
              "  <thead>\n",
              "    <tr style=\"text-align: right;\">\n",
              "      <th></th>\n",
              "      <th>order_id</th>\n",
              "      <th>customer_id</th>\n",
              "      <th>item_count</th>\n",
              "      <th>grand_total</th>\n",
              "      <th>payment_mode</th>\n",
              "      <th>is_favorite</th>\n",
              "      <th>is_rated</th>\n",
              "      <th>driver_rating</th>\n",
              "      <th>delivery_distance</th>\n",
              "      <th>vendor_id</th>\n",
              "      <th>created_at_x</th>\n",
              "      <th>location_number</th>\n",
              "      <th>created_at_date</th>\n",
              "      <th>gender</th>\n",
              "      <th>dob</th>\n",
              "      <th>status</th>\n",
              "      <th>verified</th>\n",
              "      <th>created_at_y</th>\n",
              "      <th>updated_at</th>\n",
              "      <th>age</th>\n",
              "    </tr>\n",
              "  </thead>\n",
              "  <tbody>\n",
              "    <tr>\n",
              "      <th>0</th>\n",
              "      <td>163241</td>\n",
              "      <td>9ZTJB1L</td>\n",
              "      <td>2</td>\n",
              "      <td>14.4</td>\n",
              "      <td>1</td>\n",
              "      <td>Yes</td>\n",
              "      <td>No</td>\n",
              "      <td>0</td>\n",
              "      <td>0.0</td>\n",
              "      <td>83</td>\n",
              "      <td>2019-08-01 05:31:33</td>\n",
              "      <td>0</td>\n",
              "      <td>2019-08-01</td>\n",
              "      <td>male</td>\n",
              "      <td>1995</td>\n",
              "      <td>1</td>\n",
              "      <td>1</td>\n",
              "      <td>2019-02-27 21:06:48</td>\n",
              "      <td>2019-02-27 21:06:47</td>\n",
              "      <td>28</td>\n",
              "    </tr>\n",
              "    <tr>\n",
              "      <th>1</th>\n",
              "      <td>163246</td>\n",
              "      <td>6C7D1O2</td>\n",
              "      <td>3</td>\n",
              "      <td>18.2</td>\n",
              "      <td>2</td>\n",
              "      <td>Yes</td>\n",
              "      <td>No</td>\n",
              "      <td>0</td>\n",
              "      <td>0.0</td>\n",
              "      <td>83</td>\n",
              "      <td>2019-08-01 05:37:05</td>\n",
              "      <td>0</td>\n",
              "      <td>2019-08-01</td>\n",
              "      <td>female</td>\n",
              "      <td>2001</td>\n",
              "      <td>1</td>\n",
              "      <td>1</td>\n",
              "      <td>2020-01-15 02:19:43</td>\n",
              "      <td>2020-01-15 02:20:06</td>\n",
              "      <td>22</td>\n",
              "    </tr>\n",
              "    <tr>\n",
              "      <th>2</th>\n",
              "      <td>163265</td>\n",
              "      <td>VCBBSUB</td>\n",
              "      <td>1</td>\n",
              "      <td>4.6</td>\n",
              "      <td>1</td>\n",
              "      <td>Yes</td>\n",
              "      <td>No</td>\n",
              "      <td>0</td>\n",
              "      <td>0.0</td>\n",
              "      <td>78</td>\n",
              "      <td>2019-08-01 06:03:59</td>\n",
              "      <td>0</td>\n",
              "      <td>2019-08-01</td>\n",
              "      <td>male</td>\n",
              "      <td>1991</td>\n",
              "      <td>1</td>\n",
              "      <td>1</td>\n",
              "      <td>2019-11-15 21:03:25</td>\n",
              "      <td>2019-11-16 17:56:56</td>\n",
              "      <td>32</td>\n",
              "    </tr>\n",
              "    <tr>\n",
              "      <th>3</th>\n",
              "      <td>163274</td>\n",
              "      <td>ZBNP36W</td>\n",
              "      <td>1</td>\n",
              "      <td>5.7</td>\n",
              "      <td>1</td>\n",
              "      <td>Yes</td>\n",
              "      <td>No</td>\n",
              "      <td>0</td>\n",
              "      <td>0.0</td>\n",
              "      <td>195</td>\n",
              "      <td>2019-08-01 06:34:38</td>\n",
              "      <td>0</td>\n",
              "      <td>2019-08-01</td>\n",
              "      <td>female</td>\n",
              "      <td>2008</td>\n",
              "      <td>1</td>\n",
              "      <td>1</td>\n",
              "      <td>2019-06-22 00:20:11</td>\n",
              "      <td>2019-10-01 18:47:24</td>\n",
              "      <td>15</td>\n",
              "    </tr>\n",
              "    <tr>\n",
              "      <th>4</th>\n",
              "      <td>163321</td>\n",
              "      <td>BJ1GYQY</td>\n",
              "      <td>2</td>\n",
              "      <td>15.8</td>\n",
              "      <td>1</td>\n",
              "      <td>Yes</td>\n",
              "      <td>No</td>\n",
              "      <td>0</td>\n",
              "      <td>0.0</td>\n",
              "      <td>75</td>\n",
              "      <td>2019-08-01 17:06:17</td>\n",
              "      <td>0</td>\n",
              "      <td>2019-08-01</td>\n",
              "      <td>male</td>\n",
              "      <td>2002</td>\n",
              "      <td>1</td>\n",
              "      <td>1</td>\n",
              "      <td>2018-12-30 22:41:48</td>\n",
              "      <td>2018-12-30 22:41:48</td>\n",
              "      <td>21</td>\n",
              "    </tr>\n",
              "  </tbody>\n",
              "</table>\n",
              "</div>\n",
              "      <button class=\"colab-df-convert\" onclick=\"convertToInteractive('df-fefcd592-d5ca-445b-8397-ee13a30adeab')\"\n",
              "              title=\"Convert this dataframe to an interactive table.\"\n",
              "              style=\"display:none;\">\n",
              "        \n",
              "  <svg xmlns=\"http://www.w3.org/2000/svg\" height=\"24px\"viewBox=\"0 0 24 24\"\n",
              "       width=\"24px\">\n",
              "    <path d=\"M0 0h24v24H0V0z\" fill=\"none\"/>\n",
              "    <path d=\"M18.56 5.44l.94 2.06.94-2.06 2.06-.94-2.06-.94-.94-2.06-.94 2.06-2.06.94zm-11 1L8.5 8.5l.94-2.06 2.06-.94-2.06-.94L8.5 2.5l-.94 2.06-2.06.94zm10 10l.94 2.06.94-2.06 2.06-.94-2.06-.94-.94-2.06-.94 2.06-2.06.94z\"/><path d=\"M17.41 7.96l-1.37-1.37c-.4-.4-.92-.59-1.43-.59-.52 0-1.04.2-1.43.59L10.3 9.45l-7.72 7.72c-.78.78-.78 2.05 0 2.83L4 21.41c.39.39.9.59 1.41.59.51 0 1.02-.2 1.41-.59l7.78-7.78 2.81-2.81c.8-.78.8-2.07 0-2.86zM5.41 20L4 18.59l7.72-7.72 1.47 1.35L5.41 20z\"/>\n",
              "  </svg>\n",
              "      </button>\n",
              "      \n",
              "  <style>\n",
              "    .colab-df-container {\n",
              "      display:flex;\n",
              "      flex-wrap:wrap;\n",
              "      gap: 12px;\n",
              "    }\n",
              "\n",
              "    .colab-df-convert {\n",
              "      background-color: #E8F0FE;\n",
              "      border: none;\n",
              "      border-radius: 50%;\n",
              "      cursor: pointer;\n",
              "      display: none;\n",
              "      fill: #1967D2;\n",
              "      height: 32px;\n",
              "      padding: 0 0 0 0;\n",
              "      width: 32px;\n",
              "    }\n",
              "\n",
              "    .colab-df-convert:hover {\n",
              "      background-color: #E2EBFA;\n",
              "      box-shadow: 0px 1px 2px rgba(60, 64, 67, 0.3), 0px 1px 3px 1px rgba(60, 64, 67, 0.15);\n",
              "      fill: #174EA6;\n",
              "    }\n",
              "\n",
              "    [theme=dark] .colab-df-convert {\n",
              "      background-color: #3B4455;\n",
              "      fill: #D2E3FC;\n",
              "    }\n",
              "\n",
              "    [theme=dark] .colab-df-convert:hover {\n",
              "      background-color: #434B5C;\n",
              "      box-shadow: 0px 1px 3px 1px rgba(0, 0, 0, 0.15);\n",
              "      filter: drop-shadow(0px 1px 2px rgba(0, 0, 0, 0.3));\n",
              "      fill: #FFFFFF;\n",
              "    }\n",
              "  </style>\n",
              "\n",
              "      <script>\n",
              "        const buttonEl =\n",
              "          document.querySelector('#df-fefcd592-d5ca-445b-8397-ee13a30adeab button.colab-df-convert');\n",
              "        buttonEl.style.display =\n",
              "          google.colab.kernel.accessAllowed ? 'block' : 'none';\n",
              "\n",
              "        async function convertToInteractive(key) {\n",
              "          const element = document.querySelector('#df-fefcd592-d5ca-445b-8397-ee13a30adeab');\n",
              "          const dataTable =\n",
              "            await google.colab.kernel.invokeFunction('convertToInteractive',\n",
              "                                                     [key], {});\n",
              "          if (!dataTable) return;\n",
              "\n",
              "          const docLinkHtml = 'Like what you see? Visit the ' +\n",
              "            '<a target=\"_blank\" href=https://colab.research.google.com/notebooks/data_table.ipynb>data table notebook</a>'\n",
              "            + ' to learn more about interactive tables.';\n",
              "          element.innerHTML = '';\n",
              "          dataTable['output_type'] = 'display_data';\n",
              "          await google.colab.output.renderOutput(dataTable, element);\n",
              "          const docLink = document.createElement('div');\n",
              "          docLink.innerHTML = docLinkHtml;\n",
              "          element.appendChild(docLink);\n",
              "        }\n",
              "      </script>\n",
              "    </div>\n",
              "  </div>\n",
              "  "
            ]
          },
          "metadata": {},
          "execution_count": 131
        }
      ]
    },
    {
      "cell_type": "code",
      "source": [
        "sns.catplot(x=\"gender\", \n",
        "            y=\"grand_total\", palette=\"flare\", kind=\"box\", data=df_join_ord_cust)\n",
        "plt.xlabel(\"Gender\")\n",
        "plt.ylabel(\"Grand Total\")\n",
        "plt.show()"
      ],
      "metadata": {
        "colab": {
          "base_uri": "https://localhost:8080/"
        },
        "id": "XOG39l4rfOvu",
        "outputId": "860f4a27-da42-4427-ed2e-c9a4da3f6eac"
      },
      "execution_count": null,
      "outputs": [
        {
          "output_type": "display_data",
          "data": {
            "text/plain": [
              "<Figure size 500x500 with 1 Axes>"
            ],
            "image/png": "[encoded data removed]"
          },
          "metadata": {}
        }
      ]
    },
    {
      "cell_type": "markdown",
      "source": [
        "Hasil visualisasi di atas tidak terlalu menunjukkan perbedaan signifikan dari kontibusi male dan female dalam proses transaksi."
      ],
      "metadata": {
        "id": "H8kvVxq3oWPw"
      }
    },
    {
      "cell_type": "markdown",
      "source": [
        "#### EDA Transaction Analysis 5:\n",
        "Bagaimana hubungan antara umur customer dan grand total?"
      ],
      "metadata": {
        "id": "SBsiYGULmjO_"
      }
    },
    {
      "cell_type": "code",
      "source": [
        "h = sns.catplot(x=\"age\", \n",
        "            y=\"grand_total\", palette=\"flare\", kind=\"box\", data=df_join_ord_cust)\n",
        "h.fig.set_size_inches(20,8)\n",
        "h.set_xticklabels(rotation=90)\n",
        "plt.xlabel(\"Gender\")\n",
        "plt.ylabel(\"Grand Total\")\n",
        "plt.show()"
      ],
      "metadata": {
        "colab": {
          "base_uri": "https://localhost:8080/"
        },
        "id": "9S7ckMPCgmUe",
        "outputId": "c9f2a55c-cad9-41d7-b38a-d8cae0776af2"
      },
      "execution_count": null,
      "outputs": [
        {
          "output_type": "display_data",
          "data": {
            "text/plain": [
              "<Figure size 2000x800 with 1 Axes>"
            ],
            "image/png": "[encoded data removed]"
          },
          "metadata": {}
        }
      ]
    },
    {
      "cell_type": "markdown",
      "source": [
        "Informasi yang dapat diperoleh dari informasi di atas adalah bahwa nilai tengah grand total untuk masing umur sekitar 15 hingga 20, namun jika diperhatikan outlier yang dihasilkan bahwa penyumbang grand total yang besar didominasi oleh customer dengan rentang umur 16 hingga 32 tahun dengan jumlah transaksi terbesar dilakukan oleh customer dengan umur 21 tahun."
      ],
      "metadata": {
        "id": "eDeR4cFjo_SA"
      }
    },
    {
      "cell_type": "markdown",
      "source": [
        "#### EDA Transaction Analysis 6:\n",
        "Bagaimana proporsi dari payment mode?"
      ],
      "metadata": {
        "id": "fLqmR1XQ27CN"
      }
    },
    {
      "cell_type": "code",
      "source": [
        "sns.catplot(x=\"payment_mode\", kind=\"count\", palette=\"flare\", data=df_ord_prep)\n",
        "plt.xlabel(\"Payment Mode\")\n",
        "plt.ylabel(\"Count of Payment Mode\")\n",
        "plt.show()"
      ],
      "metadata": {
        "colab": {
          "base_uri": "https://localhost:8080/"
        },
        "id": "nWYYz-kz3dFd",
        "outputId": "1d9c3b9a-b648-4e31-a9c4-76afc0aa97fd"
      },
      "execution_count": null,
      "outputs": [
        {
          "output_type": "display_data",
          "data": {
            "text/plain": [
              "<Figure size 500x500 with 1 Axes>"
            ],
            "image/png": "[encoded data removed]"
          },
          "metadata": {}
        }
      ]
    },
    {
      "cell_type": "markdown",
      "source": [
        "Hasil visualisasi menunjukkan bahwa tipe Payment Mode 1 paling banyak digunakan untuk bertransaksi, sehingga untuk ke depannya dapat memaksimalkan tata cara Payment Mode 1."
      ],
      "metadata": {
        "id": "9onXRJXd5jqg"
      }
    },
    {
      "cell_type": "markdown",
      "source": [
        "#### EDA Transaction Analysis 7:\n",
        "Bagaimana proporsi dari driver rating?"
      ],
      "metadata": {
        "id": "GKiiLcKG4tsC"
      }
    },
    {
      "cell_type": "code",
      "source": [
        "sns.catplot(x=\"driver_rating\", kind=\"count\", palette=\"flare\", data=df_ord_prep)\n",
        "plt.xlabel(\"Driver Rating\")\n",
        "plt.ylabel(\"Count of Driver Rating\")\n",
        "plt.show()"
      ],
      "metadata": {
        "colab": {
          "base_uri": "https://localhost:8080/"
        },
        "id": "PiivhTiq28N3",
        "outputId": "f9a4469e-6913-47a7-9328-62a6776113aa"
      },
      "execution_count": null,
      "outputs": [
        {
          "output_type": "display_data",
          "data": {
            "text/plain": [
              "<Figure size 500x500 with 1 Axes>"
            ],
            "image/png": "[encoded data removed]"
          },
          "metadata": {}
        }
      ]
    },
    {
      "cell_type": "markdown",
      "source": [
        "Informasi yang dapat diperoleh adalah bahwa rating driver terbanyak adalah 0. Hal ini dapat ditelusuri lebih lanjut mengapa rating driver terbanyak adalah 0 agar dapat memuaskan customer dalam waktu ke depan."
      ],
      "metadata": {
        "id": "BGj5G-r86CWn"
      }
    },
    {
      "cell_type": "markdown",
      "source": [
        "#### EDA Transaction Analysis 8:\n",
        "Bagaimana proporsi dari nomor lokasi?"
      ],
      "metadata": {
        "id": "5gua8U394uCn"
      }
    },
    {
      "cell_type": "code",
      "source": [
        "sns.catplot(x=\"location_number\", kind=\"count\", palette=\"flare\", data=df_ord_prep)\n",
        "plt.xlabel(\"Location Number\")\n",
        "plt.ylabel(\"Count of Location Number\")\n",
        "plt.show()"
      ],
      "metadata": {
        "colab": {
          "base_uri": "https://localhost:8080/"
        },
        "id": "eocjd5qm3mIO",
        "outputId": "bedc3d6b-f0d6-46b7-f74b-8be69e0da0b5"
      },
      "execution_count": null,
      "outputs": [
        {
          "output_type": "display_data",
          "data": {
            "text/plain": [
              "<Figure size 500x500 with 1 Axes>"
            ],
            "image/png": "[encoded data removed]"
          },
          "metadata": {}
        }
      ]
    },
    {
      "cell_type": "markdown",
      "source": [
        "Informasi yang dapat diperoleh adalah bahwa nomor lokasi customer terbanyak adalah 0, sehingga untuk ke depannya dapat memaksimalkan pengiriman ke nomor lokasi 0 dan juga bisa dipetimbangkan untuk menambahkan cabang di lokasi nomor 0."
      ],
      "metadata": {
        "id": "4b06LzYf7LgY"
      }
    },
    {
      "cell_type": "markdown",
      "source": [
        "### Vendor Profiling"
      ],
      "metadata": {
        "id": "oEgZQ5o17sVf"
      }
    },
    {
      "cell_type": "markdown",
      "source": [
        "Vendor Profiling:\n",
        "1. Berapakah proporsi vendor yang melakukan suplai produk?\n",
        "2. Berapakah proporsi kategori dari vendor?\n",
        "3. Berapakah proporsi rating dari vendor?"
      ],
      "metadata": {
        "id": "P2PEWc8EACzZ"
      }
    },
    {
      "cell_type": "markdown",
      "source": [
        "#### EDA Vendor Profiling 1:\n",
        "Berapakah proporsi vendor yang melakukan suply produk?"
      ],
      "metadata": {
        "id": "RoDOxEtuAfUT"
      }
    },
    {
      "cell_type": "code",
      "source": [
        "i = sns.catplot(x=\"vendor_id\", kind=\"count\", palette=\"flare\", data=df_ord_prep)\n",
        "i.fig.set_size_inches(20,8)\n",
        "i.set_xticklabels(rotation=90)\n",
        "plt.xlabel(\"Vendor ID\")\n",
        "plt.ylabel(\"Count of Vendor ID\")\n",
        "plt.show()"
      ],
      "metadata": {
        "colab": {
          "base_uri": "https://localhost:8080/",
          "height": 775
        },
        "id": "QFW1pkS7_QcM",
        "outputId": "9ef25300-6dc2-4416-8329-89c1a22d7327"
      },
      "execution_count": null,
      "outputs": [
        {
          "output_type": "display_data",
          "data": {
            "text/plain": [
              "<Figure size 2000x800 with 1 Axes>"
            ],
            "image/png": "[encoded data removed]"
          },
          "metadata": {}
        }
      ]
    },
    {
      "cell_type": "markdown",
      "source": [
        "Dari hasil visualisasi di atas, diperoleh bahwa vendor yang paling banyak melakukan suplai produk adalah vendor dengan vendor id 113, diikuti dengan vendor id 105, 79, 84, 78. Dengan diketahui beberapa vendor yang paling banyak melakukan suply produk, maka dapat dijadikan pertimbangan vendor mana saja yang bisa berlanjut untuk mensuplai produk."
      ],
      "metadata": {
        "id": "96s4V60VAn9y"
      }
    },
    {
      "cell_type": "markdown",
      "source": [
        "#### EDA Vendor Profiling 2:\n",
        "Berapakah proporsi kategori dari vendor?"
      ],
      "metadata": {
        "id": "kCaNvUP-AhK0"
      }
    },
    {
      "cell_type": "code",
      "source": [
        "sns.catplot(x=\"vendor_category_en\", kind=\"count\", palette=\"flare\", data=df_ven_prep)\n",
        "plt.xlabel(\"Vendor Category\")\n",
        "plt.ylabel(\"Count of Vendor Category\")\n",
        "plt.show()"
      ],
      "metadata": {
        "colab": {
          "base_uri": "https://localhost:8080/",
          "height": 506
        },
        "id": "yxS4t1gpFRie",
        "outputId": "1af09728-66c8-4d4e-8a7a-cbf4c5e39ea2"
      },
      "execution_count": null,
      "outputs": [
        {
          "output_type": "display_data",
          "data": {
            "text/plain": [
              "<Figure size 500x500 with 1 Axes>"
            ],
            "image/png": "[encoded data removed]"
          },
          "metadata": {}
        }
      ]
    },
    {
      "cell_type": "markdown",
      "source": [
        "Hasil di atas menunjukkan bahwa kategori vendor paling banyak adalah restoran."
      ],
      "metadata": {
        "id": "VqqDr3EpGYUk"
      }
    },
    {
      "cell_type": "markdown",
      "source": [
        "#### EDA Vendor Profiling 3:\n",
        "Berapakah proporsi rating dari vendor?"
      ],
      "metadata": {
        "id": "Tgn2RnMMFSQN"
      }
    },
    {
      "cell_type": "code",
      "source": [
        "j = sns.catplot(x=\"vendor_rating\", kind=\"count\", palette=\"flare\", data=df_ven_prep)\n",
        "j.fig.set_size_inches(20,8)\n",
        "j.set_xticklabels(rotation=90)\n",
        "plt.xlabel(\"Vendor Rating\")\n",
        "plt.ylabel(\"Count of Vendor Rating\")\n",
        "plt.show()"
      ],
      "metadata": {
        "colab": {
          "base_uri": "https://localhost:8080/",
          "height": 790
        },
        "id": "87SWV_VADrC8",
        "outputId": "8514dadc-7131-40ff-c910-d4a073b4c2e5"
      },
      "execution_count": null,
      "outputs": [
        {
          "output_type": "display_data",
          "data": {
            "text/plain": [
              "<Figure size 2000x800 with 1 Axes>"
            ],
            "image/png": "[encoded data removed]"
          },
          "metadata": {}
        }
      ]
    },
    {
      "cell_type": "markdown",
      "source": [
        "Hasil di atas menunjukkan bahwa rating vendor terbanyak berkisar antara 4,2 hingga 4,5. Hal ini berarti bahwa vendor-vendor sudah sangat memuaskan. Jadi bisa dipertimbangkan untuk cut off vendor dengan rating di bawah 4,2."
      ],
      "metadata": {
        "id": "DXN-7x9yGj7n"
      }
    },
    {
      "cell_type": "code",
      "source": [
        "df_ven_prep_2 = df_ven_prep.copy()"
      ],
      "metadata": {
        "id": "vejgfpiYq9ha"
      },
      "execution_count": null,
      "outputs": []
    },
    {
      "cell_type": "code",
      "source": [
        "df_ven_prep_2['vendor_rating'] = df_ven_prep_2['vendor_rating'].astype(float)\n",
        "df_ven_prep_2.dtypes"
      ],
      "metadata": {
        "colab": {
          "base_uri": "https://localhost:8080/"
        },
        "id": "LfbJD8tUrDs7",
        "outputId": "998b887f-979b-4bba-af3f-df3c8d5f5d6f"
      },
      "execution_count": null,
      "outputs": [
        {
          "output_type": "execute_result",
          "data": {
            "text/plain": [
              "vendor_id                      object\n",
              "authentication_id              object\n",
              "latitude                      float64\n",
              "longitude                     float64\n",
              "vendor_category_en             object\n",
              "delivery_charge               float64\n",
              "serving_distance              float64\n",
              "is_open                        object\n",
              "opening_time                   object\n",
              "preparation_time                int64\n",
              "discount_percentage           float64\n",
              "status                         object\n",
              "verified                       object\n",
              "rank                           object\n",
              "vendor_rating                 float64\n",
              "vendor_tag                     object\n",
              "vendor_tag_name                object\n",
              "created_at             datetime64[ns]\n",
              "updated_at             datetime64[ns]\n",
              "device_type                    object\n",
              "dtype: object"
            ]
          },
          "metadata": {},
          "execution_count": 136
        }
      ]
    },
    {
      "cell_type": "code",
      "source": [
        "sliced_data_2 = df_ven_prep_2.groupby(by=['vendor_id'], dropna=False).mean()['vendor_rating'].reset_index()\n",
        "sliced_data_2.head()"
      ],
      "metadata": {
        "colab": {
          "base_uri": "https://localhost:8080/",
          "height": 206
        },
        "id": "0-tI86iprp3_",
        "outputId": "a8091be3-4f29-4192-8687-f920098e3b18"
      },
      "execution_count": null,
      "outputs": [
        {
          "output_type": "execute_result",
          "data": {
            "text/plain": [
              "  vendor_id  vendor_rating\n",
              "0       104            4.5\n",
              "1       105            4.5\n",
              "2       106            4.5\n",
              "3       110            4.6\n",
              "4       113            4.7"
            ],
            "text/html": [
              "\n",
              "  <div id=\"df-11c1b07d-dfde-43ab-8ac2-831f9f0c3b0a\">\n",
              "    <div class=\"colab-df-container\">\n",
              "      <div>\n",
              "<style scoped>\n",
              "    .dataframe tbody tr th:only-of-type {\n",
              "        vertical-align: middle;\n",
              "    }\n",
              "\n",
              "    .dataframe tbody tr th {\n",
              "        vertical-align: top;\n",
              "    }\n",
              "\n",
              "    .dataframe thead th {\n",
              "        text-align: right;\n",
              "    }\n",
              "</style>\n",
              "<table border=\"1\" class=\"dataframe\">\n",
              "  <thead>\n",
              "    <tr style=\"text-align: right;\">\n",
              "      <th></th>\n",
              "      <th>vendor_id</th>\n",
              "      <th>vendor_rating</th>\n",
              "    </tr>\n",
              "  </thead>\n",
              "  <tbody>\n",
              "    <tr>\n",
              "      <th>0</th>\n",
              "      <td>104</td>\n",
              "      <td>4.5</td>\n",
              "    </tr>\n",
              "    <tr>\n",
              "      <th>1</th>\n",
              "      <td>105</td>\n",
              "      <td>4.5</td>\n",
              "    </tr>\n",
              "    <tr>\n",
              "      <th>2</th>\n",
              "      <td>106</td>\n",
              "      <td>4.5</td>\n",
              "    </tr>\n",
              "    <tr>\n",
              "      <th>3</th>\n",
              "      <td>110</td>\n",
              "      <td>4.6</td>\n",
              "    </tr>\n",
              "    <tr>\n",
              "      <th>4</th>\n",
              "      <td>113</td>\n",
              "      <td>4.7</td>\n",
              "    </tr>\n",
              "  </tbody>\n",
              "</table>\n",
              "</div>\n",
              "      <button class=\"colab-df-convert\" onclick=\"convertToInteractive('df-11c1b07d-dfde-43ab-8ac2-831f9f0c3b0a')\"\n",
              "              title=\"Convert this dataframe to an interactive table.\"\n",
              "              style=\"display:none;\">\n",
              "        \n",
              "  <svg xmlns=\"http://www.w3.org/2000/svg\" height=\"24px\"viewBox=\"0 0 24 24\"\n",
              "       width=\"24px\">\n",
              "    <path d=\"M0 0h24v24H0V0z\" fill=\"none\"/>\n",
              "    <path d=\"M18.56 5.44l.94 2.06.94-2.06 2.06-.94-2.06-.94-.94-2.06-.94 2.06-2.06.94zm-11 1L8.5 8.5l.94-2.06 2.06-.94-2.06-.94L8.5 2.5l-.94 2.06-2.06.94zm10 10l.94 2.06.94-2.06 2.06-.94-2.06-.94-.94-2.06-.94 2.06-2.06.94z\"/><path d=\"M17.41 7.96l-1.37-1.37c-.4-.4-.92-.59-1.43-.59-.52 0-1.04.2-1.43.59L10.3 9.45l-7.72 7.72c-.78.78-.78 2.05 0 2.83L4 21.41c.39.39.9.59 1.41.59.51 0 1.02-.2 1.41-.59l7.78-7.78 2.81-2.81c.8-.78.8-2.07 0-2.86zM5.41 20L4 18.59l7.72-7.72 1.47 1.35L5.41 20z\"/>\n",
              "  </svg>\n",
              "      </button>\n",
              "      \n",
              "  <style>\n",
              "    .colab-df-container {\n",
              "      display:flex;\n",
              "      flex-wrap:wrap;\n",
              "      gap: 12px;\n",
              "    }\n",
              "\n",
              "    .colab-df-convert {\n",
              "      background-color: #E8F0FE;\n",
              "      border: none;\n",
              "      border-radius: 50%;\n",
              "      cursor: pointer;\n",
              "      display: none;\n",
              "      fill: #1967D2;\n",
              "      height: 32px;\n",
              "      padding: 0 0 0 0;\n",
              "      width: 32px;\n",
              "    }\n",
              "\n",
              "    .colab-df-convert:hover {\n",
              "      background-color: #E2EBFA;\n",
              "      box-shadow: 0px 1px 2px rgba(60, 64, 67, 0.3), 0px 1px 3px 1px rgba(60, 64, 67, 0.15);\n",
              "      fill: #174EA6;\n",
              "    }\n",
              "\n",
              "    [theme=dark] .colab-df-convert {\n",
              "      background-color: #3B4455;\n",
              "      fill: #D2E3FC;\n",
              "    }\n",
              "\n",
              "    [theme=dark] .colab-df-convert:hover {\n",
              "      background-color: #434B5C;\n",
              "      box-shadow: 0px 1px 3px 1px rgba(0, 0, 0, 0.15);\n",
              "      filter: drop-shadow(0px 1px 2px rgba(0, 0, 0, 0.3));\n",
              "      fill: #FFFFFF;\n",
              "    }\n",
              "  </style>\n",
              "\n",
              "      <script>\n",
              "        const buttonEl =\n",
              "          document.querySelector('#df-11c1b07d-dfde-43ab-8ac2-831f9f0c3b0a button.colab-df-convert');\n",
              "        buttonEl.style.display =\n",
              "          google.colab.kernel.accessAllowed ? 'block' : 'none';\n",
              "\n",
              "        async function convertToInteractive(key) {\n",
              "          const element = document.querySelector('#df-11c1b07d-dfde-43ab-8ac2-831f9f0c3b0a');\n",
              "          const dataTable =\n",
              "            await google.colab.kernel.invokeFunction('convertToInteractive',\n",
              "                                                     [key], {});\n",
              "          if (!dataTable) return;\n",
              "\n",
              "          const docLinkHtml = 'Like what you see? Visit the ' +\n",
              "            '<a target=\"_blank\" href=https://colab.research.google.com/notebooks/data_table.ipynb>data table notebook</a>'\n",
              "            + ' to learn more about interactive tables.';\n",
              "          element.innerHTML = '';\n",
              "          dataTable['output_type'] = 'display_data';\n",
              "          await google.colab.output.renderOutput(dataTable, element);\n",
              "          const docLink = document.createElement('div');\n",
              "          docLink.innerHTML = docLinkHtml;\n",
              "          element.appendChild(docLink);\n",
              "        }\n",
              "      </script>\n",
              "    </div>\n",
              "  </div>\n",
              "  "
            ]
          },
          "metadata": {},
          "execution_count": 142
        }
      ]
    },
    {
      "cell_type": "code",
      "source": [
        "k =sns.catplot(x=\"vendor_id\", y=\"vendor_rating\", kind=\"bar\", palette=\"flare\", data=sliced_data_2)\n",
        "k.fig.set_size_inches(20,8)\n",
        "k.set_xticklabels(rotation=90)\n",
        "plt.xlabel(\"Vendor ID\")\n",
        "plt.ylabel(\"Average Rating\")\n",
        "plt.show()"
      ],
      "metadata": {
        "colab": {
          "base_uri": "https://localhost:8080/",
          "height": 747
        },
        "id": "o3t46NiKhhZ1",
        "outputId": "79af48d1-3048-437f-b822-e9659712eb27"
      },
      "execution_count": null,
      "outputs": [
        {
          "output_type": "display_data",
          "data": {
            "text/plain": [
              "<Figure size 2000x800 with 1 Axes>"
            ],
            "image/png": "[encoded data removed]"
          },
          "metadata": {}
        }
      ]
    },
    {
      "cell_type": "code",
      "source": [],
      "metadata": {
        "id": "cGZ7mBgfrhF5"
      },
      "execution_count": null,
      "outputs": []
    },
    {
      "cell_type": "markdown",
      "source": [
        "## **Insight and Recommendations**"
      ],
      "metadata": {
        "id": "zL2BWLZjOFKg"
      }
    },
    {
      "cell_type": "markdown",
      "source": [
        "### Insights"
      ],
      "metadata": {
        "id": "Xgt_ip4bOLiI"
      }
    },
    {
      "cell_type": "markdown",
      "source": [
        "Insight: \\\n",
        "1. Dari segi generasi, customer yang banyak melakukan transaksi adalah customer dengan generasi milenial dan generasi Z\n",
        "2. Terdapat lonjakan transaksi pada suatu hari di Bulan Oktober 2019\n",
        "3.Diperoleh vendor dengan rating tinggi dan rating rendah\n"
      ],
      "metadata": {
        "id": "D3OkXdiaOQ_Q"
      }
    },
    {
      "cell_type": "markdown",
      "source": [
        "### Recommendations"
      ],
      "metadata": {
        "id": "v-98Fq-9ONC5"
      }
    },
    {
      "cell_type": "markdown",
      "source": [
        "Recommendations: \\\n",
        "1. Melakukan analisis lebih lanjut mengenai produk favorit dari customer dengan generasi tersebut\n",
        "2. Melakukan analisis lebih lanjut mengenai hari tersebut\n",
        "3. Melanjutkan menggunakan vendor dengan rating tinggi dan meninggalkan vendor dengan rating rendah\n"
      ],
      "metadata": {
        "id": "yonBqLjeOenk"
      }
    }
  ]
}